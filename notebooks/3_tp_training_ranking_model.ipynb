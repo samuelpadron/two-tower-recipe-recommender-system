{
 "cells": [
  {
   "cell_type": "code",
   "execution_count": 1,
   "metadata": {},
   "outputs": [],
   "source": [
    "import time\n",
    "\n",
    "notebook_start_time = time.time()"
   ]
  },
  {
   "cell_type": "markdown",
   "metadata": {},
   "source": [
    "# Set up environment"
   ]
  },
  {
   "cell_type": "code",
   "execution_count": 2,
   "metadata": {},
   "outputs": [
    {
     "name": "stdout",
     "output_type": "stream",
     "text": [
      "⛳️ Local environment\n",
      "Adding the following directory to the PYTHONPATH: /Users/pauliusztin/Documents/01_projects/hopsworks_recsys/hands-on-recommender-system\n"
     ]
    }
   ],
   "source": [
    "import sys\n",
    "from pathlib import Path\n",
    "\n",
    "\n",
    "def is_google_colab() -> bool:\n",
    "    if \"google.colab\" in str(get_ipython()):\n",
    "        return True\n",
    "    return False\n",
    "\n",
    "\n",
    "def clone_repository() -> None:\n",
    "    !git clone https://github.com/decodingml/hands-on-recommender-system.git\n",
    "    %cd hands-on-recommender-system/\n",
    "\n",
    "\n",
    "def install_dependencies() -> None:\n",
    "    !pip install --upgrade uv\n",
    "    !uv pip install --all-extras --system --requirement pyproject.toml\n",
    "\n",
    "\n",
    "if is_google_colab():\n",
    "    clone_repository()\n",
    "    install_dependencies()\n",
    "\n",
    "    root_dir = str(Path().absolute())\n",
    "    print(\"⛳️ Google Colab environment\")\n",
    "else:\n",
    "    root_dir = str(Path().absolute().parent)\n",
    "    print(\"⛳️ Local environment\")\n",
    "\n",
    "# Add the root directory to the `PYTHONPATH` to use the `recsys` Python module from the notebook.\n",
    "if root_dir not in sys.path:\n",
    "    print(f\"Adding the following directory to the PYTHONPATH: {root_dir}\")\n",
    "    sys.path.append(root_dir)"
   ]
  },
  {
   "cell_type": "markdown",
   "metadata": {},
   "source": [
    "# 🧬 Training pipeline: Training ranking model </span>\n",
    "\n",
    "In this notebook, you will train a ranking model using gradient boosted trees. "
   ]
  },
  {
   "cell_type": "markdown",
   "metadata": {},
   "source": [
    "## 📝 Imports"
   ]
  },
  {
   "cell_type": "code",
   "execution_count": 3,
   "metadata": {},
   "outputs": [],
   "source": [
    "%load_ext autoreload\n",
    "%autoreload 2\n",
    "\n",
    "import warnings\n",
    "\n",
    "warnings.filterwarnings(\"ignore\")\n",
    "\n",
    "from loguru import logger\n",
    "\n",
    "from recsys import hopsworks_integration, training\n",
    "from recsys.config import settings"
   ]
  },
  {
   "cell_type": "markdown",
   "metadata": {},
   "source": [
    "## Constants"
   ]
  },
  {
   "cell_type": "code",
   "execution_count": 4,
   "metadata": {},
   "outputs": [
    {
     "name": "stdout",
     "output_type": "stream",
     "text": [
      "{'CUSTOMER_DATA_SIZE': <CustomerDatasetSize.SMALL: 'SMALL'>,\n",
      " 'FEATURES_EMBEDDING_MODEL_ID': 'all-MiniLM-L6-v2',\n",
      " 'HOPSWORKS_API_KEY': SecretStr('**********'),\n",
      " 'RECSYS_DIR': PosixPath('/Users/pauliusztin/Documents/01_projects/hopsworks_recsys/hands-on-recommender-system/recsys'),\n",
      " 'TWO_TOWER_DATASET_TEST_SPLIT_SIZE': 0.1,\n",
      " 'TWO_TOWER_DATASET_VALIDATON_SPLIT_SIZE': 0.1,\n",
      " 'TWO_TOWER_LEARNING_RATE': 0.01,\n",
      " 'TWO_TOWER_MODEL_BATCH_SIZE': 2048,\n",
      " 'TWO_TOWER_MODEL_EMBEDDING_SIZE': 16,\n",
      " 'TWO_TOWER_NUM_EPOCHS': 10,\n",
      " 'TWO_TOWER_WEIGHT_DECAY': 0.001}\n"
     ]
    }
   ],
   "source": [
    "from pprint import pprint\n",
    "\n",
    "pprint(dict(settings))"
   ]
  },
  {
   "cell_type": "markdown",
   "metadata": {},
   "source": [
    "## <span style=\"color:#ff5f27\">🔮 Connect to Hopsworks Feature Store </span>"
   ]
  },
  {
   "cell_type": "code",
   "execution_count": 5,
   "metadata": {},
   "outputs": [
    {
     "name": "stderr",
     "output_type": "stream",
     "text": [
      "\u001b[32m2024-11-21 13:22:48.327\u001b[0m | \u001b[1mINFO    \u001b[0m | \u001b[36mrecsys.hopsworks_integration.feature_store\u001b[0m:\u001b[36mget_feature_store\u001b[0m:\u001b[36m12\u001b[0m - \u001b[1mLoging to Hopsworks using HOPSWORKS_API_KEY env var.\u001b[0m\n"
     ]
    },
    {
     "name": "stdout",
     "output_type": "stream",
     "text": [
      "Connected. Call `.close()` to terminate connection gracefully.\n",
      "\n",
      "Logged in to project, explore it here https://c.app.hopsworks.ai:443/p/15551\n",
      "Connected. Call `.close()` to terminate connection gracefully.\n"
     ]
    }
   ],
   "source": [
    "project, fs = hopsworks_integration.get_feature_store()"
   ]
  },
  {
   "cell_type": "markdown",
   "metadata": {},
   "source": [
    "# Getting the training data"
   ]
  },
  {
   "cell_type": "code",
   "execution_count": 6,
   "metadata": {},
   "outputs": [
    {
     "name": "stdout",
     "output_type": "stream",
     "text": [
      "Feature view created successfully, explore it at \n",
      "https://c.app.hopsworks.ai:443/p/15551/fs/15471/fv/customers/version/1\n",
      "Feature view created successfully, explore it at \n",
      "https://c.app.hopsworks.ai:443/p/15551/fs/15471/fv/articles/version/1\n",
      "Feature view created successfully, explore it at \n",
      "https://c.app.hopsworks.ai:443/p/15551/fs/15471/fv/ranking/version/1\n"
     ]
    }
   ],
   "source": [
    "feature_view_ranking = hopsworks_integration.feature_store.create_ranking_feature_views(\n",
    "    fs\n",
    ")"
   ]
  },
  {
   "cell_type": "code",
   "execution_count": 7,
   "metadata": {},
   "outputs": [
    {
     "name": "stdout",
     "output_type": "stream",
     "text": [
      "Finished: Reading data from Hopsworks, using Hopsworks Feature Query Service (10.83s) \n",
      "2024-11-21 13:23:12,581 WARNING: VersionWarning: Incremented version to `1`.\n",
      "\n"
     ]
    },
    {
     "data": {
      "text/html": [
       "<div>\n",
       "<style scoped>\n",
       "    .dataframe tbody tr th:only-of-type {\n",
       "        vertical-align: middle;\n",
       "    }\n",
       "\n",
       "    .dataframe tbody tr th {\n",
       "        vertical-align: top;\n",
       "    }\n",
       "\n",
       "    .dataframe thead th {\n",
       "        text-align: right;\n",
       "    }\n",
       "</style>\n",
       "<table border=\"1\" class=\"dataframe\">\n",
       "  <thead>\n",
       "    <tr style=\"text-align: right;\">\n",
       "      <th></th>\n",
       "      <th>age</th>\n",
       "      <th>month_sin</th>\n",
       "      <th>month_cos</th>\n",
       "      <th>product_type_name</th>\n",
       "      <th>product_group_name</th>\n",
       "      <th>graphical_appearance_name</th>\n",
       "      <th>colour_group_name</th>\n",
       "      <th>perceived_colour_value_name</th>\n",
       "      <th>perceived_colour_master_name</th>\n",
       "      <th>department_name</th>\n",
       "      <th>index_name</th>\n",
       "      <th>index_group_name</th>\n",
       "      <th>section_name</th>\n",
       "      <th>garment_group_name</th>\n",
       "    </tr>\n",
       "  </thead>\n",
       "  <tbody>\n",
       "    <tr>\n",
       "      <th>1</th>\n",
       "      <td>21.0</td>\n",
       "      <td>-0.866025</td>\n",
       "      <td>-0.500000</td>\n",
       "      <td>Trousers</td>\n",
       "      <td>Garment Lower body</td>\n",
       "      <td>Solid</td>\n",
       "      <td>Black</td>\n",
       "      <td>Dark</td>\n",
       "      <td>Black</td>\n",
       "      <td>Trousers</td>\n",
       "      <td>Divided</td>\n",
       "      <td>Divided</td>\n",
       "      <td>Divided Collection</td>\n",
       "      <td>Trousers</td>\n",
       "    </tr>\n",
       "    <tr>\n",
       "      <th>2</th>\n",
       "      <td>23.0</td>\n",
       "      <td>-0.500000</td>\n",
       "      <td>-0.866025</td>\n",
       "      <td>Leggings/Tights</td>\n",
       "      <td>Garment Lower body</td>\n",
       "      <td>Check</td>\n",
       "      <td>Grey</td>\n",
       "      <td>Medium Dusty</td>\n",
       "      <td>Grey</td>\n",
       "      <td>Jersey fancy</td>\n",
       "      <td>Ladieswear</td>\n",
       "      <td>Ladieswear</td>\n",
       "      <td>Womens Everyday Collection</td>\n",
       "      <td>Jersey Fancy</td>\n",
       "    </tr>\n",
       "    <tr>\n",
       "      <th>3</th>\n",
       "      <td>40.0</td>\n",
       "      <td>0.500000</td>\n",
       "      <td>-0.866025</td>\n",
       "      <td>Top</td>\n",
       "      <td>Garment Upper body</td>\n",
       "      <td>Front print</td>\n",
       "      <td>Light Beige</td>\n",
       "      <td>Dusty Light</td>\n",
       "      <td>Beige</td>\n",
       "      <td>Jersey Fancy DS</td>\n",
       "      <td>Divided</td>\n",
       "      <td>Divided</td>\n",
       "      <td>Divided Selected</td>\n",
       "      <td>Jersey Fancy</td>\n",
       "    </tr>\n",
       "  </tbody>\n",
       "</table>\n",
       "</div>"
      ],
      "text/plain": [
       "    age  month_sin  month_cos product_type_name  product_group_name  \\\n",
       "1  21.0  -0.866025  -0.500000          Trousers  Garment Lower body   \n",
       "2  23.0  -0.500000  -0.866025   Leggings/Tights  Garment Lower body   \n",
       "3  40.0   0.500000  -0.866025               Top  Garment Upper body   \n",
       "\n",
       "  graphical_appearance_name colour_group_name perceived_colour_value_name  \\\n",
       "1                     Solid             Black                        Dark   \n",
       "2                     Check              Grey                Medium Dusty   \n",
       "3               Front print       Light Beige                 Dusty Light   \n",
       "\n",
       "  perceived_colour_master_name  department_name  index_name index_group_name  \\\n",
       "1                        Black         Trousers     Divided          Divided   \n",
       "2                         Grey     Jersey fancy  Ladieswear       Ladieswear   \n",
       "3                        Beige  Jersey Fancy DS     Divided          Divided   \n",
       "\n",
       "                 section_name garment_group_name  \n",
       "1          Divided Collection           Trousers  \n",
       "2  Womens Everyday Collection       Jersey Fancy  \n",
       "3            Divided Selected       Jersey Fancy  "
      ]
     },
     "execution_count": 7,
     "metadata": {},
     "output_type": "execute_result"
    }
   ],
   "source": [
    "X_train, X_val, y_train, y_val = feature_view_ranking.train_test_split(\n",
    "    test_size=settings.RANKING_DATASET_VALIDATON_SPLIT_SIZE,\n",
    "    description=\"Ranking training dataset\",\n",
    ")\n",
    "X_train.head(3)"
   ]
  },
  {
   "cell_type": "code",
   "execution_count": 8,
   "metadata": {},
   "outputs": [
    {
     "data": {
      "text/html": [
       "<div>\n",
       "<style scoped>\n",
       "    .dataframe tbody tr th:only-of-type {\n",
       "        vertical-align: middle;\n",
       "    }\n",
       "\n",
       "    .dataframe tbody tr th {\n",
       "        vertical-align: top;\n",
       "    }\n",
       "\n",
       "    .dataframe thead th {\n",
       "        text-align: right;\n",
       "    }\n",
       "</style>\n",
       "<table border=\"1\" class=\"dataframe\">\n",
       "  <thead>\n",
       "    <tr style=\"text-align: right;\">\n",
       "      <th></th>\n",
       "      <th>label</th>\n",
       "    </tr>\n",
       "  </thead>\n",
       "  <tbody>\n",
       "    <tr>\n",
       "      <th>1</th>\n",
       "      <td>0</td>\n",
       "    </tr>\n",
       "    <tr>\n",
       "      <th>2</th>\n",
       "      <td>1</td>\n",
       "    </tr>\n",
       "    <tr>\n",
       "      <th>3</th>\n",
       "      <td>0</td>\n",
       "    </tr>\n",
       "  </tbody>\n",
       "</table>\n",
       "</div>"
      ],
      "text/plain": [
       "   label\n",
       "1      0\n",
       "2      1\n",
       "3      0"
      ]
     },
     "execution_count": 8,
     "metadata": {},
     "output_type": "execute_result"
    }
   ],
   "source": [
    "y_train.head(3)"
   ]
  },
  {
   "cell_type": "markdown",
   "metadata": {},
   "source": [
    "# Training the ranking model\n",
    "\n",
    "Let's train the ranking model:"
   ]
  },
  {
   "cell_type": "code",
   "execution_count": 9,
   "metadata": {
    "tags": []
   },
   "outputs": [],
   "source": [
    "model = training.ranking.RankingModelFactory.build()\n",
    "trainer = training.ranking.RankingModelTrainer(\n",
    "    model=model, train_dataset=(X_train, y_train), eval_dataset=(X_val, y_val)\n",
    ")"
   ]
  },
  {
   "cell_type": "code",
   "execution_count": 10,
   "metadata": {},
   "outputs": [
    {
     "name": "stdout",
     "output_type": "stream",
     "text": [
      "0:\tlearn: 0.6860959\ttest: 0.6878611\tbest: 0.6878611 (0)\ttotal: 86.5ms\tremaining: 8.56s\n",
      "1:\tlearn: 0.6798111\ttest: 0.6831127\tbest: 0.6831127 (1)\ttotal: 111ms\tremaining: 5.46s\n",
      "2:\tlearn: 0.6774529\ttest: 0.6812453\tbest: 0.6812453 (2)\ttotal: 136ms\tremaining: 4.4s\n",
      "3:\tlearn: 0.6771734\ttest: 0.6809682\tbest: 0.6809682 (3)\ttotal: 152ms\tremaining: 3.64s\n",
      "4:\tlearn: 0.6743181\ttest: 0.6792478\tbest: 0.6792478 (4)\ttotal: 173ms\tremaining: 3.28s\n",
      "5:\tlearn: 0.6700901\ttest: 0.6756502\tbest: 0.6756502 (5)\ttotal: 193ms\tremaining: 3.03s\n",
      "6:\tlearn: 0.6679408\ttest: 0.6741762\tbest: 0.6741762 (6)\ttotal: 213ms\tremaining: 2.83s\n",
      "7:\tlearn: 0.6667781\ttest: 0.6731474\tbest: 0.6731474 (7)\ttotal: 234ms\tremaining: 2.69s\n",
      "8:\tlearn: 0.6630759\ttest: 0.6717030\tbest: 0.6717030 (8)\ttotal: 255ms\tremaining: 2.58s\n",
      "9:\tlearn: 0.6601952\ttest: 0.6695397\tbest: 0.6695397 (9)\ttotal: 278ms\tremaining: 2.5s\n",
      "10:\tlearn: 0.6575911\ttest: 0.6684752\tbest: 0.6684752 (10)\ttotal: 299ms\tremaining: 2.42s\n",
      "11:\tlearn: 0.6563756\ttest: 0.6673738\tbest: 0.6673738 (11)\ttotal: 320ms\tremaining: 2.35s\n",
      "12:\tlearn: 0.6544214\ttest: 0.6658689\tbest: 0.6658689 (12)\ttotal: 341ms\tremaining: 2.29s\n",
      "13:\tlearn: 0.6523479\ttest: 0.6647299\tbest: 0.6647299 (13)\ttotal: 360ms\tremaining: 2.21s\n",
      "14:\tlearn: 0.6519079\ttest: 0.6644894\tbest: 0.6644894 (14)\ttotal: 385ms\tremaining: 2.18s\n",
      "15:\tlearn: 0.6511801\ttest: 0.6643094\tbest: 0.6643094 (15)\ttotal: 410ms\tremaining: 2.15s\n",
      "16:\tlearn: 0.6491131\ttest: 0.6630137\tbest: 0.6630137 (16)\ttotal: 430ms\tremaining: 2.1s\n",
      "17:\tlearn: 0.6484511\ttest: 0.6626298\tbest: 0.6626298 (17)\ttotal: 455ms\tremaining: 2.07s\n",
      "18:\tlearn: 0.6474658\ttest: 0.6624110\tbest: 0.6624110 (18)\ttotal: 477ms\tremaining: 2.03s\n",
      "19:\tlearn: 0.6460233\ttest: 0.6618047\tbest: 0.6618047 (19)\ttotal: 497ms\tremaining: 1.99s\n",
      "20:\tlearn: 0.6453806\ttest: 0.6615078\tbest: 0.6615078 (20)\ttotal: 526ms\tremaining: 1.98s\n",
      "21:\tlearn: 0.6447052\ttest: 0.6609409\tbest: 0.6609409 (21)\ttotal: 561ms\tremaining: 1.99s\n",
      "22:\tlearn: 0.6432651\ttest: 0.6602461\tbest: 0.6602461 (22)\ttotal: 588ms\tremaining: 1.97s\n",
      "23:\tlearn: 0.6429059\ttest: 0.6599429\tbest: 0.6599429 (23)\ttotal: 619ms\tremaining: 1.96s\n",
      "24:\tlearn: 0.6428571\ttest: 0.6599392\tbest: 0.6599392 (24)\ttotal: 646ms\tremaining: 1.94s\n",
      "25:\tlearn: 0.6425719\ttest: 0.6599185\tbest: 0.6599185 (25)\ttotal: 670ms\tremaining: 1.91s\n",
      "26:\tlearn: 0.6421864\ttest: 0.6596406\tbest: 0.6596406 (26)\ttotal: 694ms\tremaining: 1.88s\n",
      "27:\tlearn: 0.6421701\ttest: 0.6596439\tbest: 0.6596406 (26)\ttotal: 708ms\tremaining: 1.82s\n",
      "28:\tlearn: 0.6416221\ttest: 0.6595572\tbest: 0.6595572 (28)\ttotal: 731ms\tremaining: 1.79s\n",
      "29:\tlearn: 0.6409572\ttest: 0.6592716\tbest: 0.6592716 (29)\ttotal: 754ms\tremaining: 1.76s\n",
      "30:\tlearn: 0.6405138\ttest: 0.6591260\tbest: 0.6591260 (30)\ttotal: 779ms\tremaining: 1.73s\n",
      "31:\tlearn: 0.6405095\ttest: 0.6591267\tbest: 0.6591260 (30)\ttotal: 791ms\tremaining: 1.68s\n",
      "32:\tlearn: 0.6400565\ttest: 0.6591550\tbest: 0.6591260 (30)\ttotal: 819ms\tremaining: 1.66s\n",
      "33:\tlearn: 0.6400560\ttest: 0.6591571\tbest: 0.6591260 (30)\ttotal: 827ms\tremaining: 1.6s\n",
      "34:\tlearn: 0.6399540\ttest: 0.6591516\tbest: 0.6591260 (30)\ttotal: 857ms\tremaining: 1.59s\n",
      "35:\tlearn: 0.6391254\ttest: 0.6585271\tbest: 0.6585271 (35)\ttotal: 881ms\tremaining: 1.57s\n",
      "36:\tlearn: 0.6390746\ttest: 0.6585260\tbest: 0.6585260 (36)\ttotal: 912ms\tremaining: 1.55s\n",
      "37:\tlearn: 0.6386183\ttest: 0.6580596\tbest: 0.6580596 (37)\ttotal: 939ms\tremaining: 1.53s\n",
      "38:\tlearn: 0.6381959\ttest: 0.6581474\tbest: 0.6580596 (37)\ttotal: 967ms\tremaining: 1.51s\n",
      "39:\tlearn: 0.6381072\ttest: 0.6581533\tbest: 0.6580596 (37)\ttotal: 995ms\tremaining: 1.49s\n",
      "40:\tlearn: 0.6363080\ttest: 0.6574420\tbest: 0.6574420 (40)\ttotal: 1.01s\tremaining: 1.46s\n",
      "41:\tlearn: 0.6362980\ttest: 0.6574228\tbest: 0.6574228 (41)\ttotal: 1.03s\tremaining: 1.42s\n",
      "42:\tlearn: 0.6354832\ttest: 0.6573886\tbest: 0.6573886 (42)\ttotal: 1.05s\tremaining: 1.39s\n",
      "43:\tlearn: 0.6351522\ttest: 0.6570974\tbest: 0.6570974 (43)\ttotal: 1.08s\tremaining: 1.37s\n",
      "44:\tlearn: 0.6351515\ttest: 0.6571000\tbest: 0.6570974 (43)\ttotal: 1.09s\tremaining: 1.33s\n",
      "45:\tlearn: 0.6347450\ttest: 0.6570117\tbest: 0.6570117 (45)\ttotal: 1.12s\tremaining: 1.31s\n",
      "46:\tlearn: 0.6347412\ttest: 0.6570131\tbest: 0.6570117 (45)\ttotal: 1.13s\tremaining: 1.27s\n",
      "47:\tlearn: 0.6341030\ttest: 0.6569707\tbest: 0.6569707 (47)\ttotal: 1.15s\tremaining: 1.25s\n",
      "48:\tlearn: 0.6340682\ttest: 0.6569798\tbest: 0.6569707 (47)\ttotal: 1.17s\tremaining: 1.22s\n",
      "49:\tlearn: 0.6330307\ttest: 0.6568758\tbest: 0.6568758 (49)\ttotal: 1.19s\tremaining: 1.19s\n",
      "50:\tlearn: 0.6329942\ttest: 0.6568489\tbest: 0.6568489 (50)\ttotal: 1.2s\tremaining: 1.16s\n",
      "51:\tlearn: 0.6329182\ttest: 0.6568589\tbest: 0.6568489 (50)\ttotal: 1.23s\tremaining: 1.13s\n",
      "52:\tlearn: 0.6328714\ttest: 0.6568372\tbest: 0.6568372 (52)\ttotal: 1.26s\tremaining: 1.11s\n",
      "53:\tlearn: 0.6327214\ttest: 0.6568626\tbest: 0.6568372 (52)\ttotal: 1.28s\tremaining: 1.09s\n",
      "54:\tlearn: 0.6327193\ttest: 0.6568640\tbest: 0.6568372 (52)\ttotal: 1.3s\tremaining: 1.06s\n",
      "55:\tlearn: 0.6327193\ttest: 0.6568652\tbest: 0.6568372 (52)\ttotal: 1.3s\tremaining: 1.02s\n",
      "56:\tlearn: 0.6322792\ttest: 0.6566711\tbest: 0.6566711 (56)\ttotal: 1.33s\tremaining: 1s\n",
      "57:\tlearn: 0.6322728\ttest: 0.6566702\tbest: 0.6566702 (57)\ttotal: 1.34s\tremaining: 974ms\n",
      "58:\tlearn: 0.6307443\ttest: 0.6559680\tbest: 0.6559680 (58)\ttotal: 1.36s\tremaining: 948ms\n",
      "59:\tlearn: 0.6286667\ttest: 0.6548817\tbest: 0.6548817 (59)\ttotal: 1.38s\tremaining: 922ms\n",
      "60:\tlearn: 0.6276976\ttest: 0.6548165\tbest: 0.6548165 (60)\ttotal: 1.4s\tremaining: 898ms\n",
      "61:\tlearn: 0.6274281\ttest: 0.6547598\tbest: 0.6547598 (61)\ttotal: 1.43s\tremaining: 875ms\n",
      "62:\tlearn: 0.6269409\ttest: 0.6547530\tbest: 0.6547530 (62)\ttotal: 1.45s\tremaining: 854ms\n",
      "63:\tlearn: 0.6266842\ttest: 0.6547332\tbest: 0.6547332 (63)\ttotal: 1.48s\tremaining: 833ms\n",
      "64:\tlearn: 0.6262181\ttest: 0.6545283\tbest: 0.6545283 (64)\ttotal: 1.51s\tremaining: 811ms\n",
      "65:\tlearn: 0.6252398\ttest: 0.6545990\tbest: 0.6545283 (64)\ttotal: 1.53s\tremaining: 788ms\n",
      "66:\tlearn: 0.6250180\ttest: 0.6546406\tbest: 0.6545283 (64)\ttotal: 1.56s\tremaining: 767ms\n",
      "67:\tlearn: 0.6244460\ttest: 0.6546551\tbest: 0.6545283 (64)\ttotal: 1.58s\tremaining: 745ms\n",
      "68:\tlearn: 0.6232024\ttest: 0.6541068\tbest: 0.6541068 (68)\ttotal: 1.6s\tremaining: 721ms\n",
      "69:\tlearn: 0.6214952\ttest: 0.6539552\tbest: 0.6539552 (69)\ttotal: 1.63s\tremaining: 696ms\n",
      "70:\tlearn: 0.6205990\ttest: 0.6533889\tbest: 0.6533889 (70)\ttotal: 1.65s\tremaining: 673ms\n",
      "71:\tlearn: 0.6192781\ttest: 0.6530700\tbest: 0.6530700 (71)\ttotal: 1.67s\tremaining: 649ms\n",
      "72:\tlearn: 0.6188085\ttest: 0.6528818\tbest: 0.6528818 (72)\ttotal: 1.7s\tremaining: 627ms\n",
      "73:\tlearn: 0.6180238\ttest: 0.6528113\tbest: 0.6528113 (73)\ttotal: 1.72s\tremaining: 604ms\n",
      "74:\tlearn: 0.6170377\ttest: 0.6527353\tbest: 0.6527353 (74)\ttotal: 1.74s\tremaining: 581ms\n",
      "75:\tlearn: 0.6162148\ttest: 0.6528542\tbest: 0.6527353 (74)\ttotal: 1.77s\tremaining: 558ms\n",
      "76:\tlearn: 0.6155576\ttest: 0.6526488\tbest: 0.6526488 (76)\ttotal: 1.79s\tremaining: 535ms\n",
      "77:\tlearn: 0.6147932\ttest: 0.6523304\tbest: 0.6523304 (77)\ttotal: 1.82s\tremaining: 512ms\n",
      "78:\tlearn: 0.6143779\ttest: 0.6522683\tbest: 0.6522683 (78)\ttotal: 1.84s\tremaining: 490ms\n",
      "79:\tlearn: 0.6137814\ttest: 0.6520114\tbest: 0.6520114 (79)\ttotal: 1.87s\tremaining: 467ms\n",
      "80:\tlearn: 0.6131797\ttest: 0.6517713\tbest: 0.6517713 (80)\ttotal: 1.89s\tremaining: 444ms\n",
      "81:\tlearn: 0.6125494\ttest: 0.6517066\tbest: 0.6517066 (81)\ttotal: 1.92s\tremaining: 421ms\n",
      "82:\tlearn: 0.6120472\ttest: 0.6514910\tbest: 0.6514910 (82)\ttotal: 1.95s\tremaining: 398ms\n",
      "83:\tlearn: 0.6112004\ttest: 0.6509870\tbest: 0.6509870 (83)\ttotal: 1.97s\tremaining: 375ms\n",
      "84:\tlearn: 0.6109211\ttest: 0.6510175\tbest: 0.6509870 (83)\ttotal: 2s\tremaining: 352ms\n",
      "85:\tlearn: 0.6104960\ttest: 0.6506609\tbest: 0.6506609 (85)\ttotal: 2.02s\tremaining: 330ms\n",
      "86:\tlearn: 0.6099232\ttest: 0.6504061\tbest: 0.6504061 (86)\ttotal: 2.05s\tremaining: 307ms\n",
      "87:\tlearn: 0.6097651\ttest: 0.6503463\tbest: 0.6503463 (87)\ttotal: 2.08s\tremaining: 284ms\n",
      "88:\tlearn: 0.6095916\ttest: 0.6503687\tbest: 0.6503463 (87)\ttotal: 2.11s\tremaining: 261ms\n",
      "89:\tlearn: 0.6093266\ttest: 0.6502981\tbest: 0.6502981 (89)\ttotal: 2.14s\tremaining: 237ms\n",
      "90:\tlearn: 0.6088908\ttest: 0.6500924\tbest: 0.6500924 (90)\ttotal: 2.16s\tremaining: 214ms\n",
      "91:\tlearn: 0.6083292\ttest: 0.6502199\tbest: 0.6500924 (90)\ttotal: 2.19s\tremaining: 190ms\n",
      "92:\tlearn: 0.6080289\ttest: 0.6500625\tbest: 0.6500625 (92)\ttotal: 2.22s\tremaining: 167ms\n",
      "93:\tlearn: 0.6077527\ttest: 0.6500009\tbest: 0.6500009 (93)\ttotal: 2.25s\tremaining: 143ms\n",
      "94:\tlearn: 0.6074965\ttest: 0.6499756\tbest: 0.6499756 (94)\ttotal: 2.27s\tremaining: 120ms\n",
      "95:\tlearn: 0.6070306\ttest: 0.6497471\tbest: 0.6497471 (95)\ttotal: 2.3s\tremaining: 95.8ms\n",
      "96:\tlearn: 0.6067642\ttest: 0.6495521\tbest: 0.6495521 (96)\ttotal: 2.33s\tremaining: 72ms\n",
      "97:\tlearn: 0.6064269\ttest: 0.6493835\tbest: 0.6493835 (97)\ttotal: 2.35s\tremaining: 48.1ms\n",
      "98:\tlearn: 0.6057442\ttest: 0.6491012\tbest: 0.6491012 (98)\ttotal: 2.38s\tremaining: 24.1ms\n",
      "99:\tlearn: 0.6054098\ttest: 0.6491442\tbest: 0.6491012 (98)\ttotal: 2.41s\tremaining: 0us\n",
      "\n",
      "bestTest = 0.6491012401\n",
      "bestIteration = 98\n",
      "\n",
      "Shrink model to first 99 iterations.\n"
     ]
    },
    {
     "data": {
      "text/plain": [
       "<catboost.core.CatBoostClassifier at 0x354fb4a50>"
      ]
     },
     "execution_count": 10,
     "metadata": {},
     "output_type": "execute_result"
    }
   ],
   "source": [
    "trainer.fit()"
   ]
  },
  {
   "cell_type": "markdown",
   "metadata": {},
   "source": [
    "## Evaluating the ranking model\n",
    "\n",
    "Next, you'll evaluate how well the model performs on the validation data using metrics for classification such as precision, recall and f1-score:"
   ]
  },
  {
   "cell_type": "code",
   "execution_count": 11,
   "metadata": {},
   "outputs": [
    {
     "name": "stderr",
     "output_type": "stream",
     "text": [
      "\u001b[32m2024-11-21 13:23:15.435\u001b[0m | \u001b[1mINFO    \u001b[0m | \u001b[36mrecsys.training.ranking\u001b[0m:\u001b[36mevaluate\u001b[0m:\u001b[36m60\u001b[0m - \u001b[1m              precision    recall  f1-score   support\n",
      "\n",
      "           0       0.94      0.69      0.79     20845\n",
      "           1       0.14      0.54      0.22      1964\n",
      "\n",
      "    accuracy                           0.68     22809\n",
      "   macro avg       0.54      0.62      0.51     22809\n",
      "weighted avg       0.87      0.68      0.75     22809\n",
      "\u001b[0m\n"
     ]
    }
   ],
   "source": [
    "metrics = trainer.evaluate(log=True)"
   ]
  },
  {
   "cell_type": "markdown",
   "metadata": {},
   "source": [
    "It can be seen that the model has a low F1-score on the positive class (higher is better). The performance could potentially be improved by adding more features to the dataset, e.g. image embeddings.\n",
    "\n",
    "Let's see which features your model considers important."
   ]
  },
  {
   "cell_type": "code",
   "execution_count": 12,
   "metadata": {},
   "outputs": [
    {
     "data": {
      "text/plain": [
       "{'month_cos': 14.187857671116273,\n",
       " 'age': 13.866672119234732,\n",
       " 'section_name': 8.949230425986132,\n",
       " 'product_group_name': 8.852948790953244,\n",
       " 'month_sin': 7.883541209776112,\n",
       " 'product_type_name': 7.674231304684104,\n",
       " 'garment_group_name': 7.5875973795538485,\n",
       " 'department_name': 6.204410874615057,\n",
       " 'index_name': 6.1405538852885515,\n",
       " 'graphical_appearance_name': 4.8978315805567405,\n",
       " 'perceived_colour_value_name': 4.490918891695863,\n",
       " 'index_group_name': 3.4249671993906516,\n",
       " 'perceived_colour_master_name': 3.206848308176551,\n",
       " 'colour_group_name': 2.6323903589721476}"
      ]
     },
     "execution_count": 12,
     "metadata": {},
     "output_type": "execute_result"
    }
   ],
   "source": [
    "trainer.get_feature_importance()"
   ]
  },
  {
   "cell_type": "markdown",
   "metadata": {},
   "source": [
    "## <span style=\"color:#ff5f27\">  Uploading the model to Hopsworks model registry </span>"
   ]
  },
  {
   "cell_type": "code",
   "execution_count": 13,
   "metadata": {},
   "outputs": [
    {
     "name": "stdout",
     "output_type": "stream",
     "text": [
      "Connected. Call `.close()` to terminate connection gracefully.\n"
     ]
    }
   ],
   "source": [
    "mr = project.get_model_registry()"
   ]
  },
  {
   "cell_type": "code",
   "execution_count": 14,
   "metadata": {},
   "outputs": [
    {
     "data": {
      "application/vnd.jupyter.widget-view+json": {
       "model_id": "ae94570466a64f8082528101ee0c7baf",
       "version_major": 2,
       "version_minor": 0
      },
      "text/plain": [
       "  0%|          | 0/6 [00:00<?, ?it/s]"
      ]
     },
     "metadata": {},
     "output_type": "display_data"
    },
    {
     "data": {
      "application/vnd.jupyter.widget-view+json": {
       "model_id": "d05835fce20b470e836bff1e1f09f8aa",
       "version_major": 2,
       "version_minor": 0
      },
      "text/plain": [
       "Uploading: 0.000%|          | 0/1679218 elapsed<00:00 remaining<?"
      ]
     },
     "metadata": {},
     "output_type": "display_data"
    },
    {
     "data": {
      "application/vnd.jupyter.widget-view+json": {
       "model_id": "f260e3f7125840e7a7910a1f79050b2f",
       "version_major": 2,
       "version_minor": 0
      },
      "text/plain": [
       "Uploading: 0.000%|          | 0/468 elapsed<00:00 remaining<?"
      ]
     },
     "metadata": {},
     "output_type": "display_data"
    },
    {
     "data": {
      "application/vnd.jupyter.widget-view+json": {
       "model_id": "6508d88b82c4414c95bb957225770e9c",
       "version_major": 2,
       "version_minor": 0
      },
      "text/plain": [
       "Uploading: 0.000%|          | 0/1274 elapsed<00:00 remaining<?"
      ]
     },
     "metadata": {},
     "output_type": "display_data"
    },
    {
     "name": "stdout",
     "output_type": "stream",
     "text": [
      "Model created, explore it at https://c.app.hopsworks.ai:443/p/15551/models/ranking_model/1\n"
     ]
    }
   ],
   "source": [
    "ranking_module = hopsworks_integration.ranking_serving.HopsworksRankingModel(\n",
    "    model=model\n",
    ")\n",
    "ranking_module.register(mr, X_train, y_train, metrics)"
   ]
  },
  {
   "cell_type": "markdown",
   "metadata": {},
   "source": [
    "## <span style=\"color:#ff5f27\"> Inspecting the model in the Hopsworks model registry </span>\n",
    "\n",
    "View results in [Hopsworks Serverless](https://rebrand.ly/serverless-github): **Data Science → Model Registry**"
   ]
  },
  {
   "cell_type": "markdown",
   "metadata": {},
   "source": [
    "---"
   ]
  },
  {
   "cell_type": "code",
   "execution_count": 15,
   "metadata": {},
   "outputs": [
    {
     "name": "stderr",
     "output_type": "stream",
     "text": [
      "\u001b[32m2024-11-21 13:23:35.183\u001b[0m | \u001b[1mINFO    \u001b[0m | \u001b[36m__main__\u001b[0m:\u001b[36m<module>\u001b[0m:\u001b[36m4\u001b[0m - \u001b[1m⌛️ Notebook Execution time: 51.66 seconds ~ 0.86 minutes\u001b[0m\n"
     ]
    }
   ],
   "source": [
    "notebook_end_time = time.time()\n",
    "notebook_execution_time = notebook_end_time - notebook_start_time\n",
    "\n",
    "logger.info(\n",
    "    f\"⌛️ Notebook Execution time: {notebook_execution_time:.2f} seconds ~ {notebook_execution_time / 60:.2f} minutes\"\n",
    ")"
   ]
  },
  {
   "cell_type": "markdown",
   "metadata": {},
   "source": [
    "# <span style=\"color:#ff5f27\">→ Next Steps </span>\n",
    "\n",
    "In the next notebook, you will compute embeddings for all the items, populate a vector index with them (as a feature group) and create an online feature view which will allow you to retrieve candidates, for each user, with very low latency."
   ]
  }
 ],
 "metadata": {
  "interpreter": {
   "hash": "31f2aee4e71d21fbe5cf8b01ff0e069b9275f58929596ceb00d14d90e3e16cd6"
  },
  "kernelspec": {
   "display_name": "Python 3",
   "language": "python",
   "name": "python3"
  },
  "language_info": {
   "codemirror_mode": {
    "name": "ipython",
    "version": 3
   },
   "file_extension": ".py",
   "mimetype": "text/x-python",
   "name": "python",
   "nbconvert_exporter": "python",
   "pygments_lexer": "ipython3",
   "version": "3.11.8"
  }
 },
 "nbformat": 4,
 "nbformat_minor": 4
}

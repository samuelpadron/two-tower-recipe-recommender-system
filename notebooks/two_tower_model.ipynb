{
 "cells": [
  {
   "cell_type": "code",
   "execution_count": 1,
   "metadata": {
    "id": "HPrrUz4fAE4o"
   },
   "outputs": [],
   "source": [
    "import pandas as pd\n",
    "import numpy as np\n",
    "import matplotlib.pyplot as plt\n",
    "import kagglehub\n",
    "import os"
   ]
  },
  {
   "cell_type": "markdown",
   "metadata": {},
   "source": [
    "## Load Feature Group from Hopsworks"
   ]
  },
  {
   "cell_type": "code",
   "execution_count": 2,
   "metadata": {},
   "outputs": [
    {
     "name": "stdout",
     "output_type": "stream",
     "text": [
      "2024-12-11 22:39:16,825 INFO: Initializing external client\n",
      "2024-12-11 22:39:16,825 INFO: Base URL: https://c.app.hopsworks.ai:443\n",
      "2024-12-11 22:39:23,326 INFO: Python Engine initialized.\n",
      "\n",
      "Logged in to project, explore it here https://c.app.hopsworks.ai:443/p/1193139\n"
     ]
    }
   ],
   "source": [
    "import hopsworks \n",
    "project = hopsworks.login()\n",
    "fs = project.get_feature_store(name='recipe_recommender_featurestore')\n",
    "review_fg = fs.get_feature_group('review', version=2)\n",
    "recipe_fg = fs.get_feature_group('recipe', version=2)"
   ]
  },
  {
   "cell_type": "code",
   "execution_count": 3,
   "metadata": {},
   "outputs": [
    {
     "name": "stdout",
     "output_type": "stream",
     "text": [
      "Finished: Reading data from Hopsworks, using Hopsworks Feature Query Service (708.99s) \n",
      "<class 'pandas.core.frame.DataFrame'>\n",
      "RangeIndex: 522517 entries, 0 to 522516\n",
      "Data columns (total 15 columns):\n",
      " #   Column               Non-Null Count   Dtype  \n",
      "---  ------               --------------   -----  \n",
      " 0   recipe_id            522517 non-null  int64  \n",
      " 1   name                 522517 non-null  object \n",
      " 2   totaltime            522517 non-null  float64\n",
      " 3   recipecategory       522517 non-null  object \n",
      " 4   aggregatedrating     522517 non-null  float64\n",
      " 5   reviewcount          522517 non-null  float64\n",
      " 6   calories             522517 non-null  float64\n",
      " 7   fatcontent           522517 non-null  float64\n",
      " 8   saturatedfatcontent  522517 non-null  float64\n",
      " 9   cholesterolcontent   522517 non-null  float64\n",
      " 10  sodiumcontent        522517 non-null  float64\n",
      " 11  carbohydratecontent  522517 non-null  float64\n",
      " 12  fibercontent         522517 non-null  float64\n",
      " 13  sugarcontent         522517 non-null  float64\n",
      " 14  proteincontent       522517 non-null  float64\n",
      "dtypes: float64(12), int64(1), object(2)\n",
      "memory usage: 59.8+ MB\n",
      "None\n"
     ]
    }
   ],
   "source": [
    "recipe_data = recipe_fg.read()\n",
    "\n",
    "# Display the DataFrame\n",
    "print(recipe_data.info())"
   ]
  },
  {
   "cell_type": "code",
   "execution_count": 4,
   "metadata": {},
   "outputs": [
    {
     "name": "stdout",
     "output_type": "stream",
     "text": [
      "<class 'pandas.core.frame.DataFrame'>\n",
      "RangeIndex: 1401982 entries, 0 to 1401981\n",
      "Data columns (total 8 columns):\n",
      " #   Column         Non-Null Count    Dtype \n",
      "---  ------         --------------    ----- \n",
      " 0   ReviewId       1401982 non-null  int64 \n",
      " 1   RecipeId       1401982 non-null  int64 \n",
      " 2   AuthorId       1401982 non-null  int64 \n",
      " 3   AuthorName     1401982 non-null  object\n",
      " 4   Rating         1401982 non-null  int64 \n",
      " 5   Review         1401768 non-null  object\n",
      " 6   DateSubmitted  1401982 non-null  object\n",
      " 7   DateModified   1401982 non-null  object\n",
      "dtypes: int64(4), object(4)\n",
      "memory usage: 85.6+ MB\n",
      "None\n"
     ]
    }
   ],
   "source": [
    "review_data = pd.read_csv('..\\\\data\\\\reviews.csv')\n",
    "\n",
    "print(review_data.info())"
   ]
  },
  {
   "cell_type": "code",
   "execution_count": 5,
   "metadata": {},
   "outputs": [
    {
     "name": "stdout",
     "output_type": "stream",
     "text": [
      "<class 'pandas.core.frame.DataFrame'>\n",
      "RangeIndex: 522517 entries, 0 to 522516\n",
      "Data columns (total 28 columns):\n",
      " #   Column                      Non-Null Count   Dtype  \n",
      "---  ------                      --------------   -----  \n",
      " 0   RecipeId                    522517 non-null  int64  \n",
      " 1   Name                        522517 non-null  object \n",
      " 2   AuthorId                    522517 non-null  int64  \n",
      " 3   AuthorName                  522517 non-null  object \n",
      " 4   CookTime                    439972 non-null  object \n",
      " 5   PrepTime                    522517 non-null  object \n",
      " 6   TotalTime                   522517 non-null  object \n",
      " 7   DatePublished               522517 non-null  object \n",
      " 8   Description                 522512 non-null  object \n",
      " 9   Images                      522516 non-null  object \n",
      " 10  RecipeCategory              521766 non-null  object \n",
      " 11  Keywords                    505280 non-null  object \n",
      " 12  RecipeIngredientQuantities  522514 non-null  object \n",
      " 13  RecipeIngredientParts       522517 non-null  object \n",
      " 14  AggregatedRating            269294 non-null  float64\n",
      " 15  ReviewCount                 275028 non-null  float64\n",
      " 16  Calories                    522517 non-null  float64\n",
      " 17  FatContent                  522517 non-null  float64\n",
      " 18  SaturatedFatContent         522517 non-null  float64\n",
      " 19  CholesterolContent          522517 non-null  float64\n",
      " 20  SodiumContent               522517 non-null  float64\n",
      " 21  CarbohydrateContent         522517 non-null  float64\n",
      " 22  FiberContent                522517 non-null  float64\n",
      " 23  SugarContent                522517 non-null  float64\n",
      " 24  ProteinContent              522517 non-null  float64\n",
      " 25  RecipeServings              339606 non-null  float64\n",
      " 26  RecipeYield                 174446 non-null  object \n",
      " 27  RecipeInstructions          522517 non-null  object \n",
      "dtypes: float64(12), int64(2), object(14)\n",
      "memory usage: 111.6+ MB\n",
      "None\n"
     ]
    }
   ],
   "source": [
    "recipes = pd.read_csv('..\\\\data\\\\recipes.csv')\n",
    "\n",
    "print(recipes.info())"
   ]
  },
  {
   "cell_type": "code",
   "execution_count": 6,
   "metadata": {},
   "outputs": [],
   "source": [
    "review_data['Review'].fillna('', inplace=True) # Put empty description for now\n",
    "review_data.drop(columns=['DateSubmitted', 'AuthorName'], inplace=True) # Only keep DateModified\n",
    "review_data['DateModified'] = pd.to_datetime(review_data['DateModified'])\n",
    "review_data['year'] = review_data['DateModified'].dt.year\n",
    "review_data['month'] = review_data['DateModified'].dt.month\n",
    "review_data['month_sin'] = np.sin(2 * np.pi * review_data['month'] / 12) # cyclic enconding for month (so Dec and Jan are close to one another)\n",
    "review_data['month_cos'] = np.cos(2 * np.pi * review_data['month'] / 12)\n",
    "review_data.drop(columns=['ReviewId', 'DateModified', 'month', 'Review'], inplace=True)\n",
    "review_data.rename(columns={'AuthorId' : 'user_id', 'RecipeId' : 'recipe_id', 'Rating': 'rating'}, inplace=True)"
   ]
  },
  {
   "cell_type": "code",
   "execution_count": 7,
   "metadata": {},
   "outputs": [
    {
     "name": "stdout",
     "output_type": "stream",
     "text": [
      "<class 'pandas.core.frame.DataFrame'>\n",
      "RangeIndex: 1401982 entries, 0 to 1401981\n",
      "Data columns (total 6 columns):\n",
      " #   Column     Non-Null Count    Dtype  \n",
      "---  ------     --------------    -----  \n",
      " 0   recipe_id  1401982 non-null  int64  \n",
      " 1   user_id    1401982 non-null  int64  \n",
      " 2   rating     1401982 non-null  int64  \n",
      " 3   year       1401982 non-null  int32  \n",
      " 4   month_sin  1401982 non-null  float64\n",
      " 5   month_cos  1401982 non-null  float64\n",
      "dtypes: float64(2), int32(1), int64(3)\n",
      "memory usage: 58.8 MB\n"
     ]
    }
   ],
   "source": [
    "review_data.info()"
   ]
  },
  {
   "cell_type": "code",
   "execution_count": 8,
   "metadata": {},
   "outputs": [],
   "source": [
    "review_data = review_data.head(100_000)"
   ]
  },
  {
   "cell_type": "code",
   "execution_count": 9,
   "metadata": {},
   "outputs": [],
   "source": [
    "combined_data = review_data.merge(recipe_data, on=\"recipe_id\", how=\"left\")"
   ]
  },
  {
   "cell_type": "code",
   "execution_count": 10,
   "metadata": {},
   "outputs": [
    {
     "data": {
      "text/html": [
       "<div>\n",
       "<style scoped>\n",
       "    .dataframe tbody tr th:only-of-type {\n",
       "        vertical-align: middle;\n",
       "    }\n",
       "\n",
       "    .dataframe tbody tr th {\n",
       "        vertical-align: top;\n",
       "    }\n",
       "\n",
       "    .dataframe thead th {\n",
       "        text-align: right;\n",
       "    }\n",
       "</style>\n",
       "<table border=\"1\" class=\"dataframe\">\n",
       "  <thead>\n",
       "    <tr style=\"text-align: right;\">\n",
       "      <th></th>\n",
       "      <th>recipe_id</th>\n",
       "      <th>user_id</th>\n",
       "      <th>rating</th>\n",
       "      <th>year</th>\n",
       "      <th>month_sin</th>\n",
       "      <th>month_cos</th>\n",
       "      <th>name</th>\n",
       "      <th>totaltime</th>\n",
       "      <th>recipecategory</th>\n",
       "      <th>aggregatedrating</th>\n",
       "      <th>reviewcount</th>\n",
       "      <th>calories</th>\n",
       "      <th>fatcontent</th>\n",
       "      <th>saturatedfatcontent</th>\n",
       "      <th>cholesterolcontent</th>\n",
       "      <th>sodiumcontent</th>\n",
       "      <th>carbohydratecontent</th>\n",
       "      <th>fibercontent</th>\n",
       "      <th>sugarcontent</th>\n",
       "      <th>proteincontent</th>\n",
       "    </tr>\n",
       "  </thead>\n",
       "  <tbody>\n",
       "    <tr>\n",
       "      <th>0</th>\n",
       "      <td>992</td>\n",
       "      <td>2008</td>\n",
       "      <td>5</td>\n",
       "      <td>2000</td>\n",
       "      <td>0.500000</td>\n",
       "      <td>8.660254e-01</td>\n",
       "      <td>[-0.10509939, -0.053312678, -0.050426587, 0.06...</td>\n",
       "      <td>-0.003597</td>\n",
       "      <td>[-0.029408956, 0.010818674, -0.07821881, 0.070...</td>\n",
       "      <td>1.207007</td>\n",
       "      <td>0.815725</td>\n",
       "      <td>-0.267006</td>\n",
       "      <td>-0.138268</td>\n",
       "      <td>-0.099940</td>\n",
       "      <td>-0.207913</td>\n",
       "      <td>-0.141489</td>\n",
       "      <td>-0.253781</td>\n",
       "      <td>-0.376983</td>\n",
       "      <td>-0.147092</td>\n",
       "      <td>-0.328181</td>\n",
       "    </tr>\n",
       "    <tr>\n",
       "      <th>1</th>\n",
       "      <td>4384</td>\n",
       "      <td>1634</td>\n",
       "      <td>4</td>\n",
       "      <td>2001</td>\n",
       "      <td>-0.866025</td>\n",
       "      <td>5.000000e-01</td>\n",
       "      <td>[-0.060209103, -0.005112475, -0.012842847, 0.0...</td>\n",
       "      <td>-0.002075</td>\n",
       "      <td>[-0.00247523, -0.028400732, -0.026927572, 0.01...</td>\n",
       "      <td>1.207007</td>\n",
       "      <td>0.016539</td>\n",
       "      <td>-0.343450</td>\n",
       "      <td>-0.219893</td>\n",
       "      <td>-0.205039</td>\n",
       "      <td>-0.286393</td>\n",
       "      <td>-0.113227</td>\n",
       "      <td>-0.266500</td>\n",
       "      <td>-0.400230</td>\n",
       "      <td>-0.152701</td>\n",
       "      <td>-0.430352</td>\n",
       "    </tr>\n",
       "    <tr>\n",
       "      <th>2</th>\n",
       "      <td>4523</td>\n",
       "      <td>2046</td>\n",
       "      <td>2</td>\n",
       "      <td>2000</td>\n",
       "      <td>0.866025</td>\n",
       "      <td>5.000000e-01</td>\n",
       "      <td>[-0.040666275, 0.042316977, 0.016736453, 0.043...</td>\n",
       "      <td>-0.003116</td>\n",
       "      <td>[-0.046632297, -0.0098071555, -0.014670166, 0....</td>\n",
       "      <td>0.345601</td>\n",
       "      <td>0.482731</td>\n",
       "      <td>-0.045622</td>\n",
       "      <td>-0.169662</td>\n",
       "      <td>-0.175011</td>\n",
       "      <td>0.154354</td>\n",
       "      <td>0.311716</td>\n",
       "      <td>-0.019849</td>\n",
       "      <td>-0.295617</td>\n",
       "      <td>-0.011066</td>\n",
       "      <td>0.636214</td>\n",
       "    </tr>\n",
       "    <tr>\n",
       "      <th>3</th>\n",
       "      <td>7435</td>\n",
       "      <td>1773</td>\n",
       "      <td>5</td>\n",
       "      <td>2000</td>\n",
       "      <td>1.000000</td>\n",
       "      <td>6.123234e-17</td>\n",
       "      <td>[-0.044769704, -0.0068349363, 0.037979748, -0....</td>\n",
       "      <td>0.000328</td>\n",
       "      <td>[-0.030650476, 0.027059676, -0.008651573, 0.09...</td>\n",
       "      <td>1.207007</td>\n",
       "      <td>2.946885</td>\n",
       "      <td>0.194802</td>\n",
       "      <td>0.176570</td>\n",
       "      <td>0.108114</td>\n",
       "      <td>0.449069</td>\n",
       "      <td>0.479691</td>\n",
       "      <td>-0.041970</td>\n",
       "      <td>0.657521</td>\n",
       "      <td>-0.070665</td>\n",
       "      <td>0.735893</td>\n",
       "    </tr>\n",
       "    <tr>\n",
       "      <th>4</th>\n",
       "      <td>44</td>\n",
       "      <td>2085</td>\n",
       "      <td>5</td>\n",
       "      <td>2000</td>\n",
       "      <td>1.000000</td>\n",
       "      <td>6.123234e-17</td>\n",
       "      <td>[-0.045681693, -0.038909838, -0.025304835, 0.0...</td>\n",
       "      <td>-0.003469</td>\n",
       "      <td>[-0.04197564, -0.01328214, -0.038452026, 0.047...</td>\n",
       "      <td>1.207007</td>\n",
       "      <td>1.348515</td>\n",
       "      <td>0.294222</td>\n",
       "      <td>0.378390</td>\n",
       "      <td>0.479179</td>\n",
       "      <td>1.057374</td>\n",
       "      <td>-0.049972</td>\n",
       "      <td>-0.110546</td>\n",
       "      <td>-0.086392</td>\n",
       "      <td>-0.118344</td>\n",
       "      <td>0.693529</td>\n",
       "    </tr>\n",
       "  </tbody>\n",
       "</table>\n",
       "</div>"
      ],
      "text/plain": [
       "   recipe_id  user_id  rating  year  month_sin     month_cos  \\\n",
       "0        992     2008       5  2000   0.500000  8.660254e-01   \n",
       "1       4384     1634       4  2001  -0.866025  5.000000e-01   \n",
       "2       4523     2046       2  2000   0.866025  5.000000e-01   \n",
       "3       7435     1773       5  2000   1.000000  6.123234e-17   \n",
       "4         44     2085       5  2000   1.000000  6.123234e-17   \n",
       "\n",
       "                                                name  totaltime  \\\n",
       "0  [-0.10509939, -0.053312678, -0.050426587, 0.06...  -0.003597   \n",
       "1  [-0.060209103, -0.005112475, -0.012842847, 0.0...  -0.002075   \n",
       "2  [-0.040666275, 0.042316977, 0.016736453, 0.043...  -0.003116   \n",
       "3  [-0.044769704, -0.0068349363, 0.037979748, -0....   0.000328   \n",
       "4  [-0.045681693, -0.038909838, -0.025304835, 0.0...  -0.003469   \n",
       "\n",
       "                                      recipecategory  aggregatedrating  \\\n",
       "0  [-0.029408956, 0.010818674, -0.07821881, 0.070...          1.207007   \n",
       "1  [-0.00247523, -0.028400732, -0.026927572, 0.01...          1.207007   \n",
       "2  [-0.046632297, -0.0098071555, -0.014670166, 0....          0.345601   \n",
       "3  [-0.030650476, 0.027059676, -0.008651573, 0.09...          1.207007   \n",
       "4  [-0.04197564, -0.01328214, -0.038452026, 0.047...          1.207007   \n",
       "\n",
       "   reviewcount  calories  fatcontent  saturatedfatcontent  cholesterolcontent  \\\n",
       "0     0.815725 -0.267006   -0.138268            -0.099940           -0.207913   \n",
       "1     0.016539 -0.343450   -0.219893            -0.205039           -0.286393   \n",
       "2     0.482731 -0.045622   -0.169662            -0.175011            0.154354   \n",
       "3     2.946885  0.194802    0.176570             0.108114            0.449069   \n",
       "4     1.348515  0.294222    0.378390             0.479179            1.057374   \n",
       "\n",
       "   sodiumcontent  carbohydratecontent  fibercontent  sugarcontent  \\\n",
       "0      -0.141489            -0.253781     -0.376983     -0.147092   \n",
       "1      -0.113227            -0.266500     -0.400230     -0.152701   \n",
       "2       0.311716            -0.019849     -0.295617     -0.011066   \n",
       "3       0.479691            -0.041970      0.657521     -0.070665   \n",
       "4      -0.049972            -0.110546     -0.086392     -0.118344   \n",
       "\n",
       "   proteincontent  \n",
       "0       -0.328181  \n",
       "1       -0.430352  \n",
       "2        0.636214  \n",
       "3        0.735893  \n",
       "4        0.693529  "
      ]
     },
     "execution_count": 10,
     "metadata": {},
     "output_type": "execute_result"
    }
   ],
   "source": [
    "combined_data.head()"
   ]
  },
  {
   "cell_type": "code",
   "execution_count": 11,
   "metadata": {},
   "outputs": [
    {
     "data": {
      "text/plain": [
       "15971"
      ]
     },
     "execution_count": 11,
     "metadata": {},
     "output_type": "execute_result"
    }
   ],
   "source": [
    "len(review_data['user_id'].unique())"
   ]
  },
  {
   "cell_type": "code",
   "execution_count": 12,
   "metadata": {},
   "outputs": [
    {
     "data": {
      "text/plain": [
       "39507"
      ]
     },
     "execution_count": 12,
     "metadata": {},
     "output_type": "execute_result"
    }
   ],
   "source": [
    "len(combined_data['recipe_id'].unique())"
   ]
  },
  {
   "cell_type": "code",
   "execution_count": 13,
   "metadata": {},
   "outputs": [],
   "source": [
    "# Create a mapping from user_id to indices\n",
    "unique_user_ids = combined_data['user_id'].unique()\n",
    "user_id_to_index = {user_id: idx for idx, user_id in enumerate(unique_user_ids)}\n",
    "\n",
    "# Apply the mapping to the DataFrame or DataLoader\n",
    "combined_data['user_id_index'] = combined_data['user_id'].map(user_id_to_index)\n"
   ]
  },
  {
   "cell_type": "code",
   "execution_count": 14,
   "metadata": {},
   "outputs": [],
   "source": [
    "# Create a mapping from recipe_id to indices\n",
    "unique_recipe_ids = combined_data['recipe_id'].unique()\n",
    "recipe_id_to_index = {recipe_id: idx for idx, recipe_id in enumerate(unique_recipe_ids)}\n",
    "\n",
    "# Apply the mapping to the DataFrame or DataLoader\n",
    "combined_data['recipe_id_index'] = combined_data['recipe_id'].map(recipe_id_to_index)\n"
   ]
  },
  {
   "cell_type": "code",
   "execution_count": 15,
   "metadata": {},
   "outputs": [
    {
     "data": {
      "text/plain": [
       "0    0\n",
       "1    1\n",
       "2    2\n",
       "3    3\n",
       "4    4\n",
       "Name: recipe_id_index, dtype: int64"
      ]
     },
     "execution_count": 15,
     "metadata": {},
     "output_type": "execute_result"
    }
   ],
   "source": [
    "combined_data['recipe_id_index'].head()"
   ]
  },
  {
   "cell_type": "code",
   "execution_count": 16,
   "metadata": {},
   "outputs": [],
   "source": [
    "mean_rating = 0.001397\n",
    "combined_data['label'] = (combined_data['rating'] > mean_rating).astype(int)"
   ]
  },
  {
   "cell_type": "code",
   "execution_count": 17,
   "metadata": {},
   "outputs": [
    {
     "data": {
      "text/html": [
       "<div>\n",
       "<style scoped>\n",
       "    .dataframe tbody tr th:only-of-type {\n",
       "        vertical-align: middle;\n",
       "    }\n",
       "\n",
       "    .dataframe tbody tr th {\n",
       "        vertical-align: top;\n",
       "    }\n",
       "\n",
       "    .dataframe thead th {\n",
       "        text-align: right;\n",
       "    }\n",
       "</style>\n",
       "<table border=\"1\" class=\"dataframe\">\n",
       "  <thead>\n",
       "    <tr style=\"text-align: right;\">\n",
       "      <th></th>\n",
       "      <th>recipe_id</th>\n",
       "      <th>user_id</th>\n",
       "      <th>rating</th>\n",
       "      <th>year</th>\n",
       "      <th>month_sin</th>\n",
       "      <th>month_cos</th>\n",
       "      <th>name</th>\n",
       "      <th>totaltime</th>\n",
       "      <th>recipecategory</th>\n",
       "      <th>aggregatedrating</th>\n",
       "      <th>...</th>\n",
       "      <th>saturatedfatcontent</th>\n",
       "      <th>cholesterolcontent</th>\n",
       "      <th>sodiumcontent</th>\n",
       "      <th>carbohydratecontent</th>\n",
       "      <th>fibercontent</th>\n",
       "      <th>sugarcontent</th>\n",
       "      <th>proteincontent</th>\n",
       "      <th>user_id_index</th>\n",
       "      <th>recipe_id_index</th>\n",
       "      <th>label</th>\n",
       "    </tr>\n",
       "  </thead>\n",
       "  <tbody>\n",
       "    <tr>\n",
       "      <th>0</th>\n",
       "      <td>992</td>\n",
       "      <td>2008</td>\n",
       "      <td>5</td>\n",
       "      <td>2000</td>\n",
       "      <td>0.500000</td>\n",
       "      <td>8.660254e-01</td>\n",
       "      <td>[-0.10509939, -0.053312678, -0.050426587, 0.06...</td>\n",
       "      <td>-0.003597</td>\n",
       "      <td>[-0.029408956, 0.010818674, -0.07821881, 0.070...</td>\n",
       "      <td>1.207007</td>\n",
       "      <td>...</td>\n",
       "      <td>-0.099940</td>\n",
       "      <td>-0.207913</td>\n",
       "      <td>-0.141489</td>\n",
       "      <td>-0.253781</td>\n",
       "      <td>-0.376983</td>\n",
       "      <td>-0.147092</td>\n",
       "      <td>-0.328181</td>\n",
       "      <td>0</td>\n",
       "      <td>0</td>\n",
       "      <td>1</td>\n",
       "    </tr>\n",
       "    <tr>\n",
       "      <th>1</th>\n",
       "      <td>4384</td>\n",
       "      <td>1634</td>\n",
       "      <td>4</td>\n",
       "      <td>2001</td>\n",
       "      <td>-0.866025</td>\n",
       "      <td>5.000000e-01</td>\n",
       "      <td>[-0.060209103, -0.005112475, -0.012842847, 0.0...</td>\n",
       "      <td>-0.002075</td>\n",
       "      <td>[-0.00247523, -0.028400732, -0.026927572, 0.01...</td>\n",
       "      <td>1.207007</td>\n",
       "      <td>...</td>\n",
       "      <td>-0.205039</td>\n",
       "      <td>-0.286393</td>\n",
       "      <td>-0.113227</td>\n",
       "      <td>-0.266500</td>\n",
       "      <td>-0.400230</td>\n",
       "      <td>-0.152701</td>\n",
       "      <td>-0.430352</td>\n",
       "      <td>1</td>\n",
       "      <td>1</td>\n",
       "      <td>1</td>\n",
       "    </tr>\n",
       "    <tr>\n",
       "      <th>2</th>\n",
       "      <td>4523</td>\n",
       "      <td>2046</td>\n",
       "      <td>2</td>\n",
       "      <td>2000</td>\n",
       "      <td>0.866025</td>\n",
       "      <td>5.000000e-01</td>\n",
       "      <td>[-0.040666275, 0.042316977, 0.016736453, 0.043...</td>\n",
       "      <td>-0.003116</td>\n",
       "      <td>[-0.046632297, -0.0098071555, -0.014670166, 0....</td>\n",
       "      <td>0.345601</td>\n",
       "      <td>...</td>\n",
       "      <td>-0.175011</td>\n",
       "      <td>0.154354</td>\n",
       "      <td>0.311716</td>\n",
       "      <td>-0.019849</td>\n",
       "      <td>-0.295617</td>\n",
       "      <td>-0.011066</td>\n",
       "      <td>0.636214</td>\n",
       "      <td>2</td>\n",
       "      <td>2</td>\n",
       "      <td>1</td>\n",
       "    </tr>\n",
       "    <tr>\n",
       "      <th>3</th>\n",
       "      <td>7435</td>\n",
       "      <td>1773</td>\n",
       "      <td>5</td>\n",
       "      <td>2000</td>\n",
       "      <td>1.000000</td>\n",
       "      <td>6.123234e-17</td>\n",
       "      <td>[-0.044769704, -0.0068349363, 0.037979748, -0....</td>\n",
       "      <td>0.000328</td>\n",
       "      <td>[-0.030650476, 0.027059676, -0.008651573, 0.09...</td>\n",
       "      <td>1.207007</td>\n",
       "      <td>...</td>\n",
       "      <td>0.108114</td>\n",
       "      <td>0.449069</td>\n",
       "      <td>0.479691</td>\n",
       "      <td>-0.041970</td>\n",
       "      <td>0.657521</td>\n",
       "      <td>-0.070665</td>\n",
       "      <td>0.735893</td>\n",
       "      <td>3</td>\n",
       "      <td>3</td>\n",
       "      <td>1</td>\n",
       "    </tr>\n",
       "    <tr>\n",
       "      <th>4</th>\n",
       "      <td>44</td>\n",
       "      <td>2085</td>\n",
       "      <td>5</td>\n",
       "      <td>2000</td>\n",
       "      <td>1.000000</td>\n",
       "      <td>6.123234e-17</td>\n",
       "      <td>[-0.045681693, -0.038909838, -0.025304835, 0.0...</td>\n",
       "      <td>-0.003469</td>\n",
       "      <td>[-0.04197564, -0.01328214, -0.038452026, 0.047...</td>\n",
       "      <td>1.207007</td>\n",
       "      <td>...</td>\n",
       "      <td>0.479179</td>\n",
       "      <td>1.057374</td>\n",
       "      <td>-0.049972</td>\n",
       "      <td>-0.110546</td>\n",
       "      <td>-0.086392</td>\n",
       "      <td>-0.118344</td>\n",
       "      <td>0.693529</td>\n",
       "      <td>4</td>\n",
       "      <td>4</td>\n",
       "      <td>1</td>\n",
       "    </tr>\n",
       "  </tbody>\n",
       "</table>\n",
       "<p>5 rows × 23 columns</p>\n",
       "</div>"
      ],
      "text/plain": [
       "   recipe_id  user_id  rating  year  month_sin     month_cos  \\\n",
       "0        992     2008       5  2000   0.500000  8.660254e-01   \n",
       "1       4384     1634       4  2001  -0.866025  5.000000e-01   \n",
       "2       4523     2046       2  2000   0.866025  5.000000e-01   \n",
       "3       7435     1773       5  2000   1.000000  6.123234e-17   \n",
       "4         44     2085       5  2000   1.000000  6.123234e-17   \n",
       "\n",
       "                                                name  totaltime  \\\n",
       "0  [-0.10509939, -0.053312678, -0.050426587, 0.06...  -0.003597   \n",
       "1  [-0.060209103, -0.005112475, -0.012842847, 0.0...  -0.002075   \n",
       "2  [-0.040666275, 0.042316977, 0.016736453, 0.043...  -0.003116   \n",
       "3  [-0.044769704, -0.0068349363, 0.037979748, -0....   0.000328   \n",
       "4  [-0.045681693, -0.038909838, -0.025304835, 0.0...  -0.003469   \n",
       "\n",
       "                                      recipecategory  aggregatedrating  ...  \\\n",
       "0  [-0.029408956, 0.010818674, -0.07821881, 0.070...          1.207007  ...   \n",
       "1  [-0.00247523, -0.028400732, -0.026927572, 0.01...          1.207007  ...   \n",
       "2  [-0.046632297, -0.0098071555, -0.014670166, 0....          0.345601  ...   \n",
       "3  [-0.030650476, 0.027059676, -0.008651573, 0.09...          1.207007  ...   \n",
       "4  [-0.04197564, -0.01328214, -0.038452026, 0.047...          1.207007  ...   \n",
       "\n",
       "   saturatedfatcontent  cholesterolcontent  sodiumcontent  \\\n",
       "0            -0.099940           -0.207913      -0.141489   \n",
       "1            -0.205039           -0.286393      -0.113227   \n",
       "2            -0.175011            0.154354       0.311716   \n",
       "3             0.108114            0.449069       0.479691   \n",
       "4             0.479179            1.057374      -0.049972   \n",
       "\n",
       "   carbohydratecontent  fibercontent  sugarcontent  proteincontent  \\\n",
       "0            -0.253781     -0.376983     -0.147092       -0.328181   \n",
       "1            -0.266500     -0.400230     -0.152701       -0.430352   \n",
       "2            -0.019849     -0.295617     -0.011066        0.636214   \n",
       "3            -0.041970      0.657521     -0.070665        0.735893   \n",
       "4            -0.110546     -0.086392     -0.118344        0.693529   \n",
       "\n",
       "   user_id_index  recipe_id_index  label  \n",
       "0              0                0      1  \n",
       "1              1                1      1  \n",
       "2              2                2      1  \n",
       "3              3                3      1  \n",
       "4              4                4      1  \n",
       "\n",
       "[5 rows x 23 columns]"
      ]
     },
     "execution_count": 17,
     "metadata": {},
     "output_type": "execute_result"
    }
   ],
   "source": [
    "combined_data.head()"
   ]
  },
  {
   "cell_type": "code",
   "execution_count": 18,
   "metadata": {},
   "outputs": [
    {
     "data": {
      "text/plain": [
       "(100000, 23)"
      ]
     },
     "execution_count": 18,
     "metadata": {},
     "output_type": "execute_result"
    }
   ],
   "source": [
    "combined_data.shape"
   ]
  },
  {
   "cell_type": "markdown",
   "metadata": {
    "id": "vkwbrdeyqmyd"
   },
   "source": [
    "# Model Implementation"
   ]
  },
  {
   "cell_type": "code",
   "execution_count": 19,
   "metadata": {},
   "outputs": [],
   "source": [
    "import torch\n",
    "import torch.nn as nn\n",
    "import torch.nn.functional as F\n",
    "import torch.optim as optim\n",
    "from torch.utils.data import Dataset"
   ]
  },
  {
   "cell_type": "markdown",
   "metadata": {},
   "source": [
    "## Dataset"
   ]
  },
  {
   "cell_type": "code",
   "execution_count": 20,
   "metadata": {},
   "outputs": [],
   "source": [
    "class CombinedDataset(Dataset):\n",
    "    def __init__(self, combined_df):\n",
    "        \"\"\"\n",
    "        Args:\n",
    "            reviews_df (pd.DataFrame): Dataframe containing the reviews data.\n",
    "        \"\"\"\n",
    "        self.features = combined_df\n",
    "\n",
    "    def __len__(self):\n",
    "        # Return the total number of samples\n",
    "        return len(self.features)\n",
    "\n",
    "    def __getitem__(self, idx):\n",
    "        \"\"\"\n",
    "        Args:\n",
    "            idx (int): Index of the sample to fetch.\n",
    "        Returns:\n",
    "            A dictionary with tensors for the input features and target rating.\n",
    "        \"\"\"\n",
    "        row = self.features.iloc[idx]\n",
    "        \n",
    "        # Extract features\n",
    "        user_id = row[\"user_id\"]\n",
    "        user_id_index = row[\"user_id_index\"]\n",
    "        recipe_id = row[\"recipe_id\"]\n",
    "        recipe_id_index = row[\"recipe_id_index\"]\n",
    "        year = torch.tensor(row[\"year\"], dtype=torch.float32)\n",
    "        month_sin = torch.tensor(row[\"month_sin\"], dtype=torch.float32)\n",
    "        month_cos = torch.tensor(row[\"month_cos\"], dtype=torch.float32)\n",
    "        rating = torch.tensor(row[\"rating\"], dtype=torch.float32)\n",
    "        name_embedding = torch.tensor(row[\"name\"], dtype=torch.float32)\n",
    "        total_time = torch.tensor(row[\"totaltime\"], dtype=torch.float32)\n",
    "        category_embedding = torch.tensor(row[\"recipecategory\"], dtype=torch.float32)\n",
    "        aggr_rating = torch.tensor(row[\"aggregatedrating\"], dtype=torch.float32)\n",
    "        review_count = torch.tensor(row[\"reviewcount\"], dtype=torch.float32)\n",
    "        calories = torch.tensor(row[\"calories\"], dtype=torch.float32)\n",
    "        fat_content = torch.tensor(row[\"fatcontent\"], dtype=torch.float32)\n",
    "        saturated_fat_content = torch.tensor(row[\"saturatedfatcontent\"], dtype=torch.float32)\n",
    "        cholesterol_content = torch.tensor(row[\"cholesterolcontent\"], dtype=torch.float32)\n",
    "        sodium_content = torch.tensor(row[\"sodiumcontent\"], dtype=torch.float32)\n",
    "        carbohydrate_content = torch.tensor(row[\"carbohydratecontent\"], dtype=torch.float32)\n",
    "        fiber_content = torch.tensor(row[\"fibercontent\"], dtype=torch.float32)\n",
    "        sugar_content = torch.tensor(row[\"sugarcontent\"], dtype=torch.float32)\n",
    "        protein_content = torch.tensor(row[\"proteincontent\"], dtype=torch.float32)\n",
    "        label = row[\"label\"]\n",
    "        return {\n",
    "            \"user_id\": user_id,\n",
    "            \"user_id_index\": user_id_index,\n",
    "            \"recipe_id\": recipe_id,\n",
    "            \"recipe_id_index\": recipe_id_index,\n",
    "            \"year\": year,\n",
    "            \"month_sin\": month_sin,\n",
    "            \"month_cos\": month_cos,\n",
    "            \"rating\": rating,\n",
    "            \"name_embedding\": name_embedding,\n",
    "            \"total_time\": total_time,\n",
    "            \"category_embedding\": category_embedding,\n",
    "            \"aggr_rating\": aggr_rating,\n",
    "            \"calories\": calories,\n",
    "            \"review_count\" : review_count,\n",
    "            \"fat_content\": fat_content,\n",
    "            \"saturated_fat_content\": saturated_fat_content,\n",
    "            \"cholesterol_content\": cholesterol_content,\n",
    "            \"sodium_content\" : sodium_content,\n",
    "            \"carbohydrate_content\" : carbohydrate_content,\n",
    "            \"fiber_content\" : fiber_content,\n",
    "            \"sugar_content\" : sugar_content,\n",
    "            \"protein_content\" : protein_content,\n",
    "            \"label\" : label\n",
    "        }"
   ]
  },
  {
   "cell_type": "code",
   "execution_count": 36,
   "metadata": {},
   "outputs": [],
   "source": [
    "class RecipeDataset(Dataset):\n",
    "    def __init__(self, recipes_df):\n",
    "        \"\"\"\n",
    "        Args:\n",
    "            recipes_df (pd.DataFrame): Dataframe containing the reviews data.\n",
    "        \"\"\"\n",
    "        self.recipes_df = recipes_df\n",
    "\n",
    "    def __len__(self):\n",
    "        # Return the total number of samples\n",
    "        return len(self.recipes_df)\n",
    "\n",
    "    def __getitem__(self, idx):\n",
    "        \"\"\"\n",
    "        Args:\n",
    "            idx (int): Index of the sample to fetch.\n",
    "        Returns:\n",
    "            A dictionary with tensors for the input features and target rating.\n",
    "        \"\"\"\n",
    "        row = self.recipes_df.iloc[idx]\n",
    "\n",
    "        # Extract features\n",
    "        recipe_id = row[\"recipeid\"]\n",
    "        name_embedding = torch.tensor(row[\"name\"], dtype=torch.float32)\n",
    "        author_id = row[\"authorid\"]\n",
    "        total_time = torch.tensor(row[\"totaltime\"], dtype=torch.float32)\n",
    "        category_embedding = torch.tensor(row[\"recipecategory\"], dtype=torch.float32)\n",
    "        aggr_rating = torch.tensor(row[\"aggregatedrating\"], dtype=torch.float32)\n",
    "        review_count = torch.tensor(row[\"reviewcount\"], dtype=torch.float32)\n",
    "        calories = torch.tensor(row[\"calories\"], dtype=torch.float32)\n",
    "        fat_content = torch.tensor(row[\"fatcontent\"], dtype=torch.float32)\n",
    "        saturated_fat_content = torch.tensor(row[\"saturatedfatcontent\"], dtype=torch.float32)\n",
    "        cholesterol_content = torch.tensor(row[\"cholesterolcontent\"], dtype=torch.float32)\n",
    "        sodium_content = torch.tensor(row[\"sodiumcontent\"], dtype=torch.float32)\n",
    "        carbohydrate_content = torch.tensor(row[\"carbohydratecontent\"], dtype=torch.float32)\n",
    "        fiber_content = torch.tensor(row[\"fibercontent\"], dtype=torch.float32)\n",
    "        sugar_content = torch.tensor(row[\"sugarcontent\"], dtype=torch.float32)\n",
    "        protein_content = torch.tensor(row[\"proteincontent\"], dtype=torch.float32)\n",
    "\n",
    "        return {\n",
    "            \"recipe_id\": recipe_id,\n",
    "            \"name_embedding\": name_embedding,\n",
    "            \"author_id\": author_id,\n",
    "            \"total_time\": total_time,\n",
    "            \"category_embedding\": category_embedding,\n",
    "            \"aggr_rating\": aggr_rating,\n",
    "            \"calories\": calories,\n",
    "            \"review_count\" : review_count,\n",
    "            \"fat_content\": fat_content,\n",
    "            \"saturated_fat_content\": saturated_fat_content,\n",
    "            \"cholesterol_content\": cholesterol_content,\n",
    "            \"sodium_content\" : sodium_content,\n",
    "            \"carbohydrate_content\" : carbohydrate_content,\n",
    "            \"fiber_content\" : fiber_content,\n",
    "            \"sugar_content\" : sugar_content,\n",
    "            \"protein_content\" : protein_content\n",
    "        }"
   ]
  },
  {
   "cell_type": "markdown",
   "metadata": {},
   "source": [
    "## User Tower"
   ]
  },
  {
   "cell_type": "code",
   "execution_count": 21,
   "metadata": {},
   "outputs": [],
   "source": [
    "class UserTower(nn.Module):\n",
    "    def __init__(self, num_embeddings, embedding_dim):\n",
    "        \"\"\"\n",
    "        Args:\n",
    "            num_embeddings (int): Number of user embeddings.\n",
    "            embedding_dim (int): Dimensionality of the output embedding vector.\n",
    "        \"\"\"\n",
    "        super(UserTower, self).__init__()\n",
    "        self.embedding_dim = embedding_dim\n",
    "        \n",
    "        self.user_embedding = nn.Embedding(num_embeddings=num_embeddings, embedding_dim=self.embedding_dim)\n",
    "        \n",
    "        # Fully connected layers for the user tower\n",
    "        self.fc1 = nn.Linear(embedding_dim + 4, 128)  # embedding_dim + month_sin, month_cos, year, rating\n",
    "        self.fc2 = nn.Linear(128, 64)\n",
    "        self.fc3 = nn.Linear(64, embedding_dim)  # Final embedding layer\n",
    "\n",
    "    def forward(self, user_id, month_sin=None, month_cos=None, year=None, rating=None):\n",
    "        \"\"\"\n",
    "        Forward pass for the User Tower.\n",
    "        \n",
    "        Args:\n",
    "            user_id (Tensor): User ID tensor.\n",
    "            month_sin (Tensor, optional): Sinusoidal month feature.\n",
    "            month_cos (Tensor, optional): Cosine month feature.\n",
    "            year (Tensor, optional): Year feature.\n",
    "            rating (Tensor, optional): Rating given to recipe.\n",
    "        \n",
    "        Returns:\n",
    "            Tensor: user review embedding of size embedding_dim.\n",
    "        \"\"\"\n",
    "        # Get user embedding from user_id\n",
    "        user_id_embedding = self.user_embedding(user_id)\n",
    "        \n",
    "        # During inference (not training), we just return the user_id_embedding\n",
    "        if not self.training:\n",
    "            return user_id_embedding\n",
    "        \n",
    "        # If we are in training, concatenate additional features\n",
    "        if month_sin is not None and month_cos is not None and year is not None and rating is not None:\n",
    "            # Concatenate all features (now all are 2D tensors)\n",
    "            x = torch.cat((user_id_embedding, month_sin.unsqueeze(1), month_cos.unsqueeze(1), year.unsqueeze(1), rating.unsqueeze(1)), dim=1)\n",
    "        else:\n",
    "            # If features are missing (this should not happen during training), just return the user embedding\n",
    "            return user_id_embedding\n",
    "        \n",
    "        # Pass through fully connected layers\n",
    "        x = F.relu(self.fc1(x))\n",
    "        x = F.relu(self.fc2(x))\n",
    "        x = self.fc3(x)  # Final embedding vector\n",
    "        return x"
   ]
  },
  {
   "cell_type": "markdown",
   "metadata": {},
   "source": [
    "## Item Tower"
   ]
  },
  {
   "cell_type": "code",
   "execution_count": 22,
   "metadata": {},
   "outputs": [],
   "source": [
    "class ItemTower(nn.Module):\n",
    "    def __init__(self, num_embeddings, embedding_dim, recipe_embedding_dim):\n",
    "        \"\"\"\n",
    "        Args:\n",
    "            review_vector_dim (int): Dimensionality of the review feature vector.\n",
    "            embedding_dim (int): Dimensionality of the output embedding vector.\n",
    "        \"\"\"\n",
    "        super(ItemTower, self).__init__()\n",
    "        \n",
    "        self.embedding_dim = embedding_dim\n",
    "        \n",
    "        self.item_embedding = nn.Embedding(num_embeddings=num_embeddings, embedding_dim=self.embedding_dim)\n",
    "        \n",
    "        self.fc1 = nn.Linear(embedding_dim + recipe_embedding_dim * 2 + 12, 128)  # Add month_sin, month_cos, and year, and rating\n",
    "        self.fc2 = nn.Linear(128, 64)\n",
    "        self.fc3 = nn.Linear(64, embedding_dim)  # Final embedding layer\n",
    "\n",
    "    def forward(self, recipe_id, name_embedding, total_time, category_embedding,\n",
    "                aggr_rating, review_count, calories, fat_content, saturated_fat_content,\n",
    "                cholesterol_content, sodium_content, carbohydrate_content, fiber_content,\n",
    "                sugar_content, protein_content\n",
    "                ):\n",
    "        \"\"\"\n",
    "        Forward pass for the recipe tower.\n",
    "        \n",
    "        Args:\n",
    "            name_embedding (Tensor): Embedding made for the recipe name.\n",
    "            author_id (Tensor): ID for the author.\n",
    "            total_time (Tensor): Parsed total time taken to prepare the recipe.\n",
    "            category_embedding (Tensor): Embedding made for the recipe category.\n",
    "            aggr_rating (Tensor): Average rating for the recipe.\n",
    "            review_count (Tensor): Count of reviews for the recipe.\n",
    "            (The rest are very self-explanatory)\n",
    "        \n",
    "        Returns:\n",
    "            Tensor: Embedded vector for the review.\n",
    "        \"\"\"\n",
    "        recipe_id = recipe_id.long()\n",
    "        \n",
    "        item_id_embedding = self.item_embedding(recipe_id)\n",
    "        \n",
    "        # Concatenate all features\n",
    "        x = torch.cat((\n",
    "        item_id_embedding,\n",
    "        name_embedding, \n",
    "        total_time.unsqueeze(1), \n",
    "        category_embedding, \n",
    "        aggr_rating.unsqueeze(1), \n",
    "        review_count.unsqueeze(1), \n",
    "        calories.unsqueeze(1), \n",
    "        fat_content.unsqueeze(1), \n",
    "        saturated_fat_content.unsqueeze(1), \n",
    "        cholesterol_content.unsqueeze(1), \n",
    "        sodium_content.unsqueeze(1), \n",
    "        carbohydrate_content.unsqueeze(1), \n",
    "        fiber_content.unsqueeze(1), \n",
    "        sugar_content.unsqueeze(1), \n",
    "        protein_content.unsqueeze(1)\n",
    "        ), dim=1)\n",
    "    \n",
    "        # Pass through fully connected layers\n",
    "        x = F.relu(self.fc1(x))\n",
    "        x = F.relu(self.fc2(x))\n",
    "        x = self.fc3(x)  # Final embedding vector\n",
    "        return x\n"
   ]
  },
  {
   "cell_type": "markdown",
   "metadata": {},
   "source": [
    "## Dataloaders"
   ]
  },
  {
   "cell_type": "code",
   "execution_count": null,
   "metadata": {},
   "outputs": [],
   "source": []
  },
  {
   "cell_type": "code",
   "execution_count": 23,
   "metadata": {},
   "outputs": [
    {
     "name": "stdout",
     "output_type": "stream",
     "text": [
      "User Embedding shape: torch.Size([32, 32])\n",
      "tensor([[-72.4833,  32.5365,  25.5362,  ..., -17.2842,  24.8866, -64.3908],\n",
      "        [-72.6145,  32.7158,  25.4606,  ..., -17.2961,  24.7523, -64.4166],\n",
      "        [-72.3085,  32.3533,  25.5840,  ..., -17.1529,  24.9776, -64.1700],\n",
      "        ...,\n",
      "        [-72.3801,  32.6291,  25.5327,  ..., -17.2105,  24.6026, -64.3085],\n",
      "        [-72.6608,  32.6305,  25.3865,  ..., -17.1698,  24.7820, -64.3469],\n",
      "        [-72.6562,  32.7243,  25.3833,  ..., -17.2108,  24.9251, -64.4612]],\n",
      "       grad_fn=<AddmmBackward0>)\n",
      "Item Embedding shape: torch.Size([32, 32])\n",
      "tensor([[-0.0323, -0.0758,  0.0312,  ..., -0.0329, -0.1309,  0.0827],\n",
      "        [ 0.0289, -0.0650,  0.0087,  ..., -0.0268, -0.0939,  0.0540],\n",
      "        [ 0.0412, -0.0541,  0.0201,  ..., -0.0643, -0.1040,  0.0773],\n",
      "        ...,\n",
      "        [ 0.0453, -0.0457,  0.0304,  ..., -0.0471, -0.1041,  0.0808],\n",
      "        [ 0.0217, -0.0820,  0.0258,  ..., -0.0642, -0.1076,  0.0808],\n",
      "        [ 0.0368, -0.0532,  0.0169,  ..., -0.0295, -0.0984,  0.0524]],\n",
      "       grad_fn=<AddmmBackward0>)\n"
     ]
    }
   ],
   "source": [
    "from torch.utils.data import DataLoader\n",
    "\n",
    "NUM_USERS = 15971\n",
    "NUM_RECIPES = 39507 # len(combined_data['recipe_id'].unique())\n",
    "\n",
    "batch_size = 32\n",
    "\n",
    "# Create review and recipe dataloaders\n",
    "# Create the dataset\n",
    "dataset = CombinedDataset(combined_data)\n",
    "\n",
    "\n",
    "# Define dimensions\n",
    "embedding_dim = 32  # Size of the output embedding vector (arbitrary, tunable)\n",
    "recipe_embedding_dim = 384  # Dimensionality of the \"review\" feature\n",
    "\n",
    "# Initialize the model\n",
    "user_tower = UserTower(num_embeddings=NUM_USERS, embedding_dim=embedding_dim)\n",
    "item_tower = ItemTower(num_embeddings=NUM_RECIPES, embedding_dim=embedding_dim, recipe_embedding_dim=recipe_embedding_dim)\n",
    "\n",
    "# Create a DataLoader for batching\n",
    "batch_size = 32\n",
    "dataloader = DataLoader(dataset, batch_size=batch_size, shuffle=True)\n",
    "\n",
    "\n",
    "# Example: Iterate through the DataLoader\n",
    "for batch in dataloader:\n",
    "    user_embeddings = user_tower(batch[\"user_id_index\"], batch[\"month_sin\"], batch[\"month_cos\"], batch[\"year\"], batch[\"rating\"])\n",
    "    item_embeddings = item_tower(\n",
    "        batch[\"recipe_id_index\"],\n",
    "        batch[\"name_embedding\"],  \n",
    "        batch[\"total_time\"], \n",
    "        batch[\"category_embedding\"], \n",
    "        batch[\"aggr_rating\"],\n",
    "        batch[\"review_count\"], \n",
    "        batch[\"calories\"], \n",
    "        batch[\"fat_content\"], \n",
    "        batch[\"saturated_fat_content\"], \n",
    "        batch[\"cholesterol_content\"], \n",
    "        batch[\"sodium_content\"], \n",
    "        batch[\"carbohydrate_content\"], \n",
    "        batch[\"fiber_content\"], \n",
    "        batch[\"sugar_content\"], \n",
    "        batch[\"protein_content\"]\n",
    "    )\n",
    "    print(\"User Embedding shape:\", user_embeddings.shape)\n",
    "    print(user_embeddings)\n",
    "    print(\"Item Embedding shape:\", item_embeddings.shape)\n",
    "    print(item_embeddings)\n",
    "    break"
   ]
  },
  {
   "cell_type": "markdown",
   "metadata": {},
   "source": [
    "## Embeddings for Paired Dataset"
   ]
  },
  {
   "cell_type": "markdown",
   "metadata": {},
   "source": [
    "## Two-Tower Model"
   ]
  },
  {
   "cell_type": "code",
   "execution_count": 24,
   "metadata": {
    "id": "6gbdLdgjcmbx"
   },
   "outputs": [],
   "source": [
    "class TwoTowerRecommender(nn.Module):\n",
    "    def __init__(self):\n",
    "        super(TwoTowerRecommender, self).__init__()\n",
    "\n",
    "    def forward(self, user_embedding, item_embedding):\n",
    "        # Compute cosine similarity\n",
    "        similarity = F.cosine_similarity(user_embedding, item_embedding, dim=1)\n",
    "        # scale from [-1, 1] to [0, 1] for BCE loss\n",
    "        similarity = torch.clamp(0.5 * (similarity + 1), min=0, max=1)\n",
    "        return similarity\n"
   ]
  },
  {
   "cell_type": "markdown",
   "metadata": {
    "id": "OJu6I-Bwqoju"
   },
   "source": [
    "# Training"
   ]
  },
  {
   "cell_type": "markdown",
   "metadata": {},
   "source": [
    "## Training Loop"
   ]
  },
  {
   "cell_type": "code",
   "execution_count": 25,
   "metadata": {},
   "outputs": [
    {
     "name": "stdout",
     "output_type": "stream",
     "text": [
      "Using device: cuda\n"
     ]
    }
   ],
   "source": [
    "device = torch.device(\"cuda\" if torch.cuda.is_available() else \"cpu\")\n",
    "print(f\"Using device: {device}\")"
   ]
  },
  {
   "cell_type": "code",
   "execution_count": 28,
   "metadata": {
    "id": "AJA1ZRJVqpTw"
   },
   "outputs": [
    {
     "name": "stderr",
     "output_type": "stream",
     "text": [
      "100%|██████████| 3125/3125 [01:00<00:00, 51.82it/s]\n"
     ]
    },
    {
     "name": "stdout",
     "output_type": "stream",
     "text": [
      "Epoch 1/50, Loss: 0.1221\n"
     ]
    },
    {
     "name": "stderr",
     "output_type": "stream",
     "text": [
      "100%|██████████| 3125/3125 [00:56<00:00, 55.09it/s]\n"
     ]
    },
    {
     "name": "stdout",
     "output_type": "stream",
     "text": [
      "Epoch 2/50, Loss: 0.0070\n"
     ]
    },
    {
     "name": "stderr",
     "output_type": "stream",
     "text": [
      "100%|██████████| 3125/3125 [00:56<00:00, 54.89it/s]\n"
     ]
    },
    {
     "name": "stdout",
     "output_type": "stream",
     "text": [
      "Epoch 3/50, Loss: 0.0000\n"
     ]
    },
    {
     "name": "stderr",
     "output_type": "stream",
     "text": [
      "100%|██████████| 3125/3125 [00:57<00:00, 54.76it/s]\n"
     ]
    },
    {
     "name": "stdout",
     "output_type": "stream",
     "text": [
      "Epoch 4/50, Loss: 0.0000\n"
     ]
    },
    {
     "name": "stderr",
     "output_type": "stream",
     "text": [
      "100%|██████████| 3125/3125 [00:58<00:00, 53.82it/s]\n"
     ]
    },
    {
     "name": "stdout",
     "output_type": "stream",
     "text": [
      "Epoch 5/50, Loss: 0.0000\n"
     ]
    },
    {
     "name": "stderr",
     "output_type": "stream",
     "text": [
      "100%|██████████| 3125/3125 [00:57<00:00, 54.05it/s]\n"
     ]
    },
    {
     "name": "stdout",
     "output_type": "stream",
     "text": [
      "Epoch 6/50, Loss: 0.0016\n"
     ]
    },
    {
     "name": "stderr",
     "output_type": "stream",
     "text": [
      "100%|██████████| 3125/3125 [00:57<00:00, 54.52it/s]\n"
     ]
    },
    {
     "name": "stdout",
     "output_type": "stream",
     "text": [
      "Epoch 7/50, Loss: 0.0000\n"
     ]
    },
    {
     "name": "stderr",
     "output_type": "stream",
     "text": [
      "100%|██████████| 3125/3125 [00:57<00:00, 54.55it/s]\n"
     ]
    },
    {
     "name": "stdout",
     "output_type": "stream",
     "text": [
      "Epoch 8/50, Loss: 0.0000\n"
     ]
    },
    {
     "name": "stderr",
     "output_type": "stream",
     "text": [
      "100%|██████████| 3125/3125 [00:56<00:00, 55.62it/s] \n"
     ]
    },
    {
     "name": "stdout",
     "output_type": "stream",
     "text": [
      "Epoch 9/50, Loss: 0.0013\n"
     ]
    },
    {
     "name": "stderr",
     "output_type": "stream",
     "text": [
      "100%|██████████| 3125/3125 [00:57<00:00, 54.42it/s]\n"
     ]
    },
    {
     "name": "stdout",
     "output_type": "stream",
     "text": [
      "Epoch 10/50, Loss: 0.0022\n"
     ]
    },
    {
     "name": "stderr",
     "output_type": "stream",
     "text": [
      "100%|██████████| 3125/3125 [00:57<00:00, 53.94it/s]\n"
     ]
    },
    {
     "name": "stdout",
     "output_type": "stream",
     "text": [
      "Epoch 11/50, Loss: 0.0000\n"
     ]
    },
    {
     "name": "stderr",
     "output_type": "stream",
     "text": [
      "100%|██████████| 3125/3125 [00:57<00:00, 54.69it/s]\n"
     ]
    },
    {
     "name": "stdout",
     "output_type": "stream",
     "text": [
      "Epoch 12/50, Loss: 0.0020\n"
     ]
    },
    {
     "name": "stderr",
     "output_type": "stream",
     "text": [
      "100%|██████████| 3125/3125 [00:56<00:00, 54.83it/s]\n"
     ]
    },
    {
     "name": "stdout",
     "output_type": "stream",
     "text": [
      "Epoch 13/50, Loss: 0.0092\n"
     ]
    },
    {
     "name": "stderr",
     "output_type": "stream",
     "text": [
      "100%|██████████| 3125/3125 [00:57<00:00, 54.59it/s]\n"
     ]
    },
    {
     "name": "stdout",
     "output_type": "stream",
     "text": [
      "Epoch 14/50, Loss: 0.0000\n"
     ]
    },
    {
     "name": "stderr",
     "output_type": "stream",
     "text": [
      "100%|██████████| 3125/3125 [00:57<00:00, 54.36it/s]\n"
     ]
    },
    {
     "name": "stdout",
     "output_type": "stream",
     "text": [
      "Epoch 15/50, Loss: 0.0000\n"
     ]
    },
    {
     "name": "stderr",
     "output_type": "stream",
     "text": [
      "100%|██████████| 3125/3125 [00:57<00:00, 54.43it/s]\n"
     ]
    },
    {
     "name": "stdout",
     "output_type": "stream",
     "text": [
      "Epoch 16/50, Loss: 0.0000\n"
     ]
    },
    {
     "name": "stderr",
     "output_type": "stream",
     "text": [
      "100%|██████████| 3125/3125 [00:57<00:00, 54.38it/s]\n"
     ]
    },
    {
     "name": "stdout",
     "output_type": "stream",
     "text": [
      "Epoch 17/50, Loss: 0.0052\n"
     ]
    },
    {
     "name": "stderr",
     "output_type": "stream",
     "text": [
      "100%|██████████| 3125/3125 [00:57<00:00, 54.82it/s]\n"
     ]
    },
    {
     "name": "stdout",
     "output_type": "stream",
     "text": [
      "Epoch 18/50, Loss: 0.0000\n"
     ]
    },
    {
     "name": "stderr",
     "output_type": "stream",
     "text": [
      "100%|██████████| 3125/3125 [00:56<00:00, 54.92it/s]\n"
     ]
    },
    {
     "name": "stdout",
     "output_type": "stream",
     "text": [
      "Epoch 19/50, Loss: 0.0023\n"
     ]
    },
    {
     "name": "stderr",
     "output_type": "stream",
     "text": [
      "100%|██████████| 3125/3125 [00:57<00:00, 54.67it/s]\n"
     ]
    },
    {
     "name": "stdout",
     "output_type": "stream",
     "text": [
      "Epoch 20/50, Loss: 0.0006\n"
     ]
    },
    {
     "name": "stderr",
     "output_type": "stream",
     "text": [
      "100%|██████████| 3125/3125 [00:57<00:00, 54.58it/s]\n"
     ]
    },
    {
     "name": "stdout",
     "output_type": "stream",
     "text": [
      "Epoch 21/50, Loss: 0.0000\n"
     ]
    },
    {
     "name": "stderr",
     "output_type": "stream",
     "text": [
      "100%|██████████| 3125/3125 [00:56<00:00, 54.99it/s]\n"
     ]
    },
    {
     "name": "stdout",
     "output_type": "stream",
     "text": [
      "Epoch 22/50, Loss: 0.0000\n"
     ]
    },
    {
     "name": "stderr",
     "output_type": "stream",
     "text": [
      "100%|██████████| 3125/3125 [00:56<00:00, 55.35it/s]\n"
     ]
    },
    {
     "name": "stdout",
     "output_type": "stream",
     "text": [
      "Epoch 23/50, Loss: 0.0032\n"
     ]
    },
    {
     "name": "stderr",
     "output_type": "stream",
     "text": [
      "100%|██████████| 3125/3125 [00:56<00:00, 55.39it/s]\n"
     ]
    },
    {
     "name": "stdout",
     "output_type": "stream",
     "text": [
      "Epoch 24/50, Loss: 0.0006\n"
     ]
    },
    {
     "name": "stderr",
     "output_type": "stream",
     "text": [
      "100%|██████████| 3125/3125 [00:56<00:00, 55.19it/s]\n"
     ]
    },
    {
     "name": "stdout",
     "output_type": "stream",
     "text": [
      "Epoch 25/50, Loss: 0.0000\n"
     ]
    },
    {
     "name": "stderr",
     "output_type": "stream",
     "text": [
      "100%|██████████| 3125/3125 [00:56<00:00, 55.40it/s]\n"
     ]
    },
    {
     "name": "stdout",
     "output_type": "stream",
     "text": [
      "Epoch 26/50, Loss: 0.0000\n"
     ]
    },
    {
     "name": "stderr",
     "output_type": "stream",
     "text": [
      "100%|██████████| 3125/3125 [00:56<00:00, 55.06it/s]\n"
     ]
    },
    {
     "name": "stdout",
     "output_type": "stream",
     "text": [
      "Epoch 27/50, Loss: 0.0023\n"
     ]
    },
    {
     "name": "stderr",
     "output_type": "stream",
     "text": [
      "100%|██████████| 3125/3125 [00:56<00:00, 55.14it/s]\n"
     ]
    },
    {
     "name": "stdout",
     "output_type": "stream",
     "text": [
      "Epoch 28/50, Loss: 0.0000\n"
     ]
    },
    {
     "name": "stderr",
     "output_type": "stream",
     "text": [
      "100%|██████████| 3125/3125 [00:56<00:00, 55.15it/s]\n"
     ]
    },
    {
     "name": "stdout",
     "output_type": "stream",
     "text": [
      "Epoch 29/50, Loss: 0.0000\n"
     ]
    },
    {
     "name": "stderr",
     "output_type": "stream",
     "text": [
      "100%|██████████| 3125/3125 [00:56<00:00, 55.01it/s]\n"
     ]
    },
    {
     "name": "stdout",
     "output_type": "stream",
     "text": [
      "Epoch 30/50, Loss: 0.0070\n"
     ]
    },
    {
     "name": "stderr",
     "output_type": "stream",
     "text": [
      "100%|██████████| 3125/3125 [00:56<00:00, 55.10it/s]\n"
     ]
    },
    {
     "name": "stdout",
     "output_type": "stream",
     "text": [
      "Epoch 31/50, Loss: 0.0043\n"
     ]
    },
    {
     "name": "stderr",
     "output_type": "stream",
     "text": [
      "100%|██████████| 3125/3125 [00:56<00:00, 55.24it/s]\n"
     ]
    },
    {
     "name": "stdout",
     "output_type": "stream",
     "text": [
      "Epoch 32/50, Loss: 0.0000\n"
     ]
    },
    {
     "name": "stderr",
     "output_type": "stream",
     "text": [
      "100%|██████████| 3125/3125 [00:56<00:00, 54.91it/s]\n"
     ]
    },
    {
     "name": "stdout",
     "output_type": "stream",
     "text": [
      "Epoch 33/50, Loss: 0.0000\n"
     ]
    },
    {
     "name": "stderr",
     "output_type": "stream",
     "text": [
      "100%|██████████| 3125/3125 [00:56<00:00, 55.01it/s]\n"
     ]
    },
    {
     "name": "stdout",
     "output_type": "stream",
     "text": [
      "Epoch 34/50, Loss: 0.0000\n"
     ]
    },
    {
     "name": "stderr",
     "output_type": "stream",
     "text": [
      "100%|██████████| 3125/3125 [00:56<00:00, 55.00it/s]\n"
     ]
    },
    {
     "name": "stdout",
     "output_type": "stream",
     "text": [
      "Epoch 35/50, Loss: 0.0023\n"
     ]
    },
    {
     "name": "stderr",
     "output_type": "stream",
     "text": [
      "100%|██████████| 3125/3125 [00:56<00:00, 54.94it/s]\n"
     ]
    },
    {
     "name": "stdout",
     "output_type": "stream",
     "text": [
      "Epoch 36/50, Loss: 0.0009\n"
     ]
    },
    {
     "name": "stderr",
     "output_type": "stream",
     "text": [
      "100%|██████████| 3125/3125 [00:57<00:00, 54.76it/s]\n"
     ]
    },
    {
     "name": "stdout",
     "output_type": "stream",
     "text": [
      "Epoch 37/50, Loss: 0.0010\n"
     ]
    },
    {
     "name": "stderr",
     "output_type": "stream",
     "text": [
      "100%|██████████| 3125/3125 [00:56<00:00, 54.98it/s]\n"
     ]
    },
    {
     "name": "stdout",
     "output_type": "stream",
     "text": [
      "Epoch 38/50, Loss: 0.0000\n"
     ]
    },
    {
     "name": "stderr",
     "output_type": "stream",
     "text": [
      "100%|██████████| 3125/3125 [00:56<00:00, 54.89it/s]\n"
     ]
    },
    {
     "name": "stdout",
     "output_type": "stream",
     "text": [
      "Epoch 39/50, Loss: 0.0000\n"
     ]
    },
    {
     "name": "stderr",
     "output_type": "stream",
     "text": [
      "100%|██████████| 3125/3125 [00:56<00:00, 55.11it/s]\n"
     ]
    },
    {
     "name": "stdout",
     "output_type": "stream",
     "text": [
      "Epoch 40/50, Loss: 0.0000\n"
     ]
    },
    {
     "name": "stderr",
     "output_type": "stream",
     "text": [
      "100%|██████████| 3125/3125 [00:56<00:00, 54.87it/s]\n"
     ]
    },
    {
     "name": "stdout",
     "output_type": "stream",
     "text": [
      "Epoch 41/50, Loss: 0.0018\n"
     ]
    },
    {
     "name": "stderr",
     "output_type": "stream",
     "text": [
      "100%|██████████| 3125/3125 [00:56<00:00, 54.88it/s]\n"
     ]
    },
    {
     "name": "stdout",
     "output_type": "stream",
     "text": [
      "Epoch 42/50, Loss: 0.0000\n"
     ]
    },
    {
     "name": "stderr",
     "output_type": "stream",
     "text": [
      "100%|██████████| 3125/3125 [09:21<00:00,  5.57it/s]   \n"
     ]
    },
    {
     "name": "stdout",
     "output_type": "stream",
     "text": [
      "Epoch 43/50, Loss: 0.0000\n"
     ]
    },
    {
     "name": "stderr",
     "output_type": "stream",
     "text": [
      "100%|██████████| 3125/3125 [00:59<00:00, 52.55it/s]\n"
     ]
    },
    {
     "name": "stdout",
     "output_type": "stream",
     "text": [
      "Epoch 44/50, Loss: 0.0012\n"
     ]
    },
    {
     "name": "stderr",
     "output_type": "stream",
     "text": [
      "100%|██████████| 3125/3125 [00:58<00:00, 53.33it/s]\n"
     ]
    },
    {
     "name": "stdout",
     "output_type": "stream",
     "text": [
      "Epoch 45/50, Loss: 0.0012\n"
     ]
    },
    {
     "name": "stderr",
     "output_type": "stream",
     "text": [
      "100%|██████████| 3125/3125 [00:57<00:00, 54.55it/s]\n"
     ]
    },
    {
     "name": "stdout",
     "output_type": "stream",
     "text": [
      "Epoch 46/50, Loss: 0.0000\n"
     ]
    },
    {
     "name": "stderr",
     "output_type": "stream",
     "text": [
      "100%|██████████| 3125/3125 [00:57<00:00, 54.50it/s]\n"
     ]
    },
    {
     "name": "stdout",
     "output_type": "stream",
     "text": [
      "Epoch 47/50, Loss: 0.0000\n"
     ]
    },
    {
     "name": "stderr",
     "output_type": "stream",
     "text": [
      "100%|██████████| 3125/3125 [00:57<00:00, 54.62it/s]\n"
     ]
    },
    {
     "name": "stdout",
     "output_type": "stream",
     "text": [
      "Epoch 48/50, Loss: 0.0012\n"
     ]
    },
    {
     "name": "stderr",
     "output_type": "stream",
     "text": [
      "100%|██████████| 3125/3125 [00:57<00:00, 54.31it/s]\n"
     ]
    },
    {
     "name": "stdout",
     "output_type": "stream",
     "text": [
      "Epoch 49/50, Loss: 0.0004\n"
     ]
    },
    {
     "name": "stderr",
     "output_type": "stream",
     "text": [
      "100%|██████████| 3125/3125 [00:57<00:00, 54.37it/s]"
     ]
    },
    {
     "name": "stdout",
     "output_type": "stream",
     "text": [
      "Epoch 50/50, Loss: 0.0046\n",
      "Training complete.\n"
     ]
    },
    {
     "name": "stderr",
     "output_type": "stream",
     "text": [
      "\n"
     ]
    }
   ],
   "source": [
    "from tqdm import tqdm\n",
    "\n",
    "# Define the number of epochs and learning rate\n",
    "num_epochs = 10\n",
    "learning_rate = 1e-3\n",
    "\n",
    "# Initialize models\n",
    "user_tower = UserTower(num_embeddings=NUM_USERS, embedding_dim=embedding_dim)\n",
    "item_tower = ItemTower(num_embeddings=NUM_RECIPES, embedding_dim=embedding_dim, recipe_embedding_dim=recipe_embedding_dim)\n",
    "model = TwoTowerRecommender()\n",
    "\n",
    "# Define optimizer\n",
    "optimizer = optim.Adam(list(user_tower.parameters()) + list(item_tower.parameters()), lr=learning_rate)\n",
    "\n",
    "# Define loss function\n",
    "loss_fn = nn.BCELoss()  # Binary Cross-Entropy Loss\n",
    "\n",
    "# Set models to training mode\n",
    "user_tower.train()\n",
    "item_tower.train()\n",
    "model.train()\n",
    "\n",
    "epoch_losses = []\n",
    "\n",
    "# Create DataLoader for the dataset\n",
    "dataloader = DataLoader(dataset, batch_size=batch_size, shuffle=True)\n",
    "\n",
    "# Training loop\n",
    "for epoch in range(num_epochs):\n",
    "    total_loss = 0.0\n",
    "    for batch in tqdm(dataloader):\n",
    "        # Extract input data\n",
    "        user_embeddings = user_tower(\n",
    "            batch[\"user_id_index\"], \n",
    "            batch[\"month_sin\"], \n",
    "            batch[\"month_cos\"], \n",
    "            batch[\"year\"], \n",
    "            batch[\"rating\"]\n",
    "        )\n",
    "        item_embeddings = item_tower(\n",
    "            batch[\"recipe_id_index\"],\n",
    "            batch[\"name_embedding\"],  \n",
    "            batch[\"total_time\"], \n",
    "            batch[\"category_embedding\"], \n",
    "            batch[\"aggr_rating\"],\n",
    "            batch[\"review_count\"], \n",
    "            batch[\"calories\"], \n",
    "            batch[\"fat_content\"], \n",
    "            batch[\"saturated_fat_content\"], \n",
    "            batch[\"cholesterol_content\"], \n",
    "            batch[\"sodium_content\"], \n",
    "            batch[\"carbohydrate_content\"], \n",
    "            batch[\"fiber_content\"], \n",
    "            batch[\"sugar_content\"], \n",
    "            batch[\"protein_content\"]\n",
    "        )\n",
    "        \n",
    "        # Compute cosine similarity\n",
    "        similarity = model(user_embeddings, item_embeddings)\n",
    "        \n",
    "        # Target labels\n",
    "        labels = batch[\"label\"].float()  # Ensure labels are float for BCE Loss\n",
    "        \n",
    "        # Compute loss\n",
    "        loss = loss_fn(similarity, labels)\n",
    "        \n",
    "        # Backpropagation and optimization\n",
    "        optimizer.zero_grad()\n",
    "        loss.backward()\n",
    "        optimizer.step()\n",
    "        \n",
    "        # Accumulate loss\n",
    "        total_loss += loss.item()\n",
    "    \n",
    "    # Print epoch loss\n",
    "    epoch_loss = total_loss / len(dataloader)\n",
    "    epoch_losses.append(epoch_loss)\n",
    "    print(f\"Epoch {epoch+1}/{num_epochs}, Loss: {epoch_loss:.4f}\")\n",
    "\n",
    "print(\"Training complete.\")"
   ]
  },
  {
   "cell_type": "code",
   "execution_count": 35,
   "metadata": {},
   "outputs": [
    {
     "data": {
      "image/png": "[encoded data removed]",
      "text/plain": [
       "<Figure size 640x480 with 1 Axes>"
      ]
     },
     "metadata": {},
     "output_type": "display_data"
    }
   ],
   "source": [
    "# Plot the training loss\n",
    "plt.plot(range(1, num_epochs + 1), epoch_losses, marker='o')\n",
    "plt.title(\"Training Loss Over Epochs\")\n",
    "plt.xlabel(\"Epoch\")\n",
    "plt.ylabel(\"Loss\")\n",
    "plt.grid(True)\n",
    "plt.show()"
   ]
  },
  {
   "cell_type": "markdown",
   "metadata": {},
   "source": [
    "# Inference"
   ]
  },
  {
   "cell_type": "code",
   "execution_count": 29,
   "metadata": {},
   "outputs": [],
   "source": [
    "def recommend_recipes(user_id, user_tower, item_tower, recipe_dataloader, num_recommendations=5):\n",
    "    # Step 1: Get the user embedding from the UserTower\n",
    "    user_embedding = user_tower(user_id).squeeze(0)  # Remove the extra dimension for batch size\n",
    "    \n",
    "    # Check the shape of the user_embedding\n",
    "    print(f\"user_embedding shape: {user_embedding.shape}\")\n",
    "    \n",
    "    # Step 2: Get embeddings for all recipes (you can loop through the dataset or batch them)\n",
    "    all_recipe_embeddings = []\n",
    "    all_recipe_ids = []  # Store corresponding recipe ids\n",
    "    for batch in tqdm(recipe_dataloader):  # Iterate through DataFrame rows\n",
    "        # Extract the values from the row (each row is a pandas Series)\n",
    "        recipe_embedding = item_tower(\n",
    "            batch[\"recipe_id_index\"],\n",
    "            batch[\"name_embedding\"],  \n",
    "            batch[\"total_time\"], \n",
    "            batch[\"category_embedding\"], \n",
    "            batch[\"aggr_rating\"],\n",
    "            batch[\"review_count\"], \n",
    "            batch[\"calories\"], \n",
    "            batch[\"fat_content\"], \n",
    "            batch[\"saturated_fat_content\"], \n",
    "            batch[\"cholesterol_content\"], \n",
    "            batch[\"sodium_content\"], \n",
    "            batch[\"carbohydrate_content\"], \n",
    "            batch[\"fiber_content\"], \n",
    "            batch[\"sugar_content\"], \n",
    "            batch[\"protein_content\"]\n",
    "        )\n",
    "\n",
    "        # Step 4: Append recipe embeddings and IDs for each batch\n",
    "        all_recipe_embeddings.append(recipe_embedding)\n",
    "        all_recipe_ids.extend(batch[\"recipe_id\"].tolist())  # Add recipe IDs as a list\n",
    "\n",
    "    # Step 5: Concatenate all recipe embeddings into a single tensor (batch-wise)\n",
    "    all_recipe_embeddings = torch.cat(all_recipe_embeddings, dim=0)\n",
    "    \n",
    "    # Check the shape of all_recipe_embeddings\n",
    "    print(f\"all_recipe_embeddings shape: {all_recipe_embeddings.shape}\")\n",
    "    \n",
    "    print(user_embedding.unsqueeze(0).shape)\n",
    "    \n",
    "    # Step 6: Compute cosine similarity between the user embedding and all recipe embeddings\n",
    "    similarities = F.cosine_similarity(user_embedding.unsqueeze(0), all_recipe_embeddings)  # unsqueeze for batch dimension\n",
    "    \n",
    "    # Check the shape of similarities\n",
    "    print(f\"similarities shape: {similarities.shape}\")\n",
    "    \n",
    "    # Step 7: Get the top N most similar recipes\n",
    "    top_n_indices = torch.topk(similarities, num_recommendations).indices\n",
    "    top_n_indices = top_n_indices.cpu().numpy()  # Convert indices to numpy array\n",
    "\n",
    "    # Step 8: Use the indices to get the corresponding recipe ids\n",
    "    recommended_recipes = [all_recipe_ids[idx] for idx in top_n_indices]\n",
    "    \n",
    "    return recommended_recipes, similarities[top_n_indices]\n"
   ]
  },
  {
   "cell_type": "code",
   "execution_count": 38,
   "metadata": {},
   "outputs": [
    {
     "name": "stdout",
     "output_type": "stream",
     "text": [
      "user_embedding shape: torch.Size([32])\n"
     ]
    },
    {
     "name": "stderr",
     "output_type": "stream",
     "text": [
      "100%|██████████| 3125/3125 [00:34<00:00, 91.14it/s] "
     ]
    },
    {
     "name": "stdout",
     "output_type": "stream",
     "text": [
      "all_recipe_embeddings shape: torch.Size([100000, 32])\n",
      "torch.Size([1, 32])\n",
      "similarities shape: torch.Size([100000])\n",
      "Recommended Recipes: [83045, 59776, 59776, 59776, 59776, 59776, 25898, 25898, 27160, 73833]\n",
      "Similarities: tensor([0.0814, 0.0813, 0.0813, 0.0813, 0.0813, 0.0813, 0.0813, 0.0813, 0.0813,\n",
      "        0.0813], grad_fn=<IndexBackward0>)\n"
     ]
    },
    {
     "name": "stderr",
     "output_type": "stream",
     "text": [
      "\n"
     ]
    }
   ],
   "source": [
    "# Set the model to evaluation mode\n",
    "user_tower.eval()\n",
    "item_tower.eval()\n",
    "\n",
    "recipe_dataloader = DataLoader(recipes, batch_size=batch_size, shuffle=True)\n",
    "\n",
    "# For a specific user_id\n",
    "user_id = torch.tensor([10])  # Example user ID\n",
    "\n",
    "recommended_recipes, similarities = recommend_recipes(user_id, user_tower, item_tower, recipe_dataloader, num_recommendations=10)\n",
    "\n",
    "print(\"Recommended Recipes:\", recommended_recipes)\n",
    "print(\"Similarities:\", similarities)\n"
   ]
  },
  {
   "cell_type": "markdown",
   "metadata": {},
   "source": [
    "## Recommended Recipes"
   ]
  },
  {
   "cell_type": "code",
   "execution_count": 39,
   "metadata": {},
   "outputs": [],
   "source": [
    "# Filter the recipe_data for these ids\n",
    "recommended_recipes_details = recipes[recipes['RecipeId'].isin(recommended_recipes)]"
   ]
  },
  {
   "cell_type": "code",
   "execution_count": 40,
   "metadata": {},
   "outputs": [
    {
     "name": "stdout",
     "output_type": "stream",
     "text": [
      "       RecipeId                                               Name  AuthorId  \\\n",
      "22439     25898                          All Purpose Floor Cleaner      3288   \n",
      "23677     27160                                  Holiday Fragrance      7456   \n",
      "55534     59776  Scott Hibb's Amazing Whiskey Grilled Baby Back...     52074   \n",
      "69192     73833                    Nonstick Cookware Stain Remover      3288   \n",
      "78084     83045                                           Won Tons     29229   \n",
      "\n",
      "        AuthorName CookTime PrepTime TotalTime         DatePublished  \\\n",
      "22439        TishT      NaN     PT2M      PT2M  2002-04-22T16:46:00Z   \n",
      "23677  Nancy Sneed     PT2H     PT5M    PT2H5M  2002-05-03T14:13:00Z   \n",
      "55534     Chippie1  PT2H40M    PT20M      PT3H  2003-04-15T20:11:00Z   \n",
      "69192        TishT    PT10M     PT5M     PT15M  2003-10-22T20:00:00Z   \n",
      "78084       tgobbi    PT10M    PT30M     PT40M  2004-02-04T19:59:00Z   \n",
      "\n",
      "                                             Description  \\\n",
      "22439  Make and share this All Purpose Floor Cleaner ...   \n",
      "23677  This smells really good simmering on your burn...   \n",
      "55534  This is really an amazing baby back ribs recip...   \n",
      "69192  Have you ever got something baked hard on your...   \n",
      "78084  Make and share this Won Tons recipe from Food....   \n",
      "\n",
      "                                                  Images  ...  \\\n",
      "22439                                       character(0)  ...   \n",
      "23677  c(\"https://img.sndimg.com/food/image/upload/w_...  ...   \n",
      "55534  c(\"https://img.sndimg.com/food/image/upload/w_...  ...   \n",
      "69192                                       character(0)  ...   \n",
      "78084  \"https://img.sndimg.com/food/image/upload/w_55...  ...   \n",
      "\n",
      "      SaturatedFatContent CholesterolContent SodiumContent  \\\n",
      "22439                 0.0                0.0           4.7   \n",
      "23677                 0.0                0.0           1.2   \n",
      "55534               992.1            11823.8       16478.6   \n",
      "69192                 0.0                0.0        7521.5   \n",
      "78084                 0.3                4.3          39.0   \n",
      "\n",
      "      CarbohydrateContent  FiberContent  SugarContent  ProteinContent  \\\n",
      "22439                 0.0           0.0           0.0             0.0   \n",
      "23677                 7.7           2.1           3.6             0.4   \n",
      "55534                54.5           3.0          46.3          3270.3   \n",
      "69192                 0.1           0.0           0.1             0.0   \n",
      "78084                 0.2           0.0           0.0             0.7   \n",
      "\n",
      "       RecipeServings       RecipeYield  \\\n",
      "22439             NaN            2 cups   \n",
      "23677             NaN  1 frangrance pot   \n",
      "55534             4.0               NaN   \n",
      "69192             1.0               NaN   \n",
      "78084             NaN         60 pieces   \n",
      "\n",
      "                                      RecipeInstructions  \n",
      "22439  c(\"Cover mop with a small towel.\", \"Use rubber...  \n",
      "23677  c(\"Put in a pot of water and bring to a boil.\"...  \n",
      "55534  c(\"Preheat oven to 300°F (150°C).\", \"Cut each ...  \n",
      "69192  c(\"Boil this mixture in the affected cookware ...  \n",
      "78084  c(\"Use any standard method of folding the wont...  \n",
      "\n",
      "[5 rows x 28 columns]\n"
     ]
    }
   ],
   "source": [
    "print(recommended_recipes_details)"
   ]
  },
  {
   "cell_type": "markdown",
   "metadata": {},
   "source": [
    "## User Reviews"
   ]
  },
  {
   "cell_type": "code",
   "execution_count": 41,
   "metadata": {},
   "outputs": [
    {
     "name": "stdout",
     "output_type": "stream",
     "text": [
      "Original user_id: 2059\n"
     ]
    }
   ],
   "source": [
    "# Reverse the mapping from user_id to index to index to user_id\n",
    "index_to_user_id = {idx: user_id for user_id, idx in user_id_to_index.items()}\n",
    "\n",
    "# Now, you can get the original user_id from an index\n",
    "index = 10  # Example index\n",
    "original_user_id = index_to_user_id.get(index)\n",
    "print(\"Original user_id:\", original_user_id)\n",
    "# 2. Get the reviews for the user (user_id)\n",
    "user_reviews = review_data[review_data['user_id'] == original_user_id]"
   ]
  },
  {
   "cell_type": "code",
   "execution_count": 42,
   "metadata": {},
   "outputs": [
    {
     "data": {
      "text/html": [
       "<div>\n",
       "<style scoped>\n",
       "    .dataframe tbody tr th:only-of-type {\n",
       "        vertical-align: middle;\n",
       "    }\n",
       "\n",
       "    .dataframe tbody tr th {\n",
       "        vertical-align: top;\n",
       "    }\n",
       "\n",
       "    .dataframe thead th {\n",
       "        text-align: right;\n",
       "    }\n",
       "</style>\n",
       "<table border=\"1\" class=\"dataframe\">\n",
       "  <thead>\n",
       "    <tr style=\"text-align: right;\">\n",
       "      <th></th>\n",
       "      <th>recipe_id</th>\n",
       "      <th>user_id</th>\n",
       "      <th>rating</th>\n",
       "      <th>year</th>\n",
       "      <th>month_sin</th>\n",
       "      <th>month_cos</th>\n",
       "    </tr>\n",
       "  </thead>\n",
       "  <tbody>\n",
       "    <tr>\n",
       "      <th>16</th>\n",
       "      <td>5466</td>\n",
       "      <td>2059</td>\n",
       "      <td>1</td>\n",
       "      <td>2000</td>\n",
       "      <td>-8.660254e-01</td>\n",
       "      <td>5.000000e-01</td>\n",
       "    </tr>\n",
       "    <tr>\n",
       "      <th>733</th>\n",
       "      <td>4214</td>\n",
       "      <td>2059</td>\n",
       "      <td>5</td>\n",
       "      <td>2001</td>\n",
       "      <td>1.224647e-16</td>\n",
       "      <td>-1.000000e+00</td>\n",
       "    </tr>\n",
       "    <tr>\n",
       "      <th>1422</th>\n",
       "      <td>3599</td>\n",
       "      <td>2059</td>\n",
       "      <td>4</td>\n",
       "      <td>2001</td>\n",
       "      <td>-8.660254e-01</td>\n",
       "      <td>-5.000000e-01</td>\n",
       "    </tr>\n",
       "    <tr>\n",
       "      <th>1630</th>\n",
       "      <td>10119</td>\n",
       "      <td>2059</td>\n",
       "      <td>4</td>\n",
       "      <td>2001</td>\n",
       "      <td>-1.000000e+00</td>\n",
       "      <td>-1.836970e-16</td>\n",
       "    </tr>\n",
       "    <tr>\n",
       "      <th>1643</th>\n",
       "      <td>5454</td>\n",
       "      <td>2059</td>\n",
       "      <td>5</td>\n",
       "      <td>2001</td>\n",
       "      <td>-1.000000e+00</td>\n",
       "      <td>-1.836970e-16</td>\n",
       "    </tr>\n",
       "    <tr>\n",
       "      <th>1691</th>\n",
       "      <td>8454</td>\n",
       "      <td>2059</td>\n",
       "      <td>5</td>\n",
       "      <td>2001</td>\n",
       "      <td>-1.000000e+00</td>\n",
       "      <td>-1.836970e-16</td>\n",
       "    </tr>\n",
       "    <tr>\n",
       "      <th>1692</th>\n",
       "      <td>10584</td>\n",
       "      <td>2059</td>\n",
       "      <td>5</td>\n",
       "      <td>2001</td>\n",
       "      <td>-1.000000e+00</td>\n",
       "      <td>-1.836970e-16</td>\n",
       "    </tr>\n",
       "    <tr>\n",
       "      <th>1706</th>\n",
       "      <td>250</td>\n",
       "      <td>2059</td>\n",
       "      <td>4</td>\n",
       "      <td>2001</td>\n",
       "      <td>-1.000000e+00</td>\n",
       "      <td>-1.836970e-16</td>\n",
       "    </tr>\n",
       "    <tr>\n",
       "      <th>2036</th>\n",
       "      <td>8788</td>\n",
       "      <td>2059</td>\n",
       "      <td>0</td>\n",
       "      <td>2001</td>\n",
       "      <td>-8.660254e-01</td>\n",
       "      <td>5.000000e-01</td>\n",
       "    </tr>\n",
       "    <tr>\n",
       "      <th>2113</th>\n",
       "      <td>12472</td>\n",
       "      <td>2059</td>\n",
       "      <td>5</td>\n",
       "      <td>2001</td>\n",
       "      <td>-8.660254e-01</td>\n",
       "      <td>5.000000e-01</td>\n",
       "    </tr>\n",
       "    <tr>\n",
       "      <th>2648</th>\n",
       "      <td>13492</td>\n",
       "      <td>2059</td>\n",
       "      <td>5</td>\n",
       "      <td>2001</td>\n",
       "      <td>-8.660254e-01</td>\n",
       "      <td>5.000000e-01</td>\n",
       "    </tr>\n",
       "    <tr>\n",
       "      <th>3679</th>\n",
       "      <td>11390</td>\n",
       "      <td>2059</td>\n",
       "      <td>5</td>\n",
       "      <td>2001</td>\n",
       "      <td>-2.449294e-16</td>\n",
       "      <td>1.000000e+00</td>\n",
       "    </tr>\n",
       "  </tbody>\n",
       "</table>\n",
       "</div>"
      ],
      "text/plain": [
       "      recipe_id  user_id  rating  year     month_sin     month_cos\n",
       "16         5466     2059       1  2000 -8.660254e-01  5.000000e-01\n",
       "733        4214     2059       5  2001  1.224647e-16 -1.000000e+00\n",
       "1422       3599     2059       4  2001 -8.660254e-01 -5.000000e-01\n",
       "1630      10119     2059       4  2001 -1.000000e+00 -1.836970e-16\n",
       "1643       5454     2059       5  2001 -1.000000e+00 -1.836970e-16\n",
       "1691       8454     2059       5  2001 -1.000000e+00 -1.836970e-16\n",
       "1692      10584     2059       5  2001 -1.000000e+00 -1.836970e-16\n",
       "1706        250     2059       4  2001 -1.000000e+00 -1.836970e-16\n",
       "2036       8788     2059       0  2001 -8.660254e-01  5.000000e-01\n",
       "2113      12472     2059       5  2001 -8.660254e-01  5.000000e-01\n",
       "2648      13492     2059       5  2001 -8.660254e-01  5.000000e-01\n",
       "3679      11390     2059       5  2001 -2.449294e-16  1.000000e+00"
      ]
     },
     "execution_count": 42,
     "metadata": {},
     "output_type": "execute_result"
    }
   ],
   "source": [
    "user_reviews"
   ]
  },
  {
   "cell_type": "markdown",
   "metadata": {},
   "source": [
    "We can check what recipes a given user has reviewed to see if the recommended ones make sense."
   ]
  },
  {
   "cell_type": "code",
   "execution_count": 34,
   "metadata": {},
   "outputs": [
    {
     "data": {
      "text/html": [
       "<div>\n",
       "<style scoped>\n",
       "    .dataframe tbody tr th:only-of-type {\n",
       "        vertical-align: middle;\n",
       "    }\n",
       "\n",
       "    .dataframe tbody tr th {\n",
       "        vertical-align: top;\n",
       "    }\n",
       "\n",
       "    .dataframe thead th {\n",
       "        text-align: right;\n",
       "    }\n",
       "</style>\n",
       "<table border=\"1\" class=\"dataframe\">\n",
       "  <thead>\n",
       "    <tr style=\"text-align: right;\">\n",
       "      <th></th>\n",
       "      <th>RecipeId</th>\n",
       "      <th>Name</th>\n",
       "      <th>AuthorId</th>\n",
       "      <th>AuthorName</th>\n",
       "      <th>CookTime</th>\n",
       "      <th>PrepTime</th>\n",
       "      <th>TotalTime</th>\n",
       "      <th>DatePublished</th>\n",
       "      <th>Description</th>\n",
       "      <th>Images</th>\n",
       "      <th>...</th>\n",
       "      <th>SaturatedFatContent</th>\n",
       "      <th>CholesterolContent</th>\n",
       "      <th>SodiumContent</th>\n",
       "      <th>CarbohydrateContent</th>\n",
       "      <th>FiberContent</th>\n",
       "      <th>SugarContent</th>\n",
       "      <th>ProteinContent</th>\n",
       "      <th>RecipeServings</th>\n",
       "      <th>RecipeYield</th>\n",
       "      <th>RecipeInstructions</th>\n",
       "    </tr>\n",
       "  </thead>\n",
       "  <tbody>\n",
       "    <tr>\n",
       "      <th>196</th>\n",
       "      <td>250</td>\n",
       "      <td>Thai Chicken Curry</td>\n",
       "      <td>1601</td>\n",
       "      <td>Gilcat2</td>\n",
       "      <td>PT23M</td>\n",
       "      <td>PT10M</td>\n",
       "      <td>PT33M</td>\n",
       "      <td>1999-09-04T20:47:00Z</td>\n",
       "      <td>Make and share this Thai Chicken Curry recipe ...</td>\n",
       "      <td>\"https://img.sndimg.com/food/image/upload/w_55...</td>\n",
       "      <td>...</td>\n",
       "      <td>23.7</td>\n",
       "      <td>85.1</td>\n",
       "      <td>1163.0</td>\n",
       "      <td>32.2</td>\n",
       "      <td>4.1</td>\n",
       "      <td>1.8</td>\n",
       "      <td>27.2</td>\n",
       "      <td>4.0</td>\n",
       "      <td>NaN</td>\n",
       "      <td>c(\"Combine cocnut milk, potatoes, nam pla, cur...</td>\n",
       "    </tr>\n",
       "    <tr>\n",
       "      <th>2109</th>\n",
       "      <td>3599</td>\n",
       "      <td>Best Basic Chocolate Chip Cookies</td>\n",
       "      <td>1760</td>\n",
       "      <td>Cheryl Thebeau-Blev</td>\n",
       "      <td>PT15M</td>\n",
       "      <td>PT25M</td>\n",
       "      <td>PT40M</td>\n",
       "      <td>1999-09-24T05:29:00Z</td>\n",
       "      <td>The following appeared in BH&amp;amp;G Feb. 99.  I...</td>\n",
       "      <td>character(0)</td>\n",
       "      <td>...</td>\n",
       "      <td>2.3</td>\n",
       "      <td>11.1</td>\n",
       "      <td>35.5</td>\n",
       "      <td>12.2</td>\n",
       "      <td>0.5</td>\n",
       "      <td>7.6</td>\n",
       "      <td>1.2</td>\n",
       "      <td>NaN</td>\n",
       "      <td>60 cookies</td>\n",
       "      <td>c(\"Thin-and-Crispy: Bake 10-12 min per batch.\"...</td>\n",
       "    </tr>\n",
       "    <tr>\n",
       "      <th>2637</th>\n",
       "      <td>4214</td>\n",
       "      <td>Danish Applepork</td>\n",
       "      <td>1906</td>\n",
       "      <td>Amanda2</td>\n",
       "      <td>NaN</td>\n",
       "      <td>PT0S</td>\n",
       "      <td>PT0S</td>\n",
       "      <td>1999-11-09T12:24:00Z</td>\n",
       "      <td>Make and share this Danish Applepork recipe fr...</td>\n",
       "      <td>character(0)</td>\n",
       "      <td>...</td>\n",
       "      <td>2.6</td>\n",
       "      <td>64.5</td>\n",
       "      <td>46.6</td>\n",
       "      <td>18.0</td>\n",
       "      <td>2.6</td>\n",
       "      <td>12.2</td>\n",
       "      <td>22.6</td>\n",
       "      <td>4.0</td>\n",
       "      <td>NaN</td>\n",
       "      <td>c(\"Cut the pork into cubes, and fry them on a ...</td>\n",
       "    </tr>\n",
       "    <tr>\n",
       "      <th>3666</th>\n",
       "      <td>5454</td>\n",
       "      <td>Lebon Khar</td>\n",
       "      <td>1634</td>\n",
       "      <td>Bill Hilbrich</td>\n",
       "      <td>NaN</td>\n",
       "      <td>PT20M</td>\n",
       "      <td>PT20M</td>\n",
       "      <td>1999-12-16T12:18:00Z</td>\n",
       "      <td>Lebon Khar, or Cucumbers in Sour Cream, has ma...</td>\n",
       "      <td>c(\"https://img.sndimg.com/food/image/upload/w_...</td>\n",
       "      <td>...</td>\n",
       "      <td>3.4</td>\n",
       "      <td>14.9</td>\n",
       "      <td>463.3</td>\n",
       "      <td>17.5</td>\n",
       "      <td>1.1</td>\n",
       "      <td>13.7</td>\n",
       "      <td>1.8</td>\n",
       "      <td>NaN</td>\n",
       "      <td>NaN</td>\n",
       "      <td>c(\"Combine the green and white things and cool...</td>\n",
       "    </tr>\n",
       "    <tr>\n",
       "      <th>3671</th>\n",
       "      <td>5466</td>\n",
       "      <td>Twinkie Del Mar</td>\n",
       "      <td>2026</td>\n",
       "      <td>Reid Bannecker</td>\n",
       "      <td>PT1H</td>\n",
       "      <td>PT5M</td>\n",
       "      <td>PT1H5M</td>\n",
       "      <td>2000-02-03T09:43:00Z</td>\n",
       "      <td>The creation of John Mansfield, father of four...</td>\n",
       "      <td>character(0)</td>\n",
       "      <td>...</td>\n",
       "      <td>7.5</td>\n",
       "      <td>68.9</td>\n",
       "      <td>123.2</td>\n",
       "      <td>1.8</td>\n",
       "      <td>0.4</td>\n",
       "      <td>0.6</td>\n",
       "      <td>25.5</td>\n",
       "      <td>6.0</td>\n",
       "      <td>NaN</td>\n",
       "      <td>c(\"Mash the Twinkies in a bowl and add tuna, c...</td>\n",
       "    </tr>\n",
       "    <tr>\n",
       "      <th>5486</th>\n",
       "      <td>8454</td>\n",
       "      <td>Chicken Strips</td>\n",
       "      <td>2333</td>\n",
       "      <td>Elaine Brown</td>\n",
       "      <td>PT16M</td>\n",
       "      <td>PT35M</td>\n",
       "      <td>PT51M</td>\n",
       "      <td>2000-07-25T16:29:00Z</td>\n",
       "      <td>Make and share this Chicken Strips recipe from...</td>\n",
       "      <td>character(0)</td>\n",
       "      <td>...</td>\n",
       "      <td>9.1</td>\n",
       "      <td>121.8</td>\n",
       "      <td>214.0</td>\n",
       "      <td>12.4</td>\n",
       "      <td>0.2</td>\n",
       "      <td>0.7</td>\n",
       "      <td>30.4</td>\n",
       "      <td>4.0</td>\n",
       "      <td>NaN</td>\n",
       "      <td>c(\"Heat oil in frying pan (medium high or 300 ...</td>\n",
       "    </tr>\n",
       "    <tr>\n",
       "      <th>5812</th>\n",
       "      <td>8788</td>\n",
       "      <td>Mom's Molasses Cookies</td>\n",
       "      <td>2059</td>\n",
       "      <td>Moishe Lettvin 1</td>\n",
       "      <td>PT15M</td>\n",
       "      <td>PT1H10M</td>\n",
       "      <td>PT1H25M</td>\n",
       "      <td>2001-04-22T11:38:00Z</td>\n",
       "      <td>Make and share this Mom's Molasses Cookies rec...</td>\n",
       "      <td>\"https://img.sndimg.com/food/image/upload/w_55...</td>\n",
       "      <td>...</td>\n",
       "      <td>4.1</td>\n",
       "      <td>15.5</td>\n",
       "      <td>272.6</td>\n",
       "      <td>41.5</td>\n",
       "      <td>0.8</td>\n",
       "      <td>21.8</td>\n",
       "      <td>3.0</td>\n",
       "      <td>12.0</td>\n",
       "      <td>48 cookies</td>\n",
       "      <td>c(\"Mix together brown sugar, Crisco, molasses ...</td>\n",
       "    </tr>\n",
       "    <tr>\n",
       "      <th>6999</th>\n",
       "      <td>10119</td>\n",
       "      <td>Vegetarian Chili</td>\n",
       "      <td>12202</td>\n",
       "      <td>Kenneth Cummings</td>\n",
       "      <td>PT1H</td>\n",
       "      <td>PT10M</td>\n",
       "      <td>PT1H10M</td>\n",
       "      <td>2001-07-10T12:34:00Z</td>\n",
       "      <td>A spicy and flavorful recipe I created through...</td>\n",
       "      <td>character(0)</td>\n",
       "      <td>...</td>\n",
       "      <td>0.2</td>\n",
       "      <td>0.0</td>\n",
       "      <td>398.7</td>\n",
       "      <td>43.3</td>\n",
       "      <td>12.9</td>\n",
       "      <td>8.6</td>\n",
       "      <td>14.4</td>\n",
       "      <td>10.0</td>\n",
       "      <td>NaN</td>\n",
       "      <td>c(\"Mince or pulverize garlic.\", \"Chop onions.\"...</td>\n",
       "    </tr>\n",
       "    <tr>\n",
       "      <th>7457</th>\n",
       "      <td>10584</td>\n",
       "      <td>Unemployment potatoes</td>\n",
       "      <td>2625</td>\n",
       "      <td>Eli Totz</td>\n",
       "      <td>PT45M</td>\n",
       "      <td>PT2M</td>\n",
       "      <td>PT47M</td>\n",
       "      <td>2001-08-01T16:06:00Z</td>\n",
       "      <td>Poor? Hungry? Since potatoes are cheap, this d...</td>\n",
       "      <td>c(\"https://img.sndimg.com/food/image/upload/w_...</td>\n",
       "      <td>...</td>\n",
       "      <td>0.9</td>\n",
       "      <td>0.0</td>\n",
       "      <td>13.6</td>\n",
       "      <td>39.7</td>\n",
       "      <td>5.0</td>\n",
       "      <td>1.8</td>\n",
       "      <td>4.6</td>\n",
       "      <td>2.0</td>\n",
       "      <td>NaN</td>\n",
       "      <td>c(\"Preheat oven to 400 degrees.\", \"Chop potato...</td>\n",
       "    </tr>\n",
       "    <tr>\n",
       "      <th>8244</th>\n",
       "      <td>11390</td>\n",
       "      <td>Erin's PB, Chocolate Chip and Oatmeal Cookies</td>\n",
       "      <td>17608</td>\n",
       "      <td>Miss Erin C.</td>\n",
       "      <td>PT11M</td>\n",
       "      <td>PT15M</td>\n",
       "      <td>PT26M</td>\n",
       "      <td>2001-09-04T10:22:00Z</td>\n",
       "      <td>Make and share this Erin's PB, Chocolate Chip ...</td>\n",
       "      <td>c(\"https://img.sndimg.com/food/image/upload/w_...</td>\n",
       "      <td>...</td>\n",
       "      <td>37.6</td>\n",
       "      <td>141.0</td>\n",
       "      <td>1213.7</td>\n",
       "      <td>266.7</td>\n",
       "      <td>15.2</td>\n",
       "      <td>176.8</td>\n",
       "      <td>42.1</td>\n",
       "      <td>NaN</td>\n",
       "      <td>3-4 dozen</td>\n",
       "      <td>c(\"Preheat oven to 350.\", \"Mix dry ingredients...</td>\n",
       "    </tr>\n",
       "    <tr>\n",
       "      <th>9314</th>\n",
       "      <td>12472</td>\n",
       "      <td>Tomato Sandwich from Italy</td>\n",
       "      <td>20046</td>\n",
       "      <td>David Lettvin</td>\n",
       "      <td>NaN</td>\n",
       "      <td>PT5M</td>\n",
       "      <td>PT5M</td>\n",
       "      <td>2001-10-06T09:59:00Z</td>\n",
       "      <td>This is a common lunchtime sandwich in Naples,...</td>\n",
       "      <td>\"https://img.sndimg.com/food/image/upload/w_55...</td>\n",
       "      <td>...</td>\n",
       "      <td>1.3</td>\n",
       "      <td>0.0</td>\n",
       "      <td>882.4</td>\n",
       "      <td>80.2</td>\n",
       "      <td>5.6</td>\n",
       "      <td>4.5</td>\n",
       "      <td>14.4</td>\n",
       "      <td>2.0</td>\n",
       "      <td>2 sandwiches</td>\n",
       "      <td>c(\"All ingredients in this recipe are to taste...</td>\n",
       "    </tr>\n",
       "    <tr>\n",
       "      <th>10304</th>\n",
       "      <td>13492</td>\n",
       "      <td>Savory Stuffed Bell Peppers</td>\n",
       "      <td>9240</td>\n",
       "      <td>Lindsey Lawrence</td>\n",
       "      <td>PT45M</td>\n",
       "      <td>PT30M</td>\n",
       "      <td>PT1H15M</td>\n",
       "      <td>2001-10-30T18:24:00Z</td>\n",
       "      <td>I made this recipe for a potluck and all of my...</td>\n",
       "      <td>character(0)</td>\n",
       "      <td>...</td>\n",
       "      <td>0.3</td>\n",
       "      <td>0.0</td>\n",
       "      <td>590.1</td>\n",
       "      <td>53.8</td>\n",
       "      <td>3.9</td>\n",
       "      <td>8.2</td>\n",
       "      <td>5.7</td>\n",
       "      <td>8.0</td>\n",
       "      <td>NaN</td>\n",
       "      <td>c(\"Preheat oven to 375°F.\", \"Place cut and see...</td>\n",
       "    </tr>\n",
       "  </tbody>\n",
       "</table>\n",
       "<p>12 rows × 28 columns</p>\n",
       "</div>"
      ],
      "text/plain": [
       "       RecipeId                                           Name  AuthorId  \\\n",
       "196         250                             Thai Chicken Curry      1601   \n",
       "2109       3599              Best Basic Chocolate Chip Cookies      1760   \n",
       "2637       4214                               Danish Applepork      1906   \n",
       "3666       5454                                     Lebon Khar      1634   \n",
       "3671       5466                                Twinkie Del Mar      2026   \n",
       "5486       8454                                 Chicken Strips      2333   \n",
       "5812       8788                         Mom's Molasses Cookies      2059   \n",
       "6999      10119                               Vegetarian Chili     12202   \n",
       "7457      10584                          Unemployment potatoes      2625   \n",
       "8244      11390  Erin's PB, Chocolate Chip and Oatmeal Cookies     17608   \n",
       "9314      12472                     Tomato Sandwich from Italy     20046   \n",
       "10304     13492                    Savory Stuffed Bell Peppers      9240   \n",
       "\n",
       "                AuthorName CookTime PrepTime TotalTime         DatePublished  \\\n",
       "196                Gilcat2    PT23M    PT10M     PT33M  1999-09-04T20:47:00Z   \n",
       "2109   Cheryl Thebeau-Blev    PT15M    PT25M     PT40M  1999-09-24T05:29:00Z   \n",
       "2637               Amanda2      NaN     PT0S      PT0S  1999-11-09T12:24:00Z   \n",
       "3666         Bill Hilbrich      NaN    PT20M     PT20M  1999-12-16T12:18:00Z   \n",
       "3671        Reid Bannecker     PT1H     PT5M    PT1H5M  2000-02-03T09:43:00Z   \n",
       "5486          Elaine Brown    PT16M    PT35M     PT51M  2000-07-25T16:29:00Z   \n",
       "5812      Moishe Lettvin 1    PT15M  PT1H10M   PT1H25M  2001-04-22T11:38:00Z   \n",
       "6999      Kenneth Cummings     PT1H    PT10M   PT1H10M  2001-07-10T12:34:00Z   \n",
       "7457              Eli Totz    PT45M     PT2M     PT47M  2001-08-01T16:06:00Z   \n",
       "8244          Miss Erin C.    PT11M    PT15M     PT26M  2001-09-04T10:22:00Z   \n",
       "9314         David Lettvin      NaN     PT5M      PT5M  2001-10-06T09:59:00Z   \n",
       "10304     Lindsey Lawrence    PT45M    PT30M   PT1H15M  2001-10-30T18:24:00Z   \n",
       "\n",
       "                                             Description  \\\n",
       "196    Make and share this Thai Chicken Curry recipe ...   \n",
       "2109   The following appeared in BH&amp;G Feb. 99.  I...   \n",
       "2637   Make and share this Danish Applepork recipe fr...   \n",
       "3666   Lebon Khar, or Cucumbers in Sour Cream, has ma...   \n",
       "3671   The creation of John Mansfield, father of four...   \n",
       "5486   Make and share this Chicken Strips recipe from...   \n",
       "5812   Make and share this Mom's Molasses Cookies rec...   \n",
       "6999   A spicy and flavorful recipe I created through...   \n",
       "7457   Poor? Hungry? Since potatoes are cheap, this d...   \n",
       "8244   Make and share this Erin's PB, Chocolate Chip ...   \n",
       "9314   This is a common lunchtime sandwich in Naples,...   \n",
       "10304  I made this recipe for a potluck and all of my...   \n",
       "\n",
       "                                                  Images  ...  \\\n",
       "196    \"https://img.sndimg.com/food/image/upload/w_55...  ...   \n",
       "2109                                        character(0)  ...   \n",
       "2637                                        character(0)  ...   \n",
       "3666   c(\"https://img.sndimg.com/food/image/upload/w_...  ...   \n",
       "3671                                        character(0)  ...   \n",
       "5486                                        character(0)  ...   \n",
       "5812   \"https://img.sndimg.com/food/image/upload/w_55...  ...   \n",
       "6999                                        character(0)  ...   \n",
       "7457   c(\"https://img.sndimg.com/food/image/upload/w_...  ...   \n",
       "8244   c(\"https://img.sndimg.com/food/image/upload/w_...  ...   \n",
       "9314   \"https://img.sndimg.com/food/image/upload/w_55...  ...   \n",
       "10304                                       character(0)  ...   \n",
       "\n",
       "      SaturatedFatContent CholesterolContent SodiumContent  \\\n",
       "196                  23.7               85.1        1163.0   \n",
       "2109                  2.3               11.1          35.5   \n",
       "2637                  2.6               64.5          46.6   \n",
       "3666                  3.4               14.9         463.3   \n",
       "3671                  7.5               68.9         123.2   \n",
       "5486                  9.1              121.8         214.0   \n",
       "5812                  4.1               15.5         272.6   \n",
       "6999                  0.2                0.0         398.7   \n",
       "7457                  0.9                0.0          13.6   \n",
       "8244                 37.6              141.0        1213.7   \n",
       "9314                  1.3                0.0         882.4   \n",
       "10304                 0.3                0.0         590.1   \n",
       "\n",
       "      CarbohydrateContent  FiberContent  SugarContent  ProteinContent  \\\n",
       "196                  32.2           4.1           1.8            27.2   \n",
       "2109                 12.2           0.5           7.6             1.2   \n",
       "2637                 18.0           2.6          12.2            22.6   \n",
       "3666                 17.5           1.1          13.7             1.8   \n",
       "3671                  1.8           0.4           0.6            25.5   \n",
       "5486                 12.4           0.2           0.7            30.4   \n",
       "5812                 41.5           0.8          21.8             3.0   \n",
       "6999                 43.3          12.9           8.6            14.4   \n",
       "7457                 39.7           5.0           1.8             4.6   \n",
       "8244                266.7          15.2         176.8            42.1   \n",
       "9314                 80.2           5.6           4.5            14.4   \n",
       "10304                53.8           3.9           8.2             5.7   \n",
       "\n",
       "       RecipeServings   RecipeYield  \\\n",
       "196               4.0           NaN   \n",
       "2109              NaN    60 cookies   \n",
       "2637              4.0           NaN   \n",
       "3666              NaN           NaN   \n",
       "3671              6.0           NaN   \n",
       "5486              4.0           NaN   \n",
       "5812             12.0    48 cookies   \n",
       "6999             10.0           NaN   \n",
       "7457              2.0           NaN   \n",
       "8244              NaN     3-4 dozen   \n",
       "9314              2.0  2 sandwiches   \n",
       "10304             8.0           NaN   \n",
       "\n",
       "                                      RecipeInstructions  \n",
       "196    c(\"Combine cocnut milk, potatoes, nam pla, cur...  \n",
       "2109   c(\"Thin-and-Crispy: Bake 10-12 min per batch.\"...  \n",
       "2637   c(\"Cut the pork into cubes, and fry them on a ...  \n",
       "3666   c(\"Combine the green and white things and cool...  \n",
       "3671   c(\"Mash the Twinkies in a bowl and add tuna, c...  \n",
       "5486   c(\"Heat oil in frying pan (medium high or 300 ...  \n",
       "5812   c(\"Mix together brown sugar, Crisco, molasses ...  \n",
       "6999   c(\"Mince or pulverize garlic.\", \"Chop onions.\"...  \n",
       "7457   c(\"Preheat oven to 400 degrees.\", \"Chop potato...  \n",
       "8244   c(\"Preheat oven to 350.\", \"Mix dry ingredients...  \n",
       "9314   c(\"All ingredients in this recipe are to taste...  \n",
       "10304  c(\"Preheat oven to 375°F.\", \"Place cut and see...  \n",
       "\n",
       "[12 rows x 28 columns]"
      ]
     },
     "execution_count": 34,
     "metadata": {},
     "output_type": "execute_result"
    }
   ],
   "source": [
    "# Filter the recipe_data for these ids\n",
    "reviewd_recipes_id = user_reviews[\"recipe_id\"]\n",
    "reviewd_recipes = recipes[recipes['RecipeId'].isin(reviewd_recipes_id)]\n",
    "reviewd_recipes"
   ]
  },
  {
   "cell_type": "code",
   "execution_count": null,
   "metadata": {},
   "outputs": [],
   "source": []
  }
 ],
 "metadata": {
  "colab": {
   "provenance": []
  },
  "kernelspec": {
   "display_name": ".venv",
   "language": "python",
   "name": "python3"
  },
  "language_info": {
   "codemirror_mode": {
    "name": "ipython",
    "version": 3
   },
   "file_extension": ".py",
   "mimetype": "text/x-python",
   "name": "python",
   "nbconvert_exporter": "python",
   "pygments_lexer": "ipython3",
   "version": "3.11.8"
  }
 },
 "nbformat": 4,
 "nbformat_minor": 0
}

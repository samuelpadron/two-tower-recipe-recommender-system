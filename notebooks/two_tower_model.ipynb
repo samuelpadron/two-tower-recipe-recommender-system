{
 "cells": [
  {
   "cell_type": "code",
   "execution_count": 1,
   "metadata": {
    "id": "HPrrUz4fAE4o"
   },
   "outputs": [],
   "source": [
    "import pandas as pd\n",
    "import numpy as np\n",
    "import matplotlib.pyplot as plt\n",
    "import kagglehub\n",
    "import os"
   ]
  },
  {
   "cell_type": "markdown",
   "metadata": {},
   "source": [
    "## Load Feature Group from Hopsworks"
   ]
  },
  {
   "cell_type": "code",
   "execution_count": 2,
   "metadata": {},
   "outputs": [
    {
     "name": "stdout",
     "output_type": "stream",
     "text": [
      "2024-12-10 17:06:14,286 INFO: Initializing external client\n",
      "2024-12-10 17:06:14,286 INFO: Base URL: https://c.app.hopsworks.ai:443\n",
      "2024-12-10 17:06:20,836 INFO: Python Engine initialized.\n",
      "\n",
      "Logged in to project, explore it here https://c.app.hopsworks.ai:443/p/1193139\n"
     ]
    }
   ],
   "source": [
    "import hopsworks \n",
    "project = hopsworks.login()\n",
    "fs = project.get_feature_store(name='recipe_recommender_featurestore')\n",
    "review_fg = fs.get_feature_group('review', version=1)\n",
    "recipe_fg = fs.get_feature_group('recipe', version=1)"
   ]
  },
  {
   "cell_type": "code",
   "execution_count": 4,
   "metadata": {},
   "outputs": [
    {
     "name": "stdout",
     "output_type": "stream",
     "text": [
      "Finished: Reading data from Hopsworks, using Hopsworks Feature Query Service (417.42s) \n",
      "<class 'pandas.core.frame.DataFrame'>\n",
      "RangeIndex: 418013 entries, 0 to 418012\n",
      "Data columns (total 16 columns):\n",
      " #   Column               Non-Null Count   Dtype  \n",
      "---  ------               --------------   -----  \n",
      " 0   recipeid             418013 non-null  int64  \n",
      " 1   name                 418013 non-null  object \n",
      " 2   authorid             418013 non-null  int64  \n",
      " 3   totaltime            418013 non-null  float64\n",
      " 4   recipecategory       418013 non-null  object \n",
      " 5   aggregatedrating     418013 non-null  float64\n",
      " 6   reviewcount          418013 non-null  float64\n",
      " 7   calories             418013 non-null  float64\n",
      " 8   fatcontent           418013 non-null  float64\n",
      " 9   saturatedfatcontent  418013 non-null  float64\n",
      " 10  cholesterolcontent   418013 non-null  float64\n",
      " 11  sodiumcontent        418013 non-null  float64\n",
      " 12  carbohydratecontent  418013 non-null  float64\n",
      " 13  fibercontent         418013 non-null  float64\n",
      " 14  sugarcontent         418013 non-null  float64\n",
      " 15  proteincontent       418013 non-null  float64\n",
      "dtypes: float64(12), int64(2), object(2)\n",
      "memory usage: 51.0+ MB\n",
      "None\n"
     ]
    }
   ],
   "source": [
    "train_recipe_data = recipe_fg.read()\n",
    "\n",
    "# Display the DataFrame\n",
    "print(train_recipe_data.info())"
   ]
  },
  {
   "cell_type": "code",
   "execution_count": 87,
   "metadata": {},
   "outputs": [
    {
     "name": "stdout",
     "output_type": "stream",
     "text": [
      "Finished: Reading data from Hopsworks, using Hopsworks Feature Query Service (221.61s) \n",
      "<class 'pandas.core.frame.DataFrame'>\n",
      "RangeIndex: 500000 entries, 0 to 499999\n",
      "Data columns (total 8 columns):\n",
      " #   Column     Non-Null Count   Dtype  \n",
      "---  ------     --------------   -----  \n",
      " 0   reviewid   500000 non-null  int64  \n",
      " 1   recipeid   500000 non-null  int64  \n",
      " 2   authorid   500000 non-null  int64  \n",
      " 3   rating     500000 non-null  float64\n",
      " 4   review     500000 non-null  object \n",
      " 5   year       500000 non-null  float64\n",
      " 6   month_sin  500000 non-null  float64\n",
      " 7   month_cos  500000 non-null  float64\n",
      "dtypes: float64(4), int64(3), object(1)\n",
      "memory usage: 30.5+ MB\n",
      "None\n"
     ]
    }
   ],
   "source": [
    "train_review_data = review_fg.read()\n",
    "\n",
    "print(train_review_data.info())"
   ]
  },
  {
   "cell_type": "code",
   "execution_count": null,
   "metadata": {},
   "outputs": [],
   "source": [
    "train_recipe_data['Name'] = list(name_embeddings)\n",
    "train_recipe_data['RecipeCategory'] = list(category_embeddings)\n",
    "train_review_data['Review'] = list(review_embeddings)"
   ]
  },
  {
   "cell_type": "code",
   "execution_count": 5,
   "metadata": {},
   "outputs": [
    {
     "data": {
      "text/html": [
       "<div>\n",
       "<style scoped>\n",
       "    .dataframe tbody tr th:only-of-type {\n",
       "        vertical-align: middle;\n",
       "    }\n",
       "\n",
       "    .dataframe tbody tr th {\n",
       "        vertical-align: top;\n",
       "    }\n",
       "\n",
       "    .dataframe thead th {\n",
       "        text-align: right;\n",
       "    }\n",
       "</style>\n",
       "<table border=\"1\" class=\"dataframe\">\n",
       "  <thead>\n",
       "    <tr style=\"text-align: right;\">\n",
       "      <th></th>\n",
       "      <th>recipeid</th>\n",
       "      <th>name</th>\n",
       "      <th>authorid</th>\n",
       "      <th>totaltime</th>\n",
       "      <th>recipecategory</th>\n",
       "      <th>aggregatedrating</th>\n",
       "      <th>reviewcount</th>\n",
       "      <th>calories</th>\n",
       "      <th>fatcontent</th>\n",
       "      <th>saturatedfatcontent</th>\n",
       "      <th>cholesterolcontent</th>\n",
       "      <th>sodiumcontent</th>\n",
       "      <th>carbohydratecontent</th>\n",
       "      <th>fibercontent</th>\n",
       "      <th>sugarcontent</th>\n",
       "      <th>proteincontent</th>\n",
       "    </tr>\n",
       "  </thead>\n",
       "  <tbody>\n",
       "    <tr>\n",
       "      <th>0</th>\n",
       "      <td>426676</td>\n",
       "      <td>[-0.09981661, 0.057647053, -0.0117327105, 0.04...</td>\n",
       "      <td>388463</td>\n",
       "      <td>-0.023333</td>\n",
       "      <td>[-0.046547513, 0.093352586, 0.050087087, 0.047...</td>\n",
       "      <td>-0.946300</td>\n",
       "      <td>-0.182754</td>\n",
       "      <td>-0.151172</td>\n",
       "      <td>-0.060352</td>\n",
       "      <td>0.017690</td>\n",
       "      <td>0.134915</td>\n",
       "      <td>-0.111967</td>\n",
       "      <td>-0.167798</td>\n",
       "      <td>-0.313982</td>\n",
       "      <td>-0.125558</td>\n",
       "      <td>-0.195473</td>\n",
       "    </tr>\n",
       "    <tr>\n",
       "      <th>1</th>\n",
       "      <td>2130</td>\n",
       "      <td>[-0.07288596, -0.062904075, -0.008518769, 0.05...</td>\n",
       "      <td>1534</td>\n",
       "      <td>-0.027823</td>\n",
       "      <td>[0.005264935, 0.007629845, 0.0011869151, 0.039...</td>\n",
       "      <td>0.776211</td>\n",
       "      <td>-0.049050</td>\n",
       "      <td>-0.232925</td>\n",
       "      <td>-0.128901</td>\n",
       "      <td>-0.042847</td>\n",
       "      <td>-0.310359</td>\n",
       "      <td>-0.169850</td>\n",
       "      <td>-0.181529</td>\n",
       "      <td>-0.237037</td>\n",
       "      <td>-0.085174</td>\n",
       "      <td>-0.381872</td>\n",
       "    </tr>\n",
       "    <tr>\n",
       "      <th>2</th>\n",
       "      <td>515573</td>\n",
       "      <td>[-0.031779263, -0.05110866, -0.014522817, -0.0...</td>\n",
       "      <td>226863</td>\n",
       "      <td>-0.023333</td>\n",
       "      <td>[-0.046547513, 0.093352586, 0.050087087, 0.047...</td>\n",
       "      <td>1.206839</td>\n",
       "      <td>-0.115902</td>\n",
       "      <td>0.003697</td>\n",
       "      <td>-0.016285</td>\n",
       "      <td>-0.091667</td>\n",
       "      <td>-0.053098</td>\n",
       "      <td>-0.096693</td>\n",
       "      <td>-0.046251</td>\n",
       "      <td>0.246617</td>\n",
       "      <td>-0.101199</td>\n",
       "      <td>0.342488</td>\n",
       "    </tr>\n",
       "    <tr>\n",
       "      <th>3</th>\n",
       "      <td>505501</td>\n",
       "      <td>[-0.07791573, 0.021957776, -0.059152737, 0.055...</td>\n",
       "      <td>220195</td>\n",
       "      <td>-0.033436</td>\n",
       "      <td>[-0.045499124, 0.055375434, -0.021843556, -0.0...</td>\n",
       "      <td>-0.946300</td>\n",
       "      <td>-0.182754</td>\n",
       "      <td>-0.116163</td>\n",
       "      <td>-0.141958</td>\n",
       "      <td>-0.167826</td>\n",
       "      <td>-0.333958</td>\n",
       "      <td>6.258109</td>\n",
       "      <td>0.075804</td>\n",
       "      <td>1.158966</td>\n",
       "      <td>0.052002</td>\n",
       "      <td>-0.176597</td>\n",
       "    </tr>\n",
       "    <tr>\n",
       "      <th>4</th>\n",
       "      <td>162817</td>\n",
       "      <td>[-0.061670627, -0.023237374, 0.027469449, -0.0...</td>\n",
       "      <td>80353</td>\n",
       "      <td>-0.034109</td>\n",
       "      <td>[-0.01266546, -0.04918345, 0.08920136, 0.00925...</td>\n",
       "      <td>1.206839</td>\n",
       "      <td>0.218359</td>\n",
       "      <td>-0.044828</td>\n",
       "      <td>-0.201530</td>\n",
       "      <td>-0.187354</td>\n",
       "      <td>-0.333958</td>\n",
       "      <td>-0.168596</td>\n",
       "      <td>0.298045</td>\n",
       "      <td>-0.423904</td>\n",
       "      <td>0.543017</td>\n",
       "      <td>-0.410185</td>\n",
       "    </tr>\n",
       "  </tbody>\n",
       "</table>\n",
       "</div>"
      ],
      "text/plain": [
       "   recipeid                                               name  authorid  \\\n",
       "0    426676  [-0.09981661, 0.057647053, -0.0117327105, 0.04...    388463   \n",
       "1      2130  [-0.07288596, -0.062904075, -0.008518769, 0.05...      1534   \n",
       "2    515573  [-0.031779263, -0.05110866, -0.014522817, -0.0...    226863   \n",
       "3    505501  [-0.07791573, 0.021957776, -0.059152737, 0.055...    220195   \n",
       "4    162817  [-0.061670627, -0.023237374, 0.027469449, -0.0...     80353   \n",
       "\n",
       "   totaltime                                     recipecategory  \\\n",
       "0  -0.023333  [-0.046547513, 0.093352586, 0.050087087, 0.047...   \n",
       "1  -0.027823  [0.005264935, 0.007629845, 0.0011869151, 0.039...   \n",
       "2  -0.023333  [-0.046547513, 0.093352586, 0.050087087, 0.047...   \n",
       "3  -0.033436  [-0.045499124, 0.055375434, -0.021843556, -0.0...   \n",
       "4  -0.034109  [-0.01266546, -0.04918345, 0.08920136, 0.00925...   \n",
       "\n",
       "   aggregatedrating  reviewcount  calories  fatcontent  saturatedfatcontent  \\\n",
       "0         -0.946300    -0.182754 -0.151172   -0.060352             0.017690   \n",
       "1          0.776211    -0.049050 -0.232925   -0.128901            -0.042847   \n",
       "2          1.206839    -0.115902  0.003697   -0.016285            -0.091667   \n",
       "3         -0.946300    -0.182754 -0.116163   -0.141958            -0.167826   \n",
       "4          1.206839     0.218359 -0.044828   -0.201530            -0.187354   \n",
       "\n",
       "   cholesterolcontent  sodiumcontent  carbohydratecontent  fibercontent  \\\n",
       "0            0.134915      -0.111967            -0.167798     -0.313982   \n",
       "1           -0.310359      -0.169850            -0.181529     -0.237037   \n",
       "2           -0.053098      -0.096693            -0.046251      0.246617   \n",
       "3           -0.333958       6.258109             0.075804      1.158966   \n",
       "4           -0.333958      -0.168596             0.298045     -0.423904   \n",
       "\n",
       "   sugarcontent  proteincontent  \n",
       "0     -0.125558       -0.195473  \n",
       "1     -0.085174       -0.381872  \n",
       "2     -0.101199        0.342488  \n",
       "3      0.052002       -0.176597  \n",
       "4      0.543017       -0.410185  "
      ]
     },
     "execution_count": 5,
     "metadata": {},
     "output_type": "execute_result"
    }
   ],
   "source": [
    "train_recipe_data.head()"
   ]
  },
  {
   "cell_type": "code",
   "execution_count": 8,
   "metadata": {},
   "outputs": [
    {
     "data": {
      "text/html": [
       "<div>\n",
       "<style scoped>\n",
       "    .dataframe tbody tr th:only-of-type {\n",
       "        vertical-align: middle;\n",
       "    }\n",
       "\n",
       "    .dataframe tbody tr th {\n",
       "        vertical-align: top;\n",
       "    }\n",
       "\n",
       "    .dataframe thead th {\n",
       "        text-align: right;\n",
       "    }\n",
       "</style>\n",
       "<table border=\"1\" class=\"dataframe\">\n",
       "  <thead>\n",
       "    <tr style=\"text-align: right;\">\n",
       "      <th></th>\n",
       "      <th>reviewid</th>\n",
       "      <th>recipeid</th>\n",
       "      <th>authorid</th>\n",
       "      <th>rating</th>\n",
       "      <th>review</th>\n",
       "      <th>year</th>\n",
       "      <th>month_sin</th>\n",
       "      <th>month_cos</th>\n",
       "    </tr>\n",
       "  </thead>\n",
       "  <tbody>\n",
       "    <tr>\n",
       "      <th>0</th>\n",
       "      <td>376275</td>\n",
       "      <td>201965</td>\n",
       "      <td>424680</td>\n",
       "      <td>0.465609</td>\n",
       "      <td>[-0.03471386, -0.0034809876, 0.025403176, 0.01...</td>\n",
       "      <td>-0.522026</td>\n",
       "      <td>0.866025</td>\n",
       "      <td>5.000000e-01</td>\n",
       "    </tr>\n",
       "    <tr>\n",
       "      <th>1</th>\n",
       "      <td>565527</td>\n",
       "      <td>203782</td>\n",
       "      <td>667915</td>\n",
       "      <td>0.465609</td>\n",
       "      <td>[-0.048685435, -0.05063994, 0.0123515455, 0.07...</td>\n",
       "      <td>-0.252375</td>\n",
       "      <td>0.500000</td>\n",
       "      <td>8.660254e-01</td>\n",
       "    </tr>\n",
       "    <tr>\n",
       "      <th>2</th>\n",
       "      <td>277879</td>\n",
       "      <td>36123</td>\n",
       "      <td>176615</td>\n",
       "      <td>0.465609</td>\n",
       "      <td>[-0.10000747, -0.06447308, -0.005737721, 0.062...</td>\n",
       "      <td>-0.791677</td>\n",
       "      <td>0.500000</td>\n",
       "      <td>-8.660254e-01</td>\n",
       "    </tr>\n",
       "    <tr>\n",
       "      <th>3</th>\n",
       "      <td>746144</td>\n",
       "      <td>19177</td>\n",
       "      <td>52648</td>\n",
       "      <td>-0.320427</td>\n",
       "      <td>[-0.08373337, 0.005466032, -0.02001648, 0.0557...</td>\n",
       "      <td>-0.252375</td>\n",
       "      <td>-0.500000</td>\n",
       "      <td>8.660254e-01</td>\n",
       "    </tr>\n",
       "    <tr>\n",
       "      <th>4</th>\n",
       "      <td>1253618</td>\n",
       "      <td>255645</td>\n",
       "      <td>424680</td>\n",
       "      <td>0.465609</td>\n",
       "      <td>[-0.06095889, -0.015254693, 0.03496923, -0.011...</td>\n",
       "      <td>0.556577</td>\n",
       "      <td>-1.000000</td>\n",
       "      <td>-1.836970e-16</td>\n",
       "    </tr>\n",
       "  </tbody>\n",
       "</table>\n",
       "</div>"
      ],
      "text/plain": [
       "   reviewid  recipeid  authorid    rating  \\\n",
       "0    376275    201965    424680  0.465609   \n",
       "1    565527    203782    667915  0.465609   \n",
       "2    277879     36123    176615  0.465609   \n",
       "3    746144     19177     52648 -0.320427   \n",
       "4   1253618    255645    424680  0.465609   \n",
       "\n",
       "                                              review      year  month_sin  \\\n",
       "0  [-0.03471386, -0.0034809876, 0.025403176, 0.01... -0.522026   0.866025   \n",
       "1  [-0.048685435, -0.05063994, 0.0123515455, 0.07... -0.252375   0.500000   \n",
       "2  [-0.10000747, -0.06447308, -0.005737721, 0.062... -0.791677   0.500000   \n",
       "3  [-0.08373337, 0.005466032, -0.02001648, 0.0557... -0.252375  -0.500000   \n",
       "4  [-0.06095889, -0.015254693, 0.03496923, -0.011...  0.556577  -1.000000   \n",
       "\n",
       "      month_cos  \n",
       "0  5.000000e-01  \n",
       "1  8.660254e-01  \n",
       "2 -8.660254e-01  \n",
       "3  8.660254e-01  \n",
       "4 -1.836970e-16  "
      ]
     },
     "execution_count": 8,
     "metadata": {},
     "output_type": "execute_result"
    }
   ],
   "source": [
    "train_review_data.head()"
   ]
  },
  {
   "cell_type": "code",
   "execution_count": 212,
   "metadata": {},
   "outputs": [
    {
     "data": {
      "text/plain": [
       "(397019, 8)"
      ]
     },
     "execution_count": 212,
     "metadata": {},
     "output_type": "execute_result"
    }
   ],
   "source": [
    "train_review_data.shape"
   ]
  },
  {
   "cell_type": "markdown",
   "metadata": {
    "id": "vkwbrdeyqmyd"
   },
   "source": [
    "# Model Implementation"
   ]
  },
  {
   "cell_type": "code",
   "execution_count": 11,
   "metadata": {},
   "outputs": [],
   "source": [
    "import torch\n",
    "import torch.nn as nn\n",
    "import torch.nn.functional as F\n",
    "from torch.utils.data import Dataset\n"
   ]
  },
  {
   "cell_type": "markdown",
   "metadata": {},
   "source": [
    "## Review Model"
   ]
  },
  {
   "cell_type": "markdown",
   "metadata": {},
   "source": [
    "### Review Dataset"
   ]
  },
  {
   "cell_type": "code",
   "execution_count": 12,
   "metadata": {},
   "outputs": [],
   "source": [
    "class ReviewsDataset(Dataset):\n",
    "    def __init__(self, reviews_df):\n",
    "        \"\"\"\n",
    "        Args:\n",
    "            reviews_df (pd.DataFrame): Dataframe containing the reviews data.\n",
    "        \"\"\"\n",
    "        self.reviews_df = reviews_df\n",
    "\n",
    "    def __len__(self):\n",
    "        # Return the total number of samples\n",
    "        return len(self.reviews_df)\n",
    "\n",
    "    def __getitem__(self, idx):\n",
    "        \"\"\"\n",
    "        Args:\n",
    "            idx (int): Index of the sample to fetch.\n",
    "        Returns:\n",
    "            A dictionary with tensors for the input features and target rating.\n",
    "        \"\"\"\n",
    "        row = self.reviews_df.iloc[idx]\n",
    "        \n",
    "        # Extract features\n",
    "        review_id = row[\"reviewid\"]\n",
    "        recipe_id = row[\"recipeid\"]\n",
    "        author_id = row[\"authorid\"]\n",
    "        review_embedding = torch.tensor(row[\"review\"], dtype=torch.float32)  # Convert list to tensor\n",
    "        year = torch.tensor(row[\"year\"], dtype=torch.float32)\n",
    "        month_sin = torch.tensor(row[\"month_sin\"], dtype=torch.float32)\n",
    "        month_cos = torch.tensor(row[\"month_cos\"], dtype=torch.float32)\n",
    "        # Rating (target)\n",
    "        rating = torch.tensor(row[\"rating\"], dtype=torch.float32)\n",
    "        # concat_features = torch.cat(review_embedding, month_sin, month_cos)\n",
    "        # print(concat_features.shape)\n",
    "        return {\n",
    "            \"review_id\": review_id,\n",
    "            \"recipe_id\": recipe_id,\n",
    "            \"author_id\": author_id,\n",
    "            \"review_embedding\": review_embedding,\n",
    "            \"year\": year,\n",
    "            \"month_sin\": month_sin,\n",
    "            \"month_cos\": month_cos,\n",
    "            \"rating\": rating\n",
    "        }"
   ]
  },
  {
   "cell_type": "markdown",
   "metadata": {},
   "source": [
    "### Review Tower"
   ]
  },
  {
   "cell_type": "code",
   "execution_count": 20,
   "metadata": {},
   "outputs": [],
   "source": [
    "class ReviewTower(nn.Module):\n",
    "    def __init__(self, review_embedding_dim, embedding_dim):\n",
    "        \"\"\"\n",
    "        Args:\n",
    "            review_embedding_dim (int): Dimensionality of the review feature vector.\n",
    "            embedding_dim (int): Dimensionality of the output embedding vector.\n",
    "        \"\"\"\n",
    "        super(ReviewTower, self).__init__()\n",
    "        self.fc1 = nn.Linear(review_embedding_dim + 2 + 1 + 1, 128)  # Add month_sin, month_cos, and year, and rating\n",
    "        self.fc2 = nn.Linear(128, 64)\n",
    "        self.fc3 = nn.Linear(64, embedding_dim)  # Final embedding layer\n",
    "\n",
    "    def forward(self, review_embedding, month_sin, month_cos, year, rating):\n",
    "        \"\"\"\n",
    "        Forward pass for the review tower.\n",
    "        \n",
    "        Args:\n",
    "            review_embedding (Tensor): Review feature vector (e.g., sentence embedding).\n",
    "            month_sin (Tensor): Sinusoidal month feature.\n",
    "            month_cos (Tensor): Cosine month feature.\n",
    "            year (Tensor): Year feature.\n",
    "            rating (Tensor): Rating given to recipe\n",
    "        \n",
    "        Returns:\n",
    "            Tensor: Embedded vector for the review.\n",
    "        \"\"\"\n",
    "        if isinstance(review_embedding, pd.Series):\n",
    "            review_embedding = torch.stack([torch.tensor(embed, dtype=torch.float32) for embed in review_embedding])\n",
    "            month_sin = torch.tensor(month_sin.values, dtype=torch.float32)\n",
    "            month_cos = torch.tensor(month_cos.values, dtype=torch.float32)\n",
    "            year = torch.tensor(year.values, dtype=torch.float32)\n",
    "            rating = torch.tensor(rating.values, dtype=torch.float32)\n",
    "            \n",
    "        # Concatenate all features (now all are 2D tensors)\n",
    "        x = torch.cat((review_embedding, month_sin.unsqueeze(1), month_cos.unsqueeze(1), year.unsqueeze(1), rating.unsqueeze(1)), dim=1)\n",
    "        \n",
    "        # Pass through fully connected layers\n",
    "        x = F.relu(self.fc1(x))\n",
    "        x = F.relu(self.fc2(x))\n",
    "        x = self.fc3(x)  # Final embedding vector\n",
    "        return x\n"
   ]
  },
  {
   "cell_type": "markdown",
   "metadata": {},
   "source": [
    "## Recipe Model"
   ]
  },
  {
   "cell_type": "markdown",
   "metadata": {},
   "source": [
    "### Recipe Dataset"
   ]
  },
  {
   "cell_type": "code",
   "execution_count": 14,
   "metadata": {},
   "outputs": [],
   "source": [
    "class RecipeDataset(Dataset):\n",
    "    def __init__(self, recipes_df):\n",
    "        \"\"\"\n",
    "        Args:\n",
    "            recipes_df (pd.DataFrame): Dataframe containing the reviews data.\n",
    "        \"\"\"\n",
    "        self.recipes_df = recipes_df\n",
    "\n",
    "    def __len__(self):\n",
    "        # Return the total number of samples\n",
    "        return len(self.recipes_df)\n",
    "\n",
    "    def __getitem__(self, idx):\n",
    "        \"\"\"\n",
    "        Args:\n",
    "            idx (int): Index of the sample to fetch.\n",
    "        Returns:\n",
    "            A dictionary with tensors for the input features and target rating.\n",
    "        \"\"\"\n",
    "        row = self.recipes_df.iloc[idx]\n",
    "        \n",
    "        # Extract features\n",
    "        recipe_id = row[\"recipeid\"]\n",
    "        name_embedding = torch.tensor(row[\"name\"], dtype=torch.float32)\n",
    "        author_id = row[\"authorid\"]\n",
    "        total_time = torch.tensor(row[\"totaltime\"], dtype=torch.float32)\n",
    "        category_embedding = torch.tensor(row[\"recipecategory\"], dtype=torch.float32)\n",
    "        aggr_rating = torch.tensor(row[\"aggregatedrating\"], dtype=torch.float32)\n",
    "        review_count = torch.tensor(row[\"reviewcount\"], dtype=torch.float32)\n",
    "        calories = torch.tensor(row[\"calories\"], dtype=torch.float32)\n",
    "        fat_content = torch.tensor(row[\"fatcontent\"], dtype=torch.float32)\n",
    "        saturated_fat_content = torch.tensor(row[\"saturatedfatcontent\"], dtype=torch.float32)\n",
    "        cholesterol_content = torch.tensor(row[\"cholesterolcontent\"], dtype=torch.float32)\n",
    "        sodium_content = torch.tensor(row[\"sodiumcontent\"], dtype=torch.float32)\n",
    "        carbohydrate_content = torch.tensor(row[\"carbohydratecontent\"], dtype=torch.float32)\n",
    "        fiber_content = torch.tensor(row[\"fibercontent\"], dtype=torch.float32)\n",
    "        sugar_content = torch.tensor(row[\"sugarcontent\"], dtype=torch.float32)\n",
    "        protein_content = torch.tensor(row[\"proteincontent\"], dtype=torch.float32)\n",
    "\n",
    "        return {\n",
    "            \"recipe_id\": recipe_id,\n",
    "            \"name_embedding\": name_embedding,\n",
    "            \"author_id\": author_id,\n",
    "            \"total_time\": total_time,\n",
    "            \"category_embedding\": category_embedding,\n",
    "            \"aggr_rating\": aggr_rating,\n",
    "            \"calories\": calories,\n",
    "            \"review_count\" : review_count,\n",
    "            \"fat_content\": fat_content,\n",
    "            \"saturated_fat_content\": saturated_fat_content,\n",
    "            \"cholesterol_content\": cholesterol_content,\n",
    "            \"sodium_content\" : sodium_content,\n",
    "            \"carbohydrate_content\" : carbohydrate_content,\n",
    "            \"fiber_content\" : fiber_content,\n",
    "            \"sugar_content\" : sugar_content,\n",
    "            \"protein_content\" : protein_content\n",
    "        }"
   ]
  },
  {
   "cell_type": "markdown",
   "metadata": {},
   "source": [
    "### Recipe Tower"
   ]
  },
  {
   "cell_type": "code",
   "execution_count": 101,
   "metadata": {},
   "outputs": [],
   "source": [
    "class RecipeTower(nn.Module):\n",
    "    def __init__(self, recipe_embedding_dim, embedding_dim):\n",
    "        \"\"\"\n",
    "        Args:\n",
    "            review_vector_dim (int): Dimensionality of the review feature vector.\n",
    "            embedding_dim (int): Dimensionality of the output embedding vector.\n",
    "        \"\"\"\n",
    "        super(RecipeTower, self).__init__()\n",
    "        self.fc1 = nn.Linear(recipe_embedding_dim * 2 + 14, 128)  # Add month_sin, month_cos, and year, and rating\n",
    "        self.fc2 = nn.Linear(128, 64)\n",
    "        self.fc3 = nn.Linear(64, embedding_dim)  # Final embedding layer\n",
    "\n",
    "    def forward(self, recipe_id, name_embedding, author_id, total_time, category_embedding,\n",
    "                aggr_rating, review_count, calories, fat_content, saturated_fat_content,\n",
    "                cholesterol_content, sodium_content, carbohydrate_content, fiber_content,\n",
    "                sugar_content, protein_content\n",
    "                ):\n",
    "        \"\"\"\n",
    "        Forward pass for the recipe tower.\n",
    "        \n",
    "        Args:\n",
    "            name_embedding (Tensor): Embedding made for the recipe name.\n",
    "            author_id (Tensor): ID for the author.\n",
    "            total_time (Tensor): Parsed total time taken to prepare the recipe.\n",
    "            category_embedding (Tensor): Embedding made for the recipe category.\n",
    "            aggr_rating (Tensor): Average rating for the recipe.\n",
    "            review_count (Tensor): Count of reviews for the recipe.\n",
    "            (The rest are very self-explanatory)\n",
    "        \n",
    "        Returns:\n",
    "            Tensor: Embedded vector for the review.\n",
    "        \"\"\"\n",
    "        if isinstance(recipe_id, pd.Series):\n",
    "            recipe_id = torch.tensor(recipe_id.values, dtype=torch.float32)\n",
    "\n",
    "            name_embedding = torch.tensor(name_embedding.values.tolist(), dtype=torch.float32)\n",
    "\n",
    "            author_id = torch.tensor(author_id.values, dtype=torch.float32)\n",
    "\n",
    "            total_time = torch.tensor(total_time.values, dtype=torch.float32)\n",
    "\n",
    "            category_embedding = torch.tensor(category_embedding.values.tolist(), dtype=torch.float32)\n",
    "\n",
    "            aggr_rating = torch.tensor(aggr_rating.values, dtype=torch.float32)\n",
    "\n",
    "            review_count = torch.tensor(review_count.values, dtype=torch.float32)\n",
    "\n",
    "            calories = torch.tensor(calories.values, dtype=torch.float32)\n",
    "\n",
    "            fat_content = torch.tensor(fat_content.values, dtype=torch.float32)\n",
    "\n",
    "            saturated_fat_content = torch.tensor(saturated_fat_content.values, dtype=torch.float32)\n",
    "\n",
    "            cholesterol_content = torch.tensor(cholesterol_content.values, dtype=torch.float32)\n",
    "\n",
    "            sodium_content = torch.tensor(sodium_content.values, dtype=torch.float32)\n",
    "\n",
    "            carbohydrate_content = torch.tensor(carbohydrate_content.values, dtype=torch.float32)\n",
    "\n",
    "            fiber_content = torch.tensor(fiber_content.values, dtype=torch.float32)\n",
    "\n",
    "            sugar_content = torch.tensor(sugar_content.values, dtype=torch.float32)\n",
    "\n",
    "            protein_content = torch.tensor(protein_content.values, dtype=torch.float32)\n",
    "            \n",
    "        # Concatenate all features\n",
    "        x = torch.cat((\n",
    "        recipe_id.unsqueeze(1),\n",
    "        name_embedding, \n",
    "        author_id.unsqueeze(1), \n",
    "        total_time.unsqueeze(1), \n",
    "        category_embedding, \n",
    "        aggr_rating.unsqueeze(1), \n",
    "        review_count.unsqueeze(1), \n",
    "        calories.unsqueeze(1), \n",
    "        fat_content.unsqueeze(1), \n",
    "        saturated_fat_content.unsqueeze(1), \n",
    "        cholesterol_content.unsqueeze(1), \n",
    "        sodium_content.unsqueeze(1), \n",
    "        carbohydrate_content.unsqueeze(1), \n",
    "        fiber_content.unsqueeze(1), \n",
    "        sugar_content.unsqueeze(1), \n",
    "        protein_content.unsqueeze(1)\n",
    "        ), dim=1)\n",
    "    \n",
    "        # Pass through fully connected layers\n",
    "        x = F.relu(self.fc1(x))\n",
    "        x = F.relu(self.fc2(x))\n",
    "        x = self.fc3(x)  # Final embedding vector\n",
    "        return x\n"
   ]
  },
  {
   "cell_type": "markdown",
   "metadata": {},
   "source": [
    "## Paired Dataset"
   ]
  },
  {
   "cell_type": "code",
   "execution_count": 195,
   "metadata": {},
   "outputs": [],
   "source": [
    "class PairedDataset(torch.utils.data.Dataset):\n",
    "    def __init__(self, review_id_to_embedding, recipe_id_to_embedding, review_to_recipe_map):\n",
    "        \"\"\"\n",
    "        Create a paired dataset for positive review-recipe pairs.\n",
    "        :param review_id_to_embedding: Dictionary mapping ReviewId to review embedding.\n",
    "        :param recipe_id_to_embedding: Dictionary mapping RecipeId to recipe embedding.\n",
    "        :param review_to_recipe_map: Dictionary mapping ReviewId to RecipeId.\n",
    "        \"\"\"\n",
    "        self.review_id_to_embedding = review_id_to_embedding\n",
    "        self.recipe_id_to_embedding = recipe_id_to_embedding\n",
    "        self.review_to_recipe_map = review_to_recipe_map\n",
    "        self.review_ids = list(self.review_to_recipe_map.keys())\n",
    "\n",
    "    def __len__(self):\n",
    "        return len(self.review_ids)\n",
    "\n",
    "    def __getitem__(self, idx):\n",
    "        if isinstance(idx, (list, torch.Tensor)):  # Handle batch indices\n",
    "            return [self.__getitem__(i) for i in idx]\n",
    "        # Get review embedding and ID\n",
    "        \n",
    "        review_id = self.review_ids[idx]\n",
    "        review_embedding = self.review_id_to_embedding[review_id]\n",
    "\n",
    "        # Find the associated RecipeId\n",
    "        recipe_id = self.review_to_recipe_map[review_id]\n",
    "        \n",
    "        recipe_embedding = self.recipe_id_to_embedding[recipe_id]\n",
    "\n",
    "        return review_id, recipe_id, review_embedding, recipe_embedding\n"
   ]
  },
  {
   "cell_type": "code",
   "execution_count": null,
   "metadata": {},
   "outputs": [],
   "source": [
    "# 428602 229632\n",
    "# print(valid_review_data[valid_review_data[\"reviewid\"] == 428602])\n",
    "# review_to_recipe_map[229632]"
   ]
  },
  {
   "cell_type": "markdown",
   "metadata": {},
   "source": [
    "## Dataloaders"
   ]
  },
  {
   "cell_type": "code",
   "execution_count": 196,
   "metadata": {},
   "outputs": [
    {
     "name": "stdout",
     "output_type": "stream",
     "text": [
      "(397019, 8)\n",
      "<class 'torch.Tensor'>\n",
      "Review Embedding shape: torch.Size([32, 32])\n",
      "tensor([[ 0.0704,  0.1354,  0.1063,  ...,  0.0256, -0.1120, -0.0522],\n",
      "        [ 0.0729,  0.1377,  0.0919,  ...,  0.0289, -0.1111, -0.0554],\n",
      "        [ 0.0851,  0.1474,  0.0790,  ...,  0.0126, -0.1227, -0.0411],\n",
      "        ...,\n",
      "        [ 0.0616,  0.1425,  0.1012,  ...,  0.0131, -0.1057, -0.0464],\n",
      "        [ 0.0769,  0.1439,  0.1009,  ...,  0.0157, -0.1119, -0.0469],\n",
      "        [ 0.0663,  0.1350,  0.1040,  ...,  0.0206, -0.1101, -0.0454]],\n",
      "       grad_fn=<AddmmBackward0>)\n",
      "Recipe Embedding shape: torch.Size([32, 32])\n",
      "tensor([[-7599.8984,  3539.7825,  2886.6223,  ..., -2559.5818, -3824.5593,\n",
      "          7678.2231],\n",
      "        [  -28.7264,    15.2036,    14.0608,  ...,   -11.9686,   -13.8472,\n",
      "            27.1912],\n",
      "        [ -331.7814,   151.1247,   158.7859,  ...,  -127.4518,  -169.6227,\n",
      "           315.4817],\n",
      "        ...,\n",
      "        [-6923.7520,  3054.8313,  2754.1338,  ..., -2485.4910, -3529.0249,\n",
      "          6654.2417],\n",
      "        [ -545.6279,   282.8091,   268.1925,  ...,  -241.5691,  -288.8788,\n",
      "           515.8131],\n",
      "        [-4061.6113,  2111.1899,  2004.6553,  ..., -1801.0857, -2138.9795,\n",
      "          3845.7744]], grad_fn=<AddmmBackward0>)\n"
     ]
    }
   ],
   "source": [
    "from torch.utils.data import DataLoader\n",
    "\n",
    "batch_size = 32\n",
    "\n",
    "# Create review and recipe dataloaders\n",
    "print(train_review_data.shape)\n",
    "# Create the dataset\n",
    "review_dataset = ReviewsDataset(train_review_data)\n",
    "recipe_dataset = RecipeDataset(train_recipe_data)\n",
    "\n",
    "# Define dimensions\n",
    "embedding_dim = 32  # Size of the output embedding vector (arbitrary, tunable)\n",
    "review_embedding_dim = recipe_embedding_dim = 384  # Dimensionality of the \"review\" feature\n",
    "\n",
    "# Initialize the model\n",
    "review_tower = ReviewTower(review_embedding_dim=review_embedding_dim, embedding_dim=embedding_dim)\n",
    "recipe_tower = RecipeTower(recipe_embedding_dim=recipe_embedding_dim, embedding_dim=embedding_dim)\n",
    "\n",
    "# Create a DataLoader for batching\n",
    "batch_size = 32\n",
    "reviews_dataloader = DataLoader(review_dataset, batch_size=batch_size, shuffle=True)\n",
    "recipe_dataloader = DataLoader(recipe_dataset, batch_size=batch_size, shuffle=True)\n",
    "\n",
    "# Example: Iterate through the DataLoader\n",
    "for batch in reviews_dataloader:\n",
    "    print(type(batch[\"review_embedding\"]))\n",
    "    review_embeddings = review_tower(batch[\"review_embedding\"], batch[\"month_sin\"], batch[\"month_cos\"], batch[\"year\"], batch[\"rating\"])\n",
    "    print(\"Review Embedding shape:\", review_embeddings.shape)\n",
    "    print(review_embeddings)\n",
    "    break\n",
    "\n",
    "for batch in recipe_dataloader:\n",
    "    recipe_embeddings = recipe_tower(\n",
    "        batch[\"recipe_id\"],\n",
    "        batch[\"name_embedding\"], \n",
    "        batch[\"author_id\"], \n",
    "        batch[\"total_time\"], \n",
    "        batch[\"category_embedding\"], \n",
    "        batch[\"aggr_rating\"],\n",
    "        batch[\"review_count\"], \n",
    "        batch[\"calories\"], \n",
    "        batch[\"fat_content\"], \n",
    "        batch[\"saturated_fat_content\"], \n",
    "        batch[\"cholesterol_content\"], \n",
    "        batch[\"sodium_content\"], \n",
    "        batch[\"carbohydrate_content\"], \n",
    "        batch[\"fiber_content\"], \n",
    "        batch[\"sugar_content\"], \n",
    "        batch[\"protein_content\"]\n",
    "    )\n",
    "    print(\"Recipe Embedding shape:\", recipe_embeddings.shape)\n",
    "    print(recipe_embeddings)\n",
    "    break"
   ]
  },
  {
   "cell_type": "markdown",
   "metadata": {},
   "source": [
    "## Embeddings for Paired Dataset"
   ]
  },
  {
   "cell_type": "code",
   "execution_count": 192,
   "metadata": {},
   "outputs": [],
   "source": [
    "review_embeddings = []\n",
    "review_ids = []\n",
    "\n",
    "# Generate embeddings for all reviews\n",
    "review_tower.eval()\n",
    "with torch.no_grad():\n",
    "    for batch in reviews_dataloader:\n",
    "        # Pass features through the ReviewTower\n",
    "        embeddings = review_tower(\n",
    "            batch[\"review_embedding\"], batch[\"month_sin\"], batch[\"month_cos\"], \n",
    "            batch[\"year\"], batch[\"rating\"]\n",
    "        )\n",
    "        review_embeddings.append(embeddings)\n",
    "        review_ids.extend(batch[\"review_id\"])  # Assuming the batch includes ReviewId\n",
    "\n",
    "# Combine all embeddings and IDs\n",
    "review_embeddings = torch.cat(review_embeddings, dim=0)  # Shape: [num_reviews, embedding_dim]\n"
   ]
  },
  {
   "cell_type": "code",
   "execution_count": 53,
   "metadata": {},
   "outputs": [],
   "source": [
    "review_id_to_embedding = {\n",
    "    rid.item(): emb for rid, emb in zip(review_ids, review_embeddings)\n",
    "}"
   ]
  },
  {
   "cell_type": "code",
   "execution_count": 191,
   "metadata": {},
   "outputs": [],
   "source": [
    "recipe_embeddings = []\n",
    "recipe_ids = []\n",
    "\n",
    "# Generate embeddings for all recipes\n",
    "recipe_tower.eval()\n",
    "with torch.no_grad():\n",
    "    for batch in recipe_dataloader:\n",
    "        # Pass features through the RecipeTower\n",
    "        embeddings = recipe_tower(\n",
    "            batch[\"recipe_id\"], batch[\"name_embedding\"], batch[\"author_id\"], \n",
    "            batch[\"total_time\"], batch[\"category_embedding\"], batch[\"aggr_rating\"],\n",
    "            batch[\"review_count\"], batch[\"calories\"], batch[\"fat_content\"], \n",
    "            batch[\"saturated_fat_content\"], batch[\"cholesterol_content\"], \n",
    "            batch[\"sodium_content\"], batch[\"carbohydrate_content\"], batch[\"fiber_content\"], \n",
    "            batch[\"sugar_content\"], batch[\"protein_content\"]\n",
    "        )\n",
    "        recipe_embeddings.append(embeddings)\n",
    "        recipe_ids.extend(batch[\"recipe_id\"])  # Assuming the batch includes RecipeId\n",
    "\n",
    "# Combine all embeddings and IDs\n",
    "recipe_embeddings = torch.cat(recipe_embeddings, dim=0)  # Shape: [num_recipes, embedding_dim]\n"
   ]
  },
  {
   "cell_type": "code",
   "execution_count": 54,
   "metadata": {},
   "outputs": [],
   "source": [
    "# Generate dictionary mapping RecipeId to its embedding\n",
    "recipe_id_to_embedding = {\n",
    "    rid: emb for rid, emb in zip(recipe_ids, recipe_embeddings)\n",
    "}"
   ]
  },
  {
   "cell_type": "code",
   "execution_count": 76,
   "metadata": {},
   "outputs": [
    {
     "name": "stdout",
     "output_type": "stream",
     "text": [
      "418013\n"
     ]
    }
   ],
   "source": [
    "print(len(recipe_embeddings))"
   ]
  },
  {
   "cell_type": "code",
   "execution_count": 88,
   "metadata": {},
   "outputs": [
    {
     "name": "stdout",
     "output_type": "stream",
     "text": [
      "[284397, 27984, 237571, 292275, 513725, 534011, 142314, 376413, 359789, 55206]\n"
     ]
    },
    {
     "ename": "AttributeError",
     "evalue": "'int' object has no attribute 'item'",
     "output_type": "error",
     "traceback": [
      "\u001b[1;31m---------------------------------------------------------------------------\u001b[0m",
      "\u001b[1;31mAttributeError\u001b[0m                            Traceback (most recent call last)",
      "Cell \u001b[1;32mIn[88], line 2\u001b[0m\n\u001b[0;32m      1\u001b[0m \u001b[38;5;28mprint\u001b[39m(recipe_ids[:\u001b[38;5;241m10\u001b[39m])\n\u001b[1;32m----> 2\u001b[0m recipe_ids \u001b[38;5;241m=\u001b[39m \u001b[43m[\u001b[49m\u001b[43mtensor\u001b[49m\u001b[38;5;241;43m.\u001b[39;49m\u001b[43mitem\u001b[49m\u001b[43m(\u001b[49m\u001b[43m)\u001b[49m\u001b[43m \u001b[49m\u001b[38;5;28;43;01mfor\u001b[39;49;00m\u001b[43m \u001b[49m\u001b[43mtensor\u001b[49m\u001b[43m \u001b[49m\u001b[38;5;129;43;01min\u001b[39;49;00m\u001b[43m \u001b[49m\u001b[43mrecipe_ids\u001b[49m\u001b[43m]\u001b[49m\n\u001b[0;32m      3\u001b[0m \u001b[38;5;28mprint\u001b[39m(recipe_ids[:\u001b[38;5;241m10\u001b[39m])\n",
      "Cell \u001b[1;32mIn[88], line 2\u001b[0m, in \u001b[0;36m<listcomp>\u001b[1;34m(.0)\u001b[0m\n\u001b[0;32m      1\u001b[0m \u001b[38;5;28mprint\u001b[39m(recipe_ids[:\u001b[38;5;241m10\u001b[39m])\n\u001b[1;32m----> 2\u001b[0m recipe_ids \u001b[38;5;241m=\u001b[39m [\u001b[43mtensor\u001b[49m\u001b[38;5;241;43m.\u001b[39;49m\u001b[43mitem\u001b[49m() \u001b[38;5;28;01mfor\u001b[39;00m tensor \u001b[38;5;129;01min\u001b[39;00m recipe_ids]\n\u001b[0;32m      3\u001b[0m \u001b[38;5;28mprint\u001b[39m(recipe_ids[:\u001b[38;5;241m10\u001b[39m])\n",
      "\u001b[1;31mAttributeError\u001b[0m: 'int' object has no attribute 'item'"
     ]
    }
   ],
   "source": [
    "print(recipe_ids[:10])\n",
    "recipe_ids = [tensor.item() for tensor in recipe_ids]\n",
    "print(recipe_ids[:10])"
   ]
  },
  {
   "cell_type": "code",
   "execution_count": 96,
   "metadata": {},
   "outputs": [],
   "source": [
    "recipe_id_to_embedding = {int(k.item()): v for k, v in recipe_id_to_embedding.items()}"
   ]
  },
  {
   "cell_type": "code",
   "execution_count": 97,
   "metadata": {},
   "outputs": [],
   "source": [
    "review_to_recipe_map = {\n",
    "    review_id: recipe_id for review_id, recipe_id in zip(train_review_data[\"reviewid\"], train_review_data[\"recipeid\"])\n",
    "    if recipe_id in recipe_id_to_embedding\n",
    "}"
   ]
  },
  {
   "cell_type": "code",
   "execution_count": 95,
   "metadata": {},
   "outputs": [
    {
     "name": "stdout",
     "output_type": "stream",
     "text": [
      "418013\n",
      "(397019, 8)\n"
     ]
    }
   ],
   "source": [
    "# Filter out reviews without a matching RecipeId in the recipe dataset\n",
    "valid_recipe_ids = set(recipe_ids) \n",
    "print(len(valid_recipe_ids))\n",
    "train_review_data = train_review_data[train_review_data[\"recipeid\"].isin(recipe_ids)]\n",
    "print(train_review_data.shape)"
   ]
  },
  {
   "cell_type": "code",
   "execution_count": 98,
   "metadata": {},
   "outputs": [
    {
     "name": "stdout",
     "output_type": "stream",
     "text": [
      "int64\n",
      "<class 'int'>\n"
     ]
    }
   ],
   "source": [
    "print(train_review_data[\"recipeid\"].dtype)\n",
    "print(type(next(iter(recipe_id_to_embedding.keys()))))"
   ]
  },
  {
   "cell_type": "markdown",
   "metadata": {},
   "source": [
    "## Create PairDataset"
   ]
  },
  {
   "cell_type": "code",
   "execution_count": 197,
   "metadata": {},
   "outputs": [
    {
     "name": "stdout",
     "output_type": "stream",
     "text": [
      "397019\n",
      "418013\n",
      "397019\n"
     ]
    }
   ],
   "source": [
    "# Create paired dataset\n",
    "print(len(review_id_to_embedding))\n",
    "print(len(recipe_id_to_embedding))\n",
    "print(len(review_to_recipe_map))\n",
    "\n",
    "\n",
    "paired_dataset = PairedDataset(\n",
    "    review_id_to_embedding=review_id_to_embedding,\n",
    "    recipe_id_to_embedding=recipe_id_to_embedding,\n",
    "    review_to_recipe_map=review_to_recipe_map\n",
    ")\n",
    "\n",
    "# Create DataLoader\n",
    "paired_dataloader = DataLoader(paired_dataset, batch_size=batch_size, shuffle=True)"
   ]
  },
  {
   "cell_type": "markdown",
   "metadata": {},
   "source": [
    "## Two-Tower Model"
   ]
  },
  {
   "cell_type": "code",
   "execution_count": 108,
   "metadata": {
    "id": "6gbdLdgjcmbx"
   },
   "outputs": [],
   "source": [
    "class TwoTowerRecommender(nn.Module):\n",
    "    def __init__(self, review_tower, recipe_tower, similarity_fn=cosine_similarity):\n",
    "        super(TwoTowerRecommender, self).__init__()\n",
    "        self.review_tower = review_tower  # Predefined Review Tower\n",
    "        self.recipe_tower = recipe_tower  # Predefined Recipe Tower\n",
    "        self.similarity_fn = similarity_fn\n",
    "\n",
    "    def forward(self, review_rows, recipe_rows):\n",
    "        # Extract review features (assuming these columns exist in `review_rows`)\n",
    "        review_embedding = review_rows[\"review\"]  # This is the precomputed review embedding\n",
    "        month_sin = review_rows[\"month_sin\"]\n",
    "        month_cos = review_rows[\"month_cos\"]\n",
    "        year = review_rows[\"year\"]\n",
    "        rating = review_rows[\"rating\"]\n",
    "\n",
    "        # Pass review features to review_tower\n",
    "        review_embeddings = self.review_tower(review_embedding, month_sin, month_cos, year, rating)\n",
    "\n",
    "        # Extract recipe features (assuming these columns exist in `recipe_rows`)\n",
    "        recipe_id = recipe_rows[\"recipeid\"]\n",
    "        name_embedding = recipe_rows[\"name\"]\n",
    "        author_id = recipe_rows[\"authorid\"]\n",
    "        total_time = recipe_rows[\"totaltime\"]\n",
    "        category_embedding = recipe_rows[\"recipecategory\"]\n",
    "        aggr_rating = recipe_rows[\"aggregatedrating\"]\n",
    "        review_count = recipe_rows[\"reviewcount\"]\n",
    "        calories = recipe_rows[\"calories\"]\n",
    "        fat_content = recipe_rows[\"fatcontent\"]\n",
    "        saturated_fat_content = recipe_rows[\"saturatedfatcontent\"]\n",
    "        cholesterol_content = recipe_rows[\"cholesterolcontent\"]\n",
    "        sodium_content = recipe_rows[\"sodiumcontent\"]\n",
    "        carbohydrate_content = recipe_rows[\"carbohydratecontent\"]\n",
    "        fiber_content = recipe_rows[\"fibercontent\"]\n",
    "        sugar_content = recipe_rows[\"sugarcontent\"]\n",
    "        protein_content = recipe_rows[\"proteincontent\"]\n",
    "\n",
    "        # Pass recipe features to recipe_tower\n",
    "        item_embeddings = self.recipe_tower(\n",
    "            recipe_id, name_embedding, author_id, total_time, category_embedding,\n",
    "            aggr_rating, review_count, calories, fat_content, saturated_fat_content,\n",
    "            cholesterol_content, sodium_content, carbohydrate_content, fiber_content,\n",
    "            sugar_content, protein_content\n",
    "        )\n",
    "\n",
    "        # Compute similarity score\n",
    "        scores = torch.matmul(review_embeddings, item_embeddings.T)  # Compute similarity\n",
    "        return scores\n"
   ]
  },
  {
   "cell_type": "markdown",
   "metadata": {
    "id": "OJu6I-Bwqoju"
   },
   "source": [
    "# Training"
   ]
  },
  {
   "cell_type": "code",
   "execution_count": 106,
   "metadata": {},
   "outputs": [],
   "source": [
    "from torch.nn.functional import cosine_similarity\n",
    "\n",
    "# Define a contrastive loss function\n",
    "def contrastive_loss(scores, labels, margin=1.0):\n",
    "    positive_scores = scores[labels == 1]\n",
    "    negative_scores = scores[labels == 0]\n",
    "    loss = torch.clamp(margin - positive_scores + negative_scores, min=0).mean()\n",
    "    return loss"
   ]
  },
  {
   "cell_type": "code",
   "execution_count": 207,
   "metadata": {},
   "outputs": [],
   "source": [
    "def add_negatives(paired_dataset, review_ids, recipe_ids, num_negatives=1):\n",
    "    \"\"\"\n",
    "    Generate positive and negative samples using the paired dataset.\n",
    "    :param paired_dataset: The PairedDataset instance containing review and recipe embeddings.\n",
    "    :param review_ids: Tensor containing review IDs for the batch.\n",
    "    :param recipe_ids: Tensor containing corresponding recipe IDs for the batch.\n",
    "    :param num_negatives: Number of negative samples to generate per positive.\n",
    "    :return: Tensors for review embeddings, recipe embeddings, and labels.\n",
    "    \"\"\"\n",
    "    \n",
    "    pos_reviews = []\n",
    "    pos_recipes = []\n",
    "    \n",
    "    # Loop through the batch of review and recipe IDs\n",
    "    for review_id, recipe_id in zip(review_ids, recipe_ids):\n",
    "        # Get the corresponding rows from the DataFrames\n",
    "        review_row = train_review_data.loc[train_review_data[\"reviewid\"] == review_id.item()].iloc[0]\n",
    "        recipe_row = train_recipe_data.loc[train_recipe_data[\"recipeid\"] == recipe_id.item()].iloc[0]\n",
    "        \n",
    "        # Extract features from the review and recipe rows\n",
    "        review_features = (\n",
    "            review_row[\"review\"], \n",
    "            review_row[\"month_sin\"], \n",
    "            review_row[\"month_cos\"], \n",
    "            review_row[\"year\"], \n",
    "            review_row[\"rating\"]\n",
    "        )\n",
    "        \n",
    "        recipe_features = (\n",
    "            recipe_row[\"recipeid\"], \n",
    "            recipe_row[\"name\"], \n",
    "            recipe_row[\"authorid\"], \n",
    "            recipe_row[\"totaltime\"], \n",
    "            recipe_row[\"recipecategory\"],\n",
    "            recipe_row[\"aggregatedrating\"], \n",
    "            recipe_row[\"reviewcount\"], \n",
    "            recipe_row[\"calories\"],\n",
    "            recipe_row[\"fatcontent\"], \n",
    "            recipe_row[\"saturatedfatcontent\"], \n",
    "            recipe_row[\"cholesterolcontent\"], \n",
    "            recipe_row[\"sodiumcontent\"], \n",
    "            recipe_row[\"carbohydratecontent\"], \n",
    "            recipe_row[\"fibercontent\"], \n",
    "            recipe_row[\"sugarcontent\"], \n",
    "            recipe_row[\"proteincontent\"]\n",
    "        )\n",
    "        \n",
    "        # Append to positive pairs\n",
    "        pos_reviews.append(review_features)\n",
    "        pos_recipes.append(recipe_features)\n",
    "    \n",
    "    # Convert to tensors\n",
    "    pos_reviews = torch.stack(pos_reviews)  # Shape: [batch_size, review_feature_dim]\n",
    "    pos_recipes = torch.stack(pos_recipes)  # Shape: [batch_size, recipe_feature_dim]\n",
    "\n",
    "    # Negative sampling\n",
    "    neg_reviews = []\n",
    "    neg_recipes = []\n",
    "    for _ in range(num_negatives):\n",
    "        neg_recipe_indices = torch.randint(len(paired_dataset), (len(review_ids),))\n",
    "        for idx in neg_recipe_indices:\n",
    "            # Here we are selecting random negative recipes by idx\n",
    "            neg_reviews.append(pos_reviews)  # Use the same reviews\n",
    "            neg_recipe_row = paired_dataset[idx][1]  # Get the corresponding recipe row (embedding)\n",
    "            neg_recipes.append(neg_recipe_row)\n",
    "    \n",
    "    # Stack negative tensors\n",
    "    neg_reviews = torch.cat(neg_reviews, dim=0)\n",
    "    neg_recipes = torch.stack(neg_recipes, dim=0)\n",
    "    \n",
    "    # Combine positive and negative samples\n",
    "    all_reviews = torch.cat([pos_reviews, neg_reviews], dim=0)\n",
    "    all_recipes = torch.cat([pos_recipes, neg_recipes], dim=0)\n",
    "    all_labels = torch.cat([\n",
    "        torch.ones(len(pos_reviews)),  # Positive labels\n",
    "        torch.zeros(len(neg_recipes))  # Negative labels\n",
    "    ], dim=0)\n",
    "\n",
    "    return all_reviews, all_recipes, all_labels\n"
   ]
  },
  {
   "cell_type": "markdown",
   "metadata": {},
   "source": [
    "## Training Loop"
   ]
  },
  {
   "cell_type": "code",
   "execution_count": 203,
   "metadata": {},
   "outputs": [
    {
     "name": "stdout",
     "output_type": "stream",
     "text": [
      "Using device: cuda\n"
     ]
    }
   ],
   "source": [
    "device = torch.device(\"cuda\" if torch.cuda.is_available() else \"cpu\")\n",
    "print(f\"Using device: {device}\")\n"
   ]
  },
  {
   "cell_type": "code",
   "execution_count": 208,
   "metadata": {
    "id": "AJA1ZRJVqpTw"
   },
   "outputs": [
    {
     "name": "stderr",
     "output_type": "stream",
     "text": [
      "                                                     \r"
     ]
    },
    {
     "name": "stdout",
     "output_type": "stream",
     "text": [
      "tensor([  35009,  329825, 1227749,  170160, 2084073,  143703,  935137, 2011052,\n",
      "        1052474,  263984,  825436,  887753, 2053805, 1295634,  976131,  224312,\n",
      "         600001,  260203, 1184259, 1340003, 1021773,  247039,  748923,  707413,\n",
      "         847922, 1213667,  119657, 1212479,  789633,  329777, 1479666,  425262]) tensor([ 35813, 123950, 234424, 107072, 205890, 106962, 227121, 301754, 145165,\n",
      "        113861, 276268, 373619, 501408, 115565, 150770,  42007,  40681,  14106,\n",
      "         33104,  88350, 385211,  95311,  78607,  69478, 245152, 423847,  10214,\n",
      "        222188, 308090,  19479, 327922, 132816])\n"
     ]
    },
    {
     "ename": "TypeError",
     "evalue": "expected Tensor as element 0 in argument 0, but got tuple",
     "output_type": "error",
     "traceback": [
      "\u001b[1;31m---------------------------------------------------------------------------\u001b[0m",
      "\u001b[1;31mTypeError\u001b[0m                                 Traceback (most recent call last)",
      "Cell \u001b[1;32mIn[208], line 20\u001b[0m\n\u001b[0;32m     17\u001b[0m \u001b[38;5;28;01mfor\u001b[39;00m review_id, recipe_id, _, _ \u001b[38;5;129;01min\u001b[39;00m tqdm(paired_dataloader, desc\u001b[38;5;241m=\u001b[39m\u001b[38;5;124mf\u001b[39m\u001b[38;5;124m\"\u001b[39m\u001b[38;5;124mEpoch \u001b[39m\u001b[38;5;132;01m{\u001b[39;00mepoch\u001b[38;5;241m+\u001b[39m\u001b[38;5;241m1\u001b[39m\u001b[38;5;132;01m}\u001b[39;00m\u001b[38;5;124m\"\u001b[39m, unit\u001b[38;5;241m=\u001b[39m\u001b[38;5;124m\"\u001b[39m\u001b[38;5;124mbatch\u001b[39m\u001b[38;5;124m\"\u001b[39m, leave\u001b[38;5;241m=\u001b[39m\u001b[38;5;28;01mFalse\u001b[39;00m):\n\u001b[0;32m     18\u001b[0m     \u001b[38;5;66;03m# Generate positive and negative samples\u001b[39;00m\n\u001b[0;32m     19\u001b[0m     \u001b[38;5;28mprint\u001b[39m(review_id, recipe_id)\n\u001b[1;32m---> 20\u001b[0m     review_features, recipe_features, labels \u001b[38;5;241m=\u001b[39m \u001b[43madd_negatives\u001b[49m\u001b[43m(\u001b[49m\u001b[43mpaired_dataset\u001b[49m\u001b[43m,\u001b[49m\u001b[43m \u001b[49m\u001b[43mreview_id\u001b[49m\u001b[43m,\u001b[49m\u001b[43m \u001b[49m\u001b[43mrecipe_id\u001b[49m\u001b[43m,\u001b[49m\u001b[43m \u001b[49m\u001b[43mnum_negatives\u001b[49m\u001b[38;5;241;43m=\u001b[39;49m\u001b[38;5;241;43m1\u001b[39;49m\u001b[43m)\u001b[49m\n\u001b[0;32m     22\u001b[0m     \u001b[38;5;66;03m# Move data to device (GPU or CPU)\u001b[39;00m\n\u001b[0;32m     23\u001b[0m     review_features \u001b[38;5;241m=\u001b[39m review_features\u001b[38;5;241m.\u001b[39mto(device)\n",
      "Cell \u001b[1;32mIn[207], line 53\u001b[0m, in \u001b[0;36madd_negatives\u001b[1;34m(paired_dataset, review_ids, recipe_ids, num_negatives)\u001b[0m\n\u001b[0;32m     50\u001b[0m     pos_recipes\u001b[38;5;241m.\u001b[39mappend(recipe_features)\n\u001b[0;32m     52\u001b[0m \u001b[38;5;66;03m# Convert to tensors\u001b[39;00m\n\u001b[1;32m---> 53\u001b[0m pos_reviews \u001b[38;5;241m=\u001b[39m \u001b[43mtorch\u001b[49m\u001b[38;5;241;43m.\u001b[39;49m\u001b[43mstack\u001b[49m\u001b[43m(\u001b[49m\u001b[43mpos_reviews\u001b[49m\u001b[43m)\u001b[49m  \u001b[38;5;66;03m# Shape: [batch_size, review_feature_dim]\u001b[39;00m\n\u001b[0;32m     54\u001b[0m pos_recipes \u001b[38;5;241m=\u001b[39m torch\u001b[38;5;241m.\u001b[39mstack(pos_recipes)  \u001b[38;5;66;03m# Shape: [batch_size, recipe_feature_dim]\u001b[39;00m\n\u001b[0;32m     56\u001b[0m \u001b[38;5;66;03m# Negative sampling\u001b[39;00m\n",
      "\u001b[1;31mTypeError\u001b[0m: expected Tensor as element 0 in argument 0, but got tuple"
     ]
    }
   ],
   "source": [
    "# Initialize the model\n",
    "from tqdm import tqdm\n",
    "\n",
    "model = TwoTowerRecommender(review_tower, recipe_tower, similarity_fn=cosine_similarity)\n",
    "\n",
    "# Binary Cross-Entropy Loss\n",
    "loss_fn = nn.BCEWithLogitsLoss()\n",
    "\n",
    "# Define loss and optimizer\n",
    "optimizer = torch.optim.Adam(model.parameters(), lr=0.001)\n",
    "\n",
    "# Training loop\n",
    "for epoch in range(5):\n",
    "    model.train()\n",
    "    running_loss = 0.0\n",
    "\n",
    "    for review_id, recipe_id, _, _ in tqdm(paired_dataloader, desc=f\"Epoch {epoch+1}\", unit=\"batch\", leave=False):\n",
    "        # Generate positive and negative samples\n",
    "        print(review_id, recipe_id)\n",
    "        review_features, recipe_features, labels = add_negatives(paired_dataset, review_id, recipe_id, num_negatives=1)\n",
    "\n",
    "        # Move data to device (GPU or CPU)\n",
    "        review_features = review_features.to(device)\n",
    "        recipe_features = recipe_features.to(device)\n",
    "        labels = labels.to(device)\n",
    "\n",
    "        # Zero the gradients\n",
    "        optimizer.zero_grad()\n",
    "\n",
    "        # Calculate the similarity for the positive and negative samples\n",
    "        scores = model(review_features, recipe_features)\n",
    "\n",
    "        # Compute contrastive loss\n",
    "        labels = torch.arange(scores.size(0), dtype=torch.float32).to(scores.device)\n",
    "        # Positive pairs on diagonal\n",
    "        loss = loss_fn(scores, labels)\n",
    "\n",
    "        # Backward pass and optimization\n",
    "        loss.backward()\n",
    "        optimizer.step()\n",
    "\n",
    "        running_loss += loss.item()\n",
    "\n",
    "    print(f\"Epoch {epoch+1}, Loss: {running_loss / len(paired_dataloader)}\")"
   ]
  },
  {
   "cell_type": "code",
   "execution_count": 201,
   "metadata": {},
   "outputs": [
    {
     "name": "stdout",
     "output_type": "stream",
     "text": [
      "True\n",
      "        reviewid  recipeid  authorid    rating  \\\n",
      "436057   1245665     59148   1992585  0.465609   \n",
      "\n",
      "                                                   review      year  \\\n",
      "436057  [-0.05396514, -0.06840967, -0.034714345, 0.068...  0.556577   \n",
      "\n",
      "        month_sin  month_cos  \n",
      "436057  -0.866025       -0.5  \n"
     ]
    }
   ],
   "source": [
    "print(1245665 in train_review_data['reviewid'].values)\n",
    "print(train_review_data[train_review_data['reviewid'] == 1245665])\n"
   ]
  },
  {
   "cell_type": "code",
   "execution_count": null,
   "metadata": {},
   "outputs": [],
   "source": []
  }
 ],
 "metadata": {
  "colab": {
   "provenance": []
  },
  "kernelspec": {
   "display_name": ".venv",
   "language": "python",
   "name": "python3"
  },
  "language_info": {
   "codemirror_mode": {
    "name": "ipython",
    "version": 3
   },
   "file_extension": ".py",
   "mimetype": "text/x-python",
   "name": "python",
   "nbconvert_exporter": "python",
   "pygments_lexer": "ipython3",
   "version": "3.11.8"
  }
 },
 "nbformat": 4,
 "nbformat_minor": 0
}

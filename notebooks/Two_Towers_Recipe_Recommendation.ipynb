{
 "cells": [
  {
   "cell_type": "code",
   "execution_count": 1,
   "metadata": {
    "id": "HPrrUz4fAE4o"
   },
   "outputs": [],
   "source": [
    "import pandas as pd\n",
    "import numpy as np\n",
    "import matplotlib.pyplot as plt\n",
    "import kagglehub\n",
    "import os"
   ]
  },
  {
   "cell_type": "code",
   "execution_count": 7,
   "metadata": {
    "colab": {
     "base_uri": "https://localhost:8080/"
    },
    "id": "VLNtITse0pfl",
    "outputId": "edf092d5-d27a-4377-c79e-dc348e8f86b4"
   },
   "outputs": [
    {
     "name": "stdout",
     "output_type": "stream",
     "text": [
      "Downloading from https://www.kaggle.com/api/v1/datasets/download/irkaal/foodcom-recipes-and-reviews?dataset_version_number=2...\n"
     ]
    },
    {
     "name": "stderr",
     "output_type": "stream",
     "text": [
      "100%|██████████| 723M/723M [01:06<00:00, 11.5MB/s] "
     ]
    },
    {
     "name": "stdout",
     "output_type": "stream",
     "text": [
      "Extracting files...\n"
     ]
    },
    {
     "name": "stderr",
     "output_type": "stream",
     "text": [
      "\n"
     ]
    },
    {
     "name": "stdout",
     "output_type": "stream",
     "text": [
      "Path to dataset files: C:\\Users\\spadr\\.cache\\kagglehub\\datasets\\irkaal\\foodcom-recipes-and-reviews\\versions\\2\n"
     ]
    }
   ],
   "source": [
    "# Download latest version\n",
    "current_dir = os.getcwd()\n",
    "path = kagglehub.dataset_download(\"irkaal/foodcom-recipes-and-reviews\")\n",
    "\n",
    "print(\"Path to dataset files:\", path)"
   ]
  },
  {
   "cell_type": "code",
   "execution_count": 8,
   "metadata": {
    "id": "cuaZpnTaSVV1"
   },
   "outputs": [],
   "source": [
    "pd.set_option('display.max_columns', None)"
   ]
  },
  {
   "cell_type": "code",
   "execution_count": 2,
   "metadata": {
    "id": "TQrdRK-Ysb1L"
   },
   "outputs": [],
   "source": [
    "dfRec = pd.read_csv('..\\\\data\\\\recipes.csv')\n",
    "dfRev = pd.read_csv('..\\\\data\\\\reviews.csv')"
   ]
  },
  {
   "cell_type": "code",
   "execution_count": null,
   "metadata": {
    "colab": {
     "base_uri": "https://localhost:8080/",
     "height": 854
    },
    "id": "xtEyI-XzDJrG",
    "outputId": "01b60ef5-dd8d-498b-f638-56a676af57bd"
   },
   "outputs": [],
   "source": [
    "dfRev.head(25)\n",
    "# print(dfRev['Review'].head(10).tolist())"
   ]
  },
  {
   "cell_type": "code",
   "execution_count": null,
   "metadata": {
    "colab": {
     "base_uri": "https://localhost:8080/"
    },
    "id": "GD2pHHrtFVXa",
    "outputId": "e566128d-9d44-4405-85cb-ea4b43cccf01"
   },
   "outputs": [],
   "source": [
    "print(dfRev['Review'].head(25).tolist())"
   ]
  },
  {
   "cell_type": "code",
   "execution_count": null,
   "metadata": {
    "colab": {
     "base_uri": "https://localhost:8080/",
     "height": 1000
    },
    "collapsed": true,
    "id": "k1vD14NnD500",
    "outputId": "2e2a8250-d7dd-474c-f47e-a8f188a2ef41"
   },
   "outputs": [],
   "source": [
    "dfRec.head(10)"
   ]
  },
  {
   "cell_type": "code",
   "execution_count": null,
   "metadata": {
    "colab": {
     "base_uri": "https://localhost:8080/"
    },
    "id": "j53wCPrMFxhH",
    "outputId": "9ea93a1e-258c-4446-9159-497601ee5adf"
   },
   "outputs": [],
   "source": [
    "# print(dfRec['Images'].head(10).tolist())\n",
    "print(dfRec[dfRec['RecipeId'] == 992])"
   ]
  },
  {
   "cell_type": "markdown",
   "metadata": {
    "id": "nl3-cNaCqeOw"
   },
   "source": [
    "# Data Exploration"
   ]
  },
  {
   "cell_type": "markdown",
   "metadata": {
    "id": "JCNRMRVrrBHY"
   },
   "source": [
    "## Recipe Dataset"
   ]
  },
  {
   "cell_type": "code",
   "execution_count": null,
   "metadata": {
    "colab": {
     "base_uri": "https://localhost:8080/",
     "height": 965
    },
    "id": "hB2N2SgaJRed",
    "outputId": "84281b76-1298-4d13-95e9-fdda0b264135"
   },
   "outputs": [],
   "source": [
    "dfRec.info()\n",
    "dfRec.describe()"
   ]
  },
  {
   "cell_type": "code",
   "execution_count": null,
   "metadata": {
    "colab": {
     "base_uri": "https://localhost:8080/",
     "height": 541
    },
    "id": "tNmDNFmCOygB",
    "outputId": "16fcfa00-a28e-443f-c76b-0828e6dc6294"
   },
   "outputs": [],
   "source": [
    "recipe_category_counts = dfRec['RecipeCategory'].value_counts()\n",
    "top_10_counts = recipe_category_counts.head(25) # Select only the top 25 categories\n",
    "other_count = recipe_category_counts.iloc[25:].sum()\n",
    "top_10_with_other = pd.concat([top_10_counts, pd.Series({'Other':other_count})])\n",
    "\n",
    "plt.figure(figsize=(10, 6))\n",
    "plt.pie(top_10_with_other, labels=top_10_with_other.index, autopct='%1.1f%%', startangle=140)\n",
    "plt.title('Distribution of Recipe Categories')\n",
    "plt.show()"
   ]
  },
  {
   "cell_type": "markdown",
   "metadata": {
    "id": "ceOrg9GkyQSp"
   },
   "source": [
    "### Data Cleaning"
   ]
  },
  {
   "cell_type": "code",
   "execution_count": null,
   "metadata": {
    "colab": {
     "base_uri": "https://localhost:8080/"
    },
    "id": "_xf709CTq9lz",
    "outputId": "66fcc4f0-60ff-4413-e108-34624d289cc3"
   },
   "outputs": [],
   "source": [
    "dfRec.drop(columns=['Images'], inplace=True)\n",
    "dfRec.drop(columns=['RecipeYield'], inplace=True) # Too many nulls\n",
    "\n",
    "# Deal with null values:\n",
    "dfRec['CookTime'].fillna(0, inplace=True) # NaN means no cooking required\n",
    "dfRec['ReviewCount'].fillna(0, inplace=True) # NaN means no reviews\n",
    "dfRec['AggregatedRating'].fillna(2.5, inplace=True) # Use a neutral value even though median is 5.0 and mean 4.6 since we have no indication of quality\n",
    "dfRec['RecipeServings'].fillna(dfRec['RecipeServings'].median(), inplace=True)\n",
    "dfRec['Description'].fillna('', inplace=True) # Put empty description\n",
    "dfRec['RecipeCategory'].fillna(dfRec['Name'], inplace=True) # Substitute category with recipe name\n",
    "dfRec['Keywords'].fillna(dfRec['RecipeIngredientParts'], inplace=True) # Substitute with ingredients, any better ideas?\n",
    "dfRec['RecipeIngredientQuantities'].fillna('c(\"0\")',inplace=True) # There are only 3 missing\n",
    "\n",
    "dfRec.info()"
   ]
  },
  {
   "cell_type": "code",
   "execution_count": null,
   "metadata": {
    "colab": {
     "base_uri": "https://localhost:8080/",
     "height": 321
    },
    "id": "HCunfGBW_bHN",
    "outputId": "b2e86339-03b3-42d0-e6ba-81c31da2ec7e"
   },
   "outputs": [],
   "source": [
    "dfRec.describe()"
   ]
  },
  {
   "cell_type": "markdown",
   "metadata": {
    "id": "yHUwXwoD54Wh"
   },
   "source": [
    "### Dataset Splitting and Scaling"
   ]
  },
  {
   "cell_type": "code",
   "execution_count": 6,
   "metadata": {
    "id": "Nlxx5rkP4VwG"
   },
   "outputs": [],
   "source": [
    "from sklearn.model_selection import train_test_split\n",
    "from sklearn.preprocessing import StandardScaler\n",
    "\n",
    "num_feature_columns = [\n",
    "    'AggregatedRating', 'ReviewCount', 'Calories', 'FatContent',\n",
    "    'SaturatedFatContent', 'CholesterolContent', 'SodiumContent',\n",
    "    'CarbohydrateContent', 'FiberContent', 'SugarContent',\n",
    "    'ProteinContent', 'RecipeServings'\n",
    "]\n",
    "\n",
    "train_recipe_data, test_recipe_data = train_test_split(dfRec, test_size=0.2, random_state=42)\n",
    "recipe_scaler = StandardScaler()\n",
    "\n",
    "train_recipe_data[num_feature_columns] = recipe_scaler.fit_transform(train_recipe_data[num_feature_columns])\n",
    "test_recipe_data[num_feature_columns] = recipe_scaler.transform(test_recipe_data[num_feature_columns]) # Use fit from trainig data to prevent data leakage"
   ]
  },
  {
   "cell_type": "markdown",
   "metadata": {
    "id": "R1j6MmcZyZZo"
   },
   "source": [
    "## Review Dataset"
   ]
  },
  {
   "cell_type": "code",
   "execution_count": 7,
   "metadata": {
    "colab": {
     "base_uri": "https://localhost:8080/",
     "height": 591
    },
    "id": "nwIBkqMKybue",
    "outputId": "08cac569-8360-4b74-dcd5-350ec933ba3e"
   },
   "outputs": [
    {
     "name": "stdout",
     "output_type": "stream",
     "text": [
      "<class 'pandas.core.frame.DataFrame'>\n",
      "RangeIndex: 1401982 entries, 0 to 1401981\n",
      "Data columns (total 8 columns):\n",
      " #   Column         Non-Null Count    Dtype \n",
      "---  ------         --------------    ----- \n",
      " 0   ReviewId       1401982 non-null  int64 \n",
      " 1   RecipeId       1401982 non-null  int64 \n",
      " 2   AuthorId       1401982 non-null  int64 \n",
      " 3   AuthorName     1401982 non-null  object\n",
      " 4   Rating         1401982 non-null  int64 \n",
      " 5   Review         1401982 non-null  object\n",
      " 6   DateSubmitted  1401982 non-null  object\n",
      " 7   DateModified   1401982 non-null  object\n",
      "dtypes: int64(4), object(4)\n",
      "memory usage: 85.6+ MB\n"
     ]
    },
    {
     "data": {
      "text/html": [
       "<div>\n",
       "<style scoped>\n",
       "    .dataframe tbody tr th:only-of-type {\n",
       "        vertical-align: middle;\n",
       "    }\n",
       "\n",
       "    .dataframe tbody tr th {\n",
       "        vertical-align: top;\n",
       "    }\n",
       "\n",
       "    .dataframe thead th {\n",
       "        text-align: right;\n",
       "    }\n",
       "</style>\n",
       "<table border=\"1\" class=\"dataframe\">\n",
       "  <thead>\n",
       "    <tr style=\"text-align: right;\">\n",
       "      <th></th>\n",
       "      <th>ReviewId</th>\n",
       "      <th>RecipeId</th>\n",
       "      <th>AuthorId</th>\n",
       "      <th>Rating</th>\n",
       "    </tr>\n",
       "  </thead>\n",
       "  <tbody>\n",
       "    <tr>\n",
       "      <th>count</th>\n",
       "      <td>1.401982e+06</td>\n",
       "      <td>1.401982e+06</td>\n",
       "      <td>1.401982e+06</td>\n",
       "      <td>1.401982e+06</td>\n",
       "    </tr>\n",
       "    <tr>\n",
       "      <th>mean</th>\n",
       "      <td>8.179739e+05</td>\n",
       "      <td>1.526412e+05</td>\n",
       "      <td>1.558638e+08</td>\n",
       "      <td>4.407951e+00</td>\n",
       "    </tr>\n",
       "    <tr>\n",
       "      <th>std</th>\n",
       "      <td>5.280821e+05</td>\n",
       "      <td>1.301112e+05</td>\n",
       "      <td>5.305111e+08</td>\n",
       "      <td>1.272012e+00</td>\n",
       "    </tr>\n",
       "    <tr>\n",
       "      <th>min</th>\n",
       "      <td>2.000000e+00</td>\n",
       "      <td>3.800000e+01</td>\n",
       "      <td>1.533000e+03</td>\n",
       "      <td>0.000000e+00</td>\n",
       "    </tr>\n",
       "    <tr>\n",
       "      <th>25%</th>\n",
       "      <td>3.743862e+05</td>\n",
       "      <td>4.703875e+04</td>\n",
       "      <td>1.336800e+05</td>\n",
       "      <td>4.000000e+00</td>\n",
       "    </tr>\n",
       "    <tr>\n",
       "      <th>50%</th>\n",
       "      <td>7.717805e+05</td>\n",
       "      <td>1.093270e+05</td>\n",
       "      <td>3.305450e+05</td>\n",
       "      <td>5.000000e+00</td>\n",
       "    </tr>\n",
       "    <tr>\n",
       "      <th>75%</th>\n",
       "      <td>1.204126e+06</td>\n",
       "      <td>2.318768e+05</td>\n",
       "      <td>8.183590e+05</td>\n",
       "      <td>5.000000e+00</td>\n",
       "    </tr>\n",
       "    <tr>\n",
       "      <th>max</th>\n",
       "      <td>2.090347e+06</td>\n",
       "      <td>5.412980e+05</td>\n",
       "      <td>2.002902e+09</td>\n",
       "      <td>5.000000e+00</td>\n",
       "    </tr>\n",
       "  </tbody>\n",
       "</table>\n",
       "</div>"
      ],
      "text/plain": [
       "           ReviewId      RecipeId      AuthorId        Rating\n",
       "count  1.401982e+06  1.401982e+06  1.401982e+06  1.401982e+06\n",
       "mean   8.179739e+05  1.526412e+05  1.558638e+08  4.407951e+00\n",
       "std    5.280821e+05  1.301112e+05  5.305111e+08  1.272012e+00\n",
       "min    2.000000e+00  3.800000e+01  1.533000e+03  0.000000e+00\n",
       "25%    3.743862e+05  4.703875e+04  1.336800e+05  4.000000e+00\n",
       "50%    7.717805e+05  1.093270e+05  3.305450e+05  5.000000e+00\n",
       "75%    1.204126e+06  2.318768e+05  8.183590e+05  5.000000e+00\n",
       "max    2.090347e+06  5.412980e+05  2.002902e+09  5.000000e+00"
      ]
     },
     "execution_count": 7,
     "metadata": {},
     "output_type": "execute_result"
    }
   ],
   "source": [
    "dfRev.info()\n",
    "dfRev.describe()"
   ]
  },
  {
   "cell_type": "markdown",
   "metadata": {
    "id": "DUVQFywzY5jI"
   },
   "source": [
    "### Data Cleaning"
   ]
  },
  {
   "cell_type": "code",
   "execution_count": 16,
   "metadata": {
    "colab": {
     "base_uri": "https://localhost:8080/"
    },
    "id": "leAruTSnY7mN",
    "outputId": "91f4c5e0-4336-4cdf-fbbf-497dcba139e8"
   },
   "outputs": [
    {
     "name": "stdout",
     "output_type": "stream",
     "text": [
      "<class 'pandas.core.frame.DataFrame'>\n",
      "RangeIndex: 1401982 entries, 0 to 1401981\n",
      "Data columns (total 7 columns):\n",
      " #   Column        Non-Null Count    Dtype \n",
      "---  ------        --------------    ----- \n",
      " 0   ReviewId      1401982 non-null  int64 \n",
      " 1   RecipeId      1401982 non-null  int64 \n",
      " 2   AuthorId      1401982 non-null  int64 \n",
      " 3   AuthorName    1401982 non-null  object\n",
      " 4   Rating        1401982 non-null  int64 \n",
      " 5   Review        1401982 non-null  object\n",
      " 6   DateModified  1401982 non-null  object\n",
      "dtypes: int64(4), object(3)\n",
      "memory usage: 74.9+ MB\n"
     ]
    }
   ],
   "source": [
    "dfRev['Review'].fillna('', inplace=True) # Put empty description for now\n",
    "dfRev.drop(columns=['DateSubmitted'], inplace=True) # Only keep DateModified\n",
    "dfRev.info()"
   ]
  },
  {
   "cell_type": "code",
   "execution_count": 9,
   "metadata": {
    "colab": {
     "base_uri": "https://localhost:8080/",
     "height": 483
    },
    "id": "uDoW80tBYtjz",
    "outputId": "fd78086b-f0cc-4eab-9b41-0e1fa06994ae"
   },
   "outputs": [
    {
     "data": {
      "text/plain": [
       "<Axes: ylabel='Frequency'>"
      ]
     },
     "execution_count": 9,
     "metadata": {},
     "output_type": "execute_result"
    },
    {
     "data": {
      "image/png": "[encoded data removed]",
      "text/plain": [
       "<Figure size 640x480 with 1 Axes>"
      ]
     },
     "metadata": {},
     "output_type": "display_data"
    }
   ],
   "source": [
    "dfRev['Rating'].plot(kind='hist')"
   ]
  },
  {
   "cell_type": "code",
   "execution_count": 10,
   "metadata": {
    "id": "zy6DoMk_ZLev"
   },
   "outputs": [],
   "source": [
    "train_review_data, test_review_data = train_test_split(dfRev, test_size=0.2, random_state=42)\n",
    "review_scaler = StandardScaler() # tried QuantileTransformer and PowerTransformer but the data is still very skewed\n",
    "\n",
    "\n",
    "train_review_data['Rating'] = review_scaler.fit_transform(train_review_data['Rating'].values.reshape(-1, 1))\n",
    "test_review_data['Rating'] = review_scaler.transform(test_review_data['Rating'].values.reshape(-1, 1)) # Use fit from trainig data to prevent data leakage"
   ]
  },
  {
   "cell_type": "markdown",
   "metadata": {
    "id": "4_IDjzgOq1V3"
   },
   "source": [
    "# User and Recipe Embeddings"
   ]
  },
  {
   "cell_type": "code",
   "execution_count": 11,
   "metadata": {
    "colab": {
     "base_uri": "https://localhost:8080/",
     "height": 297
    },
    "id": "2eOhYZRTev73",
    "outputId": "aa331681-2b23-4a81-9330-7e646c55ff0d"
   },
   "outputs": [
    {
     "data": {
      "application/vnd.jupyter.widget-view+json": {
       "model_id": "ee06904d34274f30a69fba01a624069a",
       "version_major": 2,
       "version_minor": 0
      },
      "text/plain": [
       "Encoding reviews:   0%|          | 0/1122 [00:00<?, ?it/s]"
      ]
     },
     "metadata": {},
     "output_type": "display_data"
    },
    {
     "name": "stdout",
     "output_type": "stream",
     "text": [
      "(1121585, 384)\n"
     ]
    }
   ],
   "source": [
    "from sentence_transformers import SentenceTransformer\n",
    "from tqdm.notebook import tqdm\n",
    "\n",
    "# 1. Load a pretrained Sentence Transformer model\n",
    "model = SentenceTransformer(\"all-MiniLM-L6-v2\")\n",
    "\n",
    "batch_size = 1000\n",
    "reviews = train_review_data['Review'].tolist()\n",
    "\n",
    "all_embeddings = []\n",
    "\n",
    "for i in tqdm(range(0, len(reviews), batch_size), desc=\"Encoding reviews\"):\n",
    "    batch = reviews[i:i+batch_size]\n",
    "    batch_embeddings = model.encode(batch)\n",
    "    all_embeddings.append(batch_embeddings)\n",
    "\n",
    "review_embeddings = np.vstack(all_embeddings)\n",
    "print(review_embeddings.shape)"
   ]
  },
  {
   "cell_type": "code",
   "execution_count": 12,
   "metadata": {
    "colab": {
     "base_uri": "https://localhost:8080/",
     "height": 146
    },
    "id": "SVeHnB7SPvyl",
    "outputId": "b0e3ea5e-7462-4ce2-8215-425ea5a4910b"
   },
   "outputs": [
    {
     "name": "stdout",
     "output_type": "stream",
     "text": [
      "[ 3.78684364e-02  2.16917396e-02 -1.14754308e-02 -4.97727795e-03\n",
      " -4.24552374e-02 -1.06500713e-02 -7.31702521e-02  2.44287285e-03\n",
      "  4.92023770e-03 -3.58772501e-02  5.68518322e-03  1.93594806e-02\n",
      "  6.02437891e-02 -5.78651354e-02 -3.12981382e-02 -2.64686886e-02\n",
      "  4.79288585e-02 -1.07014976e-01 -5.01321927e-02  1.83421094e-02\n",
      " -4.49898876e-02 -3.55539508e-02  4.58991304e-02 -1.28357895e-02\n",
      " -4.70138714e-02 -6.52479306e-02  2.74737664e-02  2.24872623e-02\n",
      " -2.79741623e-02 -9.83463787e-03  1.34782139e-02  3.17507498e-02\n",
      "  6.59011081e-02 -2.07547639e-02  3.44033986e-02 -4.75265598e-03\n",
      " -4.15503280e-03  1.84805579e-02 -3.16265523e-02  1.49884988e-02\n",
      " -1.14750369e-02  5.45996949e-02  6.34672642e-02  1.29321134e-02\n",
      "  2.54576956e-03  3.93404588e-02 -2.97465362e-02  1.12655889e-02\n",
      "  2.09916066e-02  2.00143233e-02  3.91658768e-03 -2.09554210e-02\n",
      "  1.87429935e-02 -6.07767664e-02  2.75233164e-02  7.09867617e-03\n",
      " -1.85914889e-01 -6.16307035e-02 -4.09503765e-02 -5.71611151e-02\n",
      "  3.21405120e-02  6.38788342e-02 -7.62017444e-02 -3.33390795e-02\n",
      "  3.63639854e-02 -3.03133037e-02  2.36161873e-02  6.99952468e-02\n",
      " -3.71571444e-02  4.25003693e-02 -3.04935556e-02  5.09895943e-02\n",
      "  1.43175283e-02  6.57927170e-02 -1.84310527e-04 -1.00278277e-02\n",
      "  5.24656549e-02 -3.72019829e-03 -2.50469912e-02  3.11992802e-02\n",
      " -1.44646361e-01  3.89754470e-03 -1.06341884e-01 -2.14889236e-02\n",
      " -7.18041286e-02  1.36689860e-02 -4.20284532e-02  9.82392281e-02\n",
      "  6.85558841e-02 -8.60738605e-02  8.37159455e-02  2.31993217e-02\n",
      "  1.07293250e-02 -8.25580359e-02 -1.21924123e-02  1.16184009e-02\n",
      " -1.73436552e-02  4.69558984e-02 -1.13816403e-01 -9.61782709e-02\n",
      "  6.06174432e-02  1.95756350e-02  7.24687353e-02 -6.22092076e-02\n",
      "  2.24545244e-02 -6.62912708e-03  2.29853601e-03  1.42739281e-01\n",
      "  2.63252240e-02 -2.94066370e-02  4.72311899e-02  7.46857375e-02\n",
      "  2.96235122e-02 -3.48282307e-02 -9.75093711e-03  3.62246260e-02\n",
      "  1.08595416e-02 -3.55029665e-02 -3.35455164e-02 -3.19077522e-02\n",
      "  3.13996687e-03  4.25539389e-02  5.93673699e-02  6.73642531e-02\n",
      " -5.36594093e-02 -6.94153309e-02 -1.67978499e-02  6.18276554e-34\n",
      " -2.32458431e-02  7.19146430e-02  2.35302094e-02  4.04846184e-02\n",
      "  1.58615001e-02 -9.88446083e-03 -6.75786212e-02 -3.68687622e-02\n",
      " -4.90547493e-02  3.51585336e-02 -4.96932976e-02 -8.36061835e-02\n",
      "  1.05728142e-01 -4.25785035e-02 -6.47233874e-02 -5.20322844e-02\n",
      " -2.28017699e-02 -3.26105505e-02  2.82970201e-02  6.07052296e-02\n",
      " -9.97550935e-02  6.87002763e-02  1.30025521e-01  7.12722018e-02\n",
      " -6.60111904e-02 -3.07307439e-03  8.02648738e-02 -1.11873031e-01\n",
      " -7.96498079e-03 -2.05870438e-02 -1.07054897e-02  6.39887750e-02\n",
      " -4.25516069e-02 -4.50724065e-02 -8.86330009e-02  1.63793638e-02\n",
      " -3.75224575e-02  2.24413187e-03  2.10802462e-02  2.42222026e-02\n",
      "  8.14364627e-02 -4.29211892e-02  5.37074879e-02  3.58312279e-02\n",
      "  3.61264870e-03 -3.92396040e-02 -2.42099687e-02  5.33978939e-02\n",
      "  5.00457585e-02 -5.51267061e-04  2.26578806e-02  1.51450420e-02\n",
      " -1.72713734e-02  1.50270546e-02 -8.04419667e-02  8.87439176e-02\n",
      " -1.13110244e-02 -2.09823921e-02 -5.11886319e-03 -2.78303120e-02\n",
      "  4.74574491e-02 -4.75107767e-02 -5.10211252e-02  2.05885954e-02\n",
      " -9.56431851e-02  5.42716961e-03 -2.10879687e-02  4.38222848e-02\n",
      " -1.10523892e-03  4.45130169e-02 -2.07317509e-02 -8.10070708e-02\n",
      " -2.01213788e-02 -4.93078716e-02 -1.55414129e-02  5.05295657e-02\n",
      " -2.68355757e-02  2.00458430e-02  5.99061809e-02  6.35425672e-02\n",
      "  3.93546596e-02  8.92892107e-02 -7.76975602e-02  2.24837717e-02\n",
      "  7.32722133e-03  1.39887473e-02 -1.24448165e-02 -1.81124117e-02\n",
      "  5.36132157e-02  8.64626169e-02  3.85559211e-03 -7.14460984e-02\n",
      "  2.80502196e-02 -3.06720287e-02  2.08803676e-02 -3.86221085e-33\n",
      "  4.49035056e-02 -1.11550866e-02 -8.91258847e-03 -1.68710537e-02\n",
      "  6.29716814e-02 -8.63648430e-02 -1.02882452e-01 -5.75005189e-02\n",
      " -3.36287320e-02 -1.19177803e-01 -2.31236685e-02 -1.32138254e-02\n",
      " -8.24976638e-02 -1.31903151e-02 -1.13259442e-01  8.88511911e-02\n",
      "  5.20849377e-02  5.21110334e-02 -1.49493606e-03 -4.90172096e-02\n",
      "  3.71810142e-03 -5.64792566e-02  4.08126488e-02 -2.50450168e-02\n",
      " -4.70206514e-02  4.26307842e-02  1.17364131e-01  3.80120464e-02\n",
      "  2.75168307e-02 -7.16483369e-02 -3.32281217e-02 -1.32401325e-02\n",
      "  7.27868602e-02 -1.76284928e-02 -4.69632447e-02  1.15995668e-01\n",
      "  1.75711839e-03 -1.98168475e-02  4.27044630e-02  5.74730569e-03\n",
      " -8.88943486e-03  6.67449757e-02 -5.64124063e-02  3.04293409e-02\n",
      " -5.91548160e-02  4.48015146e-02  2.47816034e-02 -8.27134475e-02\n",
      " -4.43730019e-02  2.02310011e-02  6.89800084e-02 -6.66836724e-02\n",
      " -3.06230783e-03 -4.75421324e-02 -2.01375559e-02 -7.10083917e-02\n",
      "  7.47825727e-02  2.60796882e-02  3.03730704e-02 -3.79338786e-02\n",
      " -1.03020728e-01  9.86166745e-02  4.56716903e-02 -9.33184698e-02\n",
      "  4.68655564e-02 -2.73014568e-02 -7.87270162e-03 -4.49393876e-02\n",
      " -8.46180245e-02  6.61923140e-02 -8.96174386e-02 -9.01462790e-03\n",
      " -3.23681496e-02  4.57362048e-02  7.49610141e-02 -2.84372903e-02\n",
      " -1.80029823e-03 -7.02838600e-02 -2.41357833e-02 -8.98896717e-03\n",
      " -3.22043635e-02 -9.00817588e-02 -2.25959364e-02  5.03213592e-02\n",
      "  1.90984439e-02  3.47858444e-02  7.13649243e-02  4.00406383e-02\n",
      " -6.16688691e-02  3.59767675e-02 -4.53686062e-03  6.48598745e-02\n",
      "  7.28326067e-02  7.70761371e-02  7.21125305e-02 -3.43506343e-08\n",
      "  2.00281292e-02  3.21597084e-02 -9.34616327e-02  4.61382121e-02\n",
      " -1.70161091e-02 -2.64873076e-02  5.50797433e-02 -3.05921212e-02\n",
      " -5.28168529e-02 -2.03408068e-03 -6.23751357e-02  5.60509600e-03\n",
      " -5.70270829e-02 -2.21325923e-02 -2.09828676e-03 -3.98743190e-02\n",
      " -2.07275175e-03  3.80477607e-02 -1.82300508e-02 -5.33436798e-02\n",
      "  4.48150001e-02  6.78314939e-02  4.30088602e-02 -9.21039842e-03\n",
      " -6.54169545e-02 -4.12846096e-02 -4.76735048e-02 -7.20238015e-02\n",
      "  4.51835506e-02  7.84854987e-04  2.84978207e-02  4.74873818e-02\n",
      "  3.16113196e-02  1.03989486e-02 -6.71656244e-03  5.31882979e-02\n",
      "  1.96025781e-02  1.06175113e-02  5.31824231e-02 -2.42781304e-02\n",
      " -5.84248044e-02 -6.26184866e-02 -6.48999661e-02 -2.53766943e-02\n",
      " -4.14380096e-02 -6.20157644e-02  1.33314105e-02  1.00096524e-01\n",
      " -6.36751298e-04  5.95258325e-02  1.67277921e-02  6.85621053e-02\n",
      "  6.57644346e-02 -1.30559634e-02  3.71585647e-03  3.91270258e-02\n",
      "  2.08119825e-02 -4.07156721e-02  9.98170599e-02  1.34489238e-02\n",
      "  2.58861072e-02  1.13010006e-02 -6.45612106e-02 -5.39352233e-03]\n"
     ]
    }
   ],
   "source": [
    "print(review_embeddings[0])"
   ]
  },
  {
   "cell_type": "code",
   "execution_count": 13,
   "metadata": {},
   "outputs": [
    {
     "data": {
      "text/html": [
       "<div>\n",
       "<style scoped>\n",
       "    .dataframe tbody tr th:only-of-type {\n",
       "        vertical-align: middle;\n",
       "    }\n",
       "\n",
       "    .dataframe tbody tr th {\n",
       "        vertical-align: top;\n",
       "    }\n",
       "\n",
       "    .dataframe thead th {\n",
       "        text-align: right;\n",
       "    }\n",
       "</style>\n",
       "<table border=\"1\" class=\"dataframe\">\n",
       "  <thead>\n",
       "    <tr style=\"text-align: right;\">\n",
       "      <th></th>\n",
       "      <th>ReviewId</th>\n",
       "      <th>RecipeId</th>\n",
       "      <th>AuthorId</th>\n",
       "      <th>AuthorName</th>\n",
       "      <th>Rating</th>\n",
       "      <th>Review</th>\n",
       "      <th>DateSubmitted</th>\n",
       "      <th>DateModified</th>\n",
       "    </tr>\n",
       "  </thead>\n",
       "  <tbody>\n",
       "    <tr>\n",
       "      <th>1369526</th>\n",
       "      <td>2055003</td>\n",
       "      <td>107786</td>\n",
       "      <td>2001757945</td>\n",
       "      <td>maureenmiller16</td>\n",
       "      <td>0.465609</td>\n",
       "      <td>My first time making spare ribs for the family...</td>\n",
       "      <td>2018-05-29T03:29:40Z</td>\n",
       "      <td>2018-05-29T03:29:40Z</td>\n",
       "    </tr>\n",
       "    <tr>\n",
       "      <th>145399</th>\n",
       "      <td>155996</td>\n",
       "      <td>13680</td>\n",
       "      <td>88099</td>\n",
       "      <td>Nimz_</td>\n",
       "      <td>-0.320427</td>\n",
       "      <td>My daughter and I really enjoyed this with our...</td>\n",
       "      <td>2005-02-24T18:00:09Z</td>\n",
       "      <td>2005-02-24T18:00:09Z</td>\n",
       "    </tr>\n",
       "    <tr>\n",
       "      <th>498190</th>\n",
       "      <td>540194</td>\n",
       "      <td>2189</td>\n",
       "      <td>685371</td>\n",
       "      <td>Iss4796</td>\n",
       "      <td>0.465609</td>\n",
       "      <td>This recipe is great! It was simple to make an...</td>\n",
       "      <td>2007-12-24T08:34:26Z</td>\n",
       "      <td>2007-12-24T08:34:26Z</td>\n",
       "    </tr>\n",
       "    <tr>\n",
       "      <th>96618</th>\n",
       "      <td>104617</td>\n",
       "      <td>89186</td>\n",
       "      <td>141139</td>\n",
       "      <td>tatumis</td>\n",
       "      <td>0.465609</td>\n",
       "      <td>Uber-yummy.  thanks so much for passing the re...</td>\n",
       "      <td>2004-05-24T23:31:56Z</td>\n",
       "      <td>2004-05-24T23:31:56Z</td>\n",
       "    </tr>\n",
       "    <tr>\n",
       "      <th>1199756</th>\n",
       "      <td>1377986</td>\n",
       "      <td>497871</td>\n",
       "      <td>178427</td>\n",
       "      <td>CJAY8248</td>\n",
       "      <td>0.465609</td>\n",
       "      <td>Terrific! This is one sauce I will be making o...</td>\n",
       "      <td>2013-04-03T20:58:09Z</td>\n",
       "      <td>2013-04-03T20:58:09Z</td>\n",
       "    </tr>\n",
       "  </tbody>\n",
       "</table>\n",
       "</div>"
      ],
      "text/plain": [
       "         ReviewId  RecipeId    AuthorId       AuthorName    Rating  \\\n",
       "1369526   2055003    107786  2001757945  maureenmiller16  0.465609   \n",
       "145399     155996     13680       88099            Nimz_ -0.320427   \n",
       "498190     540194      2189      685371          Iss4796  0.465609   \n",
       "96618      104617     89186      141139          tatumis  0.465609   \n",
       "1199756   1377986    497871      178427         CJAY8248  0.465609   \n",
       "\n",
       "                                                    Review  \\\n",
       "1369526  My first time making spare ribs for the family...   \n",
       "145399   My daughter and I really enjoyed this with our...   \n",
       "498190   This recipe is great! It was simple to make an...   \n",
       "96618    Uber-yummy.  thanks so much for passing the re...   \n",
       "1199756  Terrific! This is one sauce I will be making o...   \n",
       "\n",
       "                DateSubmitted          DateModified  \n",
       "1369526  2018-05-29T03:29:40Z  2018-05-29T03:29:40Z  \n",
       "145399   2005-02-24T18:00:09Z  2005-02-24T18:00:09Z  \n",
       "498190   2007-12-24T08:34:26Z  2007-12-24T08:34:26Z  \n",
       "96618    2004-05-24T23:31:56Z  2004-05-24T23:31:56Z  \n",
       "1199756  2013-04-03T20:58:09Z  2013-04-03T20:58:09Z  "
      ]
     },
     "execution_count": 13,
     "metadata": {},
     "output_type": "execute_result"
    }
   ],
   "source": [
    "train_review_data.head()"
   ]
  },
  {
   "cell_type": "code",
   "execution_count": 19,
   "metadata": {},
   "outputs": [
    {
     "data": {
      "text/html": [
       "<div>\n",
       "<style scoped>\n",
       "    .dataframe tbody tr th:only-of-type {\n",
       "        vertical-align: middle;\n",
       "    }\n",
       "\n",
       "    .dataframe tbody tr th {\n",
       "        vertical-align: top;\n",
       "    }\n",
       "\n",
       "    .dataframe thead th {\n",
       "        text-align: right;\n",
       "    }\n",
       "</style>\n",
       "<table border=\"1\" class=\"dataframe\">\n",
       "  <thead>\n",
       "    <tr style=\"text-align: right;\">\n",
       "      <th></th>\n",
       "      <th>ReviewId</th>\n",
       "      <th>RecipeId</th>\n",
       "      <th>AuthorId</th>\n",
       "      <th>AuthorName</th>\n",
       "      <th>Rating</th>\n",
       "      <th>Review</th>\n",
       "      <th>DateSubmitted</th>\n",
       "      <th>DateModified</th>\n",
       "    </tr>\n",
       "  </thead>\n",
       "  <tbody>\n",
       "    <tr>\n",
       "      <th>1369526</th>\n",
       "      <td>2055003</td>\n",
       "      <td>107786</td>\n",
       "      <td>2001757945</td>\n",
       "      <td>maureenmiller16</td>\n",
       "      <td>0.465609</td>\n",
       "      <td>[0.037868436, 0.02169174, -0.011475431, -0.004...</td>\n",
       "      <td>2018-05-29T03:29:40Z</td>\n",
       "      <td>2018-05-29T03:29:40Z</td>\n",
       "    </tr>\n",
       "    <tr>\n",
       "      <th>145399</th>\n",
       "      <td>155996</td>\n",
       "      <td>13680</td>\n",
       "      <td>88099</td>\n",
       "      <td>Nimz_</td>\n",
       "      <td>-0.320427</td>\n",
       "      <td>[-0.018034594, -0.02860534, -0.032772142, 0.04...</td>\n",
       "      <td>2005-02-24T18:00:09Z</td>\n",
       "      <td>2005-02-24T18:00:09Z</td>\n",
       "    </tr>\n",
       "    <tr>\n",
       "      <th>498190</th>\n",
       "      <td>540194</td>\n",
       "      <td>2189</td>\n",
       "      <td>685371</td>\n",
       "      <td>Iss4796</td>\n",
       "      <td>0.465609</td>\n",
       "      <td>[-0.06688794, -0.06380604, -0.007883271, 0.010...</td>\n",
       "      <td>2007-12-24T08:34:26Z</td>\n",
       "      <td>2007-12-24T08:34:26Z</td>\n",
       "    </tr>\n",
       "    <tr>\n",
       "      <th>96618</th>\n",
       "      <td>104617</td>\n",
       "      <td>89186</td>\n",
       "      <td>141139</td>\n",
       "      <td>tatumis</td>\n",
       "      <td>0.465609</td>\n",
       "      <td>[-0.03430109, -0.012518336, 0.022372436, -0.02...</td>\n",
       "      <td>2004-05-24T23:31:56Z</td>\n",
       "      <td>2004-05-24T23:31:56Z</td>\n",
       "    </tr>\n",
       "    <tr>\n",
       "      <th>1199756</th>\n",
       "      <td>1377986</td>\n",
       "      <td>497871</td>\n",
       "      <td>178427</td>\n",
       "      <td>CJAY8248</td>\n",
       "      <td>0.465609</td>\n",
       "      <td>[-0.10111904, -0.088520795, -0.02396931, 0.020...</td>\n",
       "      <td>2013-04-03T20:58:09Z</td>\n",
       "      <td>2013-04-03T20:58:09Z</td>\n",
       "    </tr>\n",
       "  </tbody>\n",
       "</table>\n",
       "</div>"
      ],
      "text/plain": [
       "         ReviewId  RecipeId    AuthorId       AuthorName    Rating  \\\n",
       "1369526   2055003    107786  2001757945  maureenmiller16  0.465609   \n",
       "145399     155996     13680       88099            Nimz_ -0.320427   \n",
       "498190     540194      2189      685371          Iss4796  0.465609   \n",
       "96618      104617     89186      141139          tatumis  0.465609   \n",
       "1199756   1377986    497871      178427         CJAY8248  0.465609   \n",
       "\n",
       "                                                    Review  \\\n",
       "1369526  [0.037868436, 0.02169174, -0.011475431, -0.004...   \n",
       "145399   [-0.018034594, -0.02860534, -0.032772142, 0.04...   \n",
       "498190   [-0.06688794, -0.06380604, -0.007883271, 0.010...   \n",
       "96618    [-0.03430109, -0.012518336, 0.022372436, -0.02...   \n",
       "1199756  [-0.10111904, -0.088520795, -0.02396931, 0.020...   \n",
       "\n",
       "                DateSubmitted          DateModified  \n",
       "1369526  2018-05-29T03:29:40Z  2018-05-29T03:29:40Z  \n",
       "145399   2005-02-24T18:00:09Z  2005-02-24T18:00:09Z  \n",
       "498190   2007-12-24T08:34:26Z  2007-12-24T08:34:26Z  \n",
       "96618    2004-05-24T23:31:56Z  2004-05-24T23:31:56Z  \n",
       "1199756  2013-04-03T20:58:09Z  2013-04-03T20:58:09Z  "
      ]
     },
     "execution_count": 19,
     "metadata": {},
     "output_type": "execute_result"
    }
   ],
   "source": [
    "train_review_data['Review'] = list(review_embeddings)\n",
    "train_review_data.head()"
   ]
  },
  {
   "cell_type": "code",
   "execution_count": 22,
   "metadata": {},
   "outputs": [],
   "source": [
    "train_review_data.drop(columns=['DateSubmitted'], inplace=True)"
   ]
  },
  {
   "cell_type": "code",
   "execution_count": 23,
   "metadata": {},
   "outputs": [
    {
     "data": {
      "text/html": [
       "<div>\n",
       "<style scoped>\n",
       "    .dataframe tbody tr th:only-of-type {\n",
       "        vertical-align: middle;\n",
       "    }\n",
       "\n",
       "    .dataframe tbody tr th {\n",
       "        vertical-align: top;\n",
       "    }\n",
       "\n",
       "    .dataframe thead th {\n",
       "        text-align: right;\n",
       "    }\n",
       "</style>\n",
       "<table border=\"1\" class=\"dataframe\">\n",
       "  <thead>\n",
       "    <tr style=\"text-align: right;\">\n",
       "      <th></th>\n",
       "      <th>ReviewId</th>\n",
       "      <th>RecipeId</th>\n",
       "      <th>AuthorId</th>\n",
       "      <th>AuthorName</th>\n",
       "      <th>Rating</th>\n",
       "      <th>Review</th>\n",
       "      <th>DateModified</th>\n",
       "    </tr>\n",
       "  </thead>\n",
       "  <tbody>\n",
       "    <tr>\n",
       "      <th>1369526</th>\n",
       "      <td>2055003</td>\n",
       "      <td>107786</td>\n",
       "      <td>2001757945</td>\n",
       "      <td>maureenmiller16</td>\n",
       "      <td>0.465609</td>\n",
       "      <td>[0.037868436, 0.02169174, -0.011475431, -0.004...</td>\n",
       "      <td>2018-05-29T03:29:40Z</td>\n",
       "    </tr>\n",
       "    <tr>\n",
       "      <th>145399</th>\n",
       "      <td>155996</td>\n",
       "      <td>13680</td>\n",
       "      <td>88099</td>\n",
       "      <td>Nimz_</td>\n",
       "      <td>-0.320427</td>\n",
       "      <td>[-0.018034594, -0.02860534, -0.032772142, 0.04...</td>\n",
       "      <td>2005-02-24T18:00:09Z</td>\n",
       "    </tr>\n",
       "    <tr>\n",
       "      <th>498190</th>\n",
       "      <td>540194</td>\n",
       "      <td>2189</td>\n",
       "      <td>685371</td>\n",
       "      <td>Iss4796</td>\n",
       "      <td>0.465609</td>\n",
       "      <td>[-0.06688794, -0.06380604, -0.007883271, 0.010...</td>\n",
       "      <td>2007-12-24T08:34:26Z</td>\n",
       "    </tr>\n",
       "    <tr>\n",
       "      <th>96618</th>\n",
       "      <td>104617</td>\n",
       "      <td>89186</td>\n",
       "      <td>141139</td>\n",
       "      <td>tatumis</td>\n",
       "      <td>0.465609</td>\n",
       "      <td>[-0.03430109, -0.012518336, 0.022372436, -0.02...</td>\n",
       "      <td>2004-05-24T23:31:56Z</td>\n",
       "    </tr>\n",
       "    <tr>\n",
       "      <th>1199756</th>\n",
       "      <td>1377986</td>\n",
       "      <td>497871</td>\n",
       "      <td>178427</td>\n",
       "      <td>CJAY8248</td>\n",
       "      <td>0.465609</td>\n",
       "      <td>[-0.10111904, -0.088520795, -0.02396931, 0.020...</td>\n",
       "      <td>2013-04-03T20:58:09Z</td>\n",
       "    </tr>\n",
       "  </tbody>\n",
       "</table>\n",
       "</div>"
      ],
      "text/plain": [
       "         ReviewId  RecipeId    AuthorId       AuthorName    Rating  \\\n",
       "1369526   2055003    107786  2001757945  maureenmiller16  0.465609   \n",
       "145399     155996     13680       88099            Nimz_ -0.320427   \n",
       "498190     540194      2189      685371          Iss4796  0.465609   \n",
       "96618      104617     89186      141139          tatumis  0.465609   \n",
       "1199756   1377986    497871      178427         CJAY8248  0.465609   \n",
       "\n",
       "                                                    Review  \\\n",
       "1369526  [0.037868436, 0.02169174, -0.011475431, -0.004...   \n",
       "145399   [-0.018034594, -0.02860534, -0.032772142, 0.04...   \n",
       "498190   [-0.06688794, -0.06380604, -0.007883271, 0.010...   \n",
       "96618    [-0.03430109, -0.012518336, 0.022372436, -0.02...   \n",
       "1199756  [-0.10111904, -0.088520795, -0.02396931, 0.020...   \n",
       "\n",
       "                 DateModified  \n",
       "1369526  2018-05-29T03:29:40Z  \n",
       "145399   2005-02-24T18:00:09Z  \n",
       "498190   2007-12-24T08:34:26Z  \n",
       "96618    2004-05-24T23:31:56Z  \n",
       "1199756  2013-04-03T20:58:09Z  "
      ]
     },
     "execution_count": 23,
     "metadata": {},
     "output_type": "execute_result"
    }
   ],
   "source": [
    "train_review_data.head()"
   ]
  },
  {
   "cell_type": "code",
   "execution_count": 24,
   "metadata": {},
   "outputs": [
    {
     "ename": "KeyboardInterrupt",
     "evalue": "",
     "output_type": "error",
     "traceback": [
      "\u001b[1;31m---------------------------------------------------------------------------\u001b[0m",
      "\u001b[1;31mKeyboardInterrupt\u001b[0m                         Traceback (most recent call last)",
      "Cell \u001b[1;32mIn[24], line 1\u001b[0m\n\u001b[1;32m----> 1\u001b[0m \u001b[43mtrain_review_data\u001b[49m\u001b[38;5;241;43m.\u001b[39;49m\u001b[43mto_csv\u001b[49m\u001b[43m(\u001b[49m\u001b[38;5;124;43m'\u001b[39;49m\u001b[38;5;124;43mtrain_review_data_with_embeddings.csv\u001b[39;49m\u001b[38;5;124;43m'\u001b[39;49m\u001b[43m,\u001b[49m\u001b[43m \u001b[49m\u001b[43mindex\u001b[49m\u001b[38;5;241;43m=\u001b[39;49m\u001b[38;5;28;43;01mFalse\u001b[39;49;00m\u001b[43m)\u001b[49m\n",
      "File \u001b[1;32md:\\Code\\Python\\two-tower-recipe-recommender-system\\.venv\\Lib\\site-packages\\pandas\\core\\generic.py:3902\u001b[0m, in \u001b[0;36mNDFrame.to_csv\u001b[1;34m(self, path_or_buf, sep, na_rep, float_format, columns, header, index, index_label, mode, encoding, compression, quoting, quotechar, lineterminator, chunksize, date_format, doublequote, escapechar, decimal, errors, storage_options)\u001b[0m\n\u001b[0;32m   3891\u001b[0m df \u001b[38;5;241m=\u001b[39m \u001b[38;5;28mself\u001b[39m \u001b[38;5;28;01mif\u001b[39;00m \u001b[38;5;28misinstance\u001b[39m(\u001b[38;5;28mself\u001b[39m, ABCDataFrame) \u001b[38;5;28;01melse\u001b[39;00m \u001b[38;5;28mself\u001b[39m\u001b[38;5;241m.\u001b[39mto_frame()\n\u001b[0;32m   3893\u001b[0m formatter \u001b[38;5;241m=\u001b[39m DataFrameFormatter(\n\u001b[0;32m   3894\u001b[0m     frame\u001b[38;5;241m=\u001b[39mdf,\n\u001b[0;32m   3895\u001b[0m     header\u001b[38;5;241m=\u001b[39mheader,\n\u001b[1;32m   (...)\u001b[0m\n\u001b[0;32m   3899\u001b[0m     decimal\u001b[38;5;241m=\u001b[39mdecimal,\n\u001b[0;32m   3900\u001b[0m )\n\u001b[1;32m-> 3902\u001b[0m \u001b[38;5;28;01mreturn\u001b[39;00m \u001b[43mDataFrameRenderer\u001b[49m\u001b[43m(\u001b[49m\u001b[43mformatter\u001b[49m\u001b[43m)\u001b[49m\u001b[38;5;241;43m.\u001b[39;49m\u001b[43mto_csv\u001b[49m\u001b[43m(\u001b[49m\n\u001b[0;32m   3903\u001b[0m \u001b[43m    \u001b[49m\u001b[43mpath_or_buf\u001b[49m\u001b[43m,\u001b[49m\n\u001b[0;32m   3904\u001b[0m \u001b[43m    \u001b[49m\u001b[43mlineterminator\u001b[49m\u001b[38;5;241;43m=\u001b[39;49m\u001b[43mlineterminator\u001b[49m\u001b[43m,\u001b[49m\n\u001b[0;32m   3905\u001b[0m \u001b[43m    \u001b[49m\u001b[43msep\u001b[49m\u001b[38;5;241;43m=\u001b[39;49m\u001b[43msep\u001b[49m\u001b[43m,\u001b[49m\n\u001b[0;32m   3906\u001b[0m \u001b[43m    \u001b[49m\u001b[43mencoding\u001b[49m\u001b[38;5;241;43m=\u001b[39;49m\u001b[43mencoding\u001b[49m\u001b[43m,\u001b[49m\n\u001b[0;32m   3907\u001b[0m \u001b[43m    \u001b[49m\u001b[43merrors\u001b[49m\u001b[38;5;241;43m=\u001b[39;49m\u001b[43merrors\u001b[49m\u001b[43m,\u001b[49m\n\u001b[0;32m   3908\u001b[0m \u001b[43m    \u001b[49m\u001b[43mcompression\u001b[49m\u001b[38;5;241;43m=\u001b[39;49m\u001b[43mcompression\u001b[49m\u001b[43m,\u001b[49m\n\u001b[0;32m   3909\u001b[0m \u001b[43m    \u001b[49m\u001b[43mquoting\u001b[49m\u001b[38;5;241;43m=\u001b[39;49m\u001b[43mquoting\u001b[49m\u001b[43m,\u001b[49m\n\u001b[0;32m   3910\u001b[0m \u001b[43m    \u001b[49m\u001b[43mcolumns\u001b[49m\u001b[38;5;241;43m=\u001b[39;49m\u001b[43mcolumns\u001b[49m\u001b[43m,\u001b[49m\n\u001b[0;32m   3911\u001b[0m \u001b[43m    \u001b[49m\u001b[43mindex_label\u001b[49m\u001b[38;5;241;43m=\u001b[39;49m\u001b[43mindex_label\u001b[49m\u001b[43m,\u001b[49m\n\u001b[0;32m   3912\u001b[0m \u001b[43m    \u001b[49m\u001b[43mmode\u001b[49m\u001b[38;5;241;43m=\u001b[39;49m\u001b[43mmode\u001b[49m\u001b[43m,\u001b[49m\n\u001b[0;32m   3913\u001b[0m \u001b[43m    \u001b[49m\u001b[43mchunksize\u001b[49m\u001b[38;5;241;43m=\u001b[39;49m\u001b[43mchunksize\u001b[49m\u001b[43m,\u001b[49m\n\u001b[0;32m   3914\u001b[0m \u001b[43m    \u001b[49m\u001b[43mquotechar\u001b[49m\u001b[38;5;241;43m=\u001b[39;49m\u001b[43mquotechar\u001b[49m\u001b[43m,\u001b[49m\n\u001b[0;32m   3915\u001b[0m \u001b[43m    \u001b[49m\u001b[43mdate_format\u001b[49m\u001b[38;5;241;43m=\u001b[39;49m\u001b[43mdate_format\u001b[49m\u001b[43m,\u001b[49m\n\u001b[0;32m   3916\u001b[0m \u001b[43m    \u001b[49m\u001b[43mdoublequote\u001b[49m\u001b[38;5;241;43m=\u001b[39;49m\u001b[43mdoublequote\u001b[49m\u001b[43m,\u001b[49m\n\u001b[0;32m   3917\u001b[0m \u001b[43m    \u001b[49m\u001b[43mescapechar\u001b[49m\u001b[38;5;241;43m=\u001b[39;49m\u001b[43mescapechar\u001b[49m\u001b[43m,\u001b[49m\n\u001b[0;32m   3918\u001b[0m \u001b[43m    \u001b[49m\u001b[43mstorage_options\u001b[49m\u001b[38;5;241;43m=\u001b[39;49m\u001b[43mstorage_options\u001b[49m\u001b[43m,\u001b[49m\n\u001b[0;32m   3919\u001b[0m \u001b[43m\u001b[49m\u001b[43m)\u001b[49m\n",
      "File \u001b[1;32md:\\Code\\Python\\two-tower-recipe-recommender-system\\.venv\\Lib\\site-packages\\pandas\\io\\formats\\format.py:1152\u001b[0m, in \u001b[0;36mDataFrameRenderer.to_csv\u001b[1;34m(self, path_or_buf, encoding, sep, columns, index_label, mode, compression, quoting, quotechar, lineterminator, chunksize, date_format, doublequote, escapechar, errors, storage_options)\u001b[0m\n\u001b[0;32m   1131\u001b[0m     created_buffer \u001b[38;5;241m=\u001b[39m \u001b[38;5;28;01mFalse\u001b[39;00m\n\u001b[0;32m   1133\u001b[0m csv_formatter \u001b[38;5;241m=\u001b[39m CSVFormatter(\n\u001b[0;32m   1134\u001b[0m     path_or_buf\u001b[38;5;241m=\u001b[39mpath_or_buf,\n\u001b[0;32m   1135\u001b[0m     lineterminator\u001b[38;5;241m=\u001b[39mlineterminator,\n\u001b[1;32m   (...)\u001b[0m\n\u001b[0;32m   1150\u001b[0m     formatter\u001b[38;5;241m=\u001b[39m\u001b[38;5;28mself\u001b[39m\u001b[38;5;241m.\u001b[39mfmt,\n\u001b[0;32m   1151\u001b[0m )\n\u001b[1;32m-> 1152\u001b[0m \u001b[43mcsv_formatter\u001b[49m\u001b[38;5;241;43m.\u001b[39;49m\u001b[43msave\u001b[49m\u001b[43m(\u001b[49m\u001b[43m)\u001b[49m\n\u001b[0;32m   1154\u001b[0m \u001b[38;5;28;01mif\u001b[39;00m created_buffer:\n\u001b[0;32m   1155\u001b[0m     \u001b[38;5;28;01massert\u001b[39;00m \u001b[38;5;28misinstance\u001b[39m(path_or_buf, StringIO)\n",
      "File \u001b[1;32md:\\Code\\Python\\two-tower-recipe-recommender-system\\.venv\\Lib\\site-packages\\pandas\\io\\formats\\csvs.py:266\u001b[0m, in \u001b[0;36mCSVFormatter.save\u001b[1;34m(self)\u001b[0m\n\u001b[0;32m    247\u001b[0m \u001b[38;5;28;01mwith\u001b[39;00m get_handle(\n\u001b[0;32m    248\u001b[0m     \u001b[38;5;28mself\u001b[39m\u001b[38;5;241m.\u001b[39mfilepath_or_buffer,\n\u001b[0;32m    249\u001b[0m     \u001b[38;5;28mself\u001b[39m\u001b[38;5;241m.\u001b[39mmode,\n\u001b[1;32m   (...)\u001b[0m\n\u001b[0;32m    254\u001b[0m ) \u001b[38;5;28;01mas\u001b[39;00m handles:\n\u001b[0;32m    255\u001b[0m     \u001b[38;5;66;03m# Note: self.encoding is irrelevant here\u001b[39;00m\n\u001b[0;32m    256\u001b[0m     \u001b[38;5;28mself\u001b[39m\u001b[38;5;241m.\u001b[39mwriter \u001b[38;5;241m=\u001b[39m csvlib\u001b[38;5;241m.\u001b[39mwriter(\n\u001b[0;32m    257\u001b[0m         handles\u001b[38;5;241m.\u001b[39mhandle,\n\u001b[0;32m    258\u001b[0m         lineterminator\u001b[38;5;241m=\u001b[39m\u001b[38;5;28mself\u001b[39m\u001b[38;5;241m.\u001b[39mlineterminator,\n\u001b[1;32m   (...)\u001b[0m\n\u001b[0;32m    263\u001b[0m         quotechar\u001b[38;5;241m=\u001b[39m\u001b[38;5;28mself\u001b[39m\u001b[38;5;241m.\u001b[39mquotechar,\n\u001b[0;32m    264\u001b[0m     )\n\u001b[1;32m--> 266\u001b[0m     \u001b[38;5;28;43mself\u001b[39;49m\u001b[38;5;241;43m.\u001b[39;49m\u001b[43m_save\u001b[49m\u001b[43m(\u001b[49m\u001b[43m)\u001b[49m\n",
      "File \u001b[1;32md:\\Code\\Python\\two-tower-recipe-recommender-system\\.venv\\Lib\\site-packages\\pandas\\io\\formats\\csvs.py:271\u001b[0m, in \u001b[0;36mCSVFormatter._save\u001b[1;34m(self)\u001b[0m\n\u001b[0;32m    269\u001b[0m \u001b[38;5;28;01mif\u001b[39;00m \u001b[38;5;28mself\u001b[39m\u001b[38;5;241m.\u001b[39m_need_to_save_header:\n\u001b[0;32m    270\u001b[0m     \u001b[38;5;28mself\u001b[39m\u001b[38;5;241m.\u001b[39m_save_header()\n\u001b[1;32m--> 271\u001b[0m \u001b[38;5;28;43mself\u001b[39;49m\u001b[38;5;241;43m.\u001b[39;49m\u001b[43m_save_body\u001b[49m\u001b[43m(\u001b[49m\u001b[43m)\u001b[49m\n",
      "File \u001b[1;32md:\\Code\\Python\\two-tower-recipe-recommender-system\\.venv\\Lib\\site-packages\\pandas\\io\\formats\\csvs.py:309\u001b[0m, in \u001b[0;36mCSVFormatter._save_body\u001b[1;34m(self)\u001b[0m\n\u001b[0;32m    307\u001b[0m \u001b[38;5;28;01mif\u001b[39;00m start_i \u001b[38;5;241m>\u001b[39m\u001b[38;5;241m=\u001b[39m end_i:\n\u001b[0;32m    308\u001b[0m     \u001b[38;5;28;01mbreak\u001b[39;00m\n\u001b[1;32m--> 309\u001b[0m \u001b[38;5;28;43mself\u001b[39;49m\u001b[38;5;241;43m.\u001b[39;49m\u001b[43m_save_chunk\u001b[49m\u001b[43m(\u001b[49m\u001b[43mstart_i\u001b[49m\u001b[43m,\u001b[49m\u001b[43m \u001b[49m\u001b[43mend_i\u001b[49m\u001b[43m)\u001b[49m\n",
      "File \u001b[1;32md:\\Code\\Python\\two-tower-recipe-recommender-system\\.venv\\Lib\\site-packages\\pandas\\io\\formats\\csvs.py:320\u001b[0m, in \u001b[0;36mCSVFormatter._save_chunk\u001b[1;34m(self, start_i, end_i)\u001b[0m\n\u001b[0;32m    317\u001b[0m data \u001b[38;5;241m=\u001b[39m [res\u001b[38;5;241m.\u001b[39miget_values(i) \u001b[38;5;28;01mfor\u001b[39;00m i \u001b[38;5;129;01min\u001b[39;00m \u001b[38;5;28mrange\u001b[39m(\u001b[38;5;28mlen\u001b[39m(res\u001b[38;5;241m.\u001b[39mitems))]\n\u001b[0;32m    319\u001b[0m ix \u001b[38;5;241m=\u001b[39m \u001b[38;5;28mself\u001b[39m\u001b[38;5;241m.\u001b[39mdata_index[slicer]\u001b[38;5;241m.\u001b[39m_format_native_types(\u001b[38;5;241m*\u001b[39m\u001b[38;5;241m*\u001b[39m\u001b[38;5;28mself\u001b[39m\u001b[38;5;241m.\u001b[39m_number_format)\n\u001b[1;32m--> 320\u001b[0m \u001b[43mlibwriters\u001b[49m\u001b[38;5;241;43m.\u001b[39;49m\u001b[43mwrite_csv_rows\u001b[49m\u001b[43m(\u001b[49m\n\u001b[0;32m    321\u001b[0m \u001b[43m    \u001b[49m\u001b[43mdata\u001b[49m\u001b[43m,\u001b[49m\n\u001b[0;32m    322\u001b[0m \u001b[43m    \u001b[49m\u001b[43mix\u001b[49m\u001b[43m,\u001b[49m\n\u001b[0;32m    323\u001b[0m \u001b[43m    \u001b[49m\u001b[38;5;28;43mself\u001b[39;49m\u001b[38;5;241;43m.\u001b[39;49m\u001b[43mnlevels\u001b[49m\u001b[43m,\u001b[49m\n\u001b[0;32m    324\u001b[0m \u001b[43m    \u001b[49m\u001b[38;5;28;43mself\u001b[39;49m\u001b[38;5;241;43m.\u001b[39;49m\u001b[43mcols\u001b[49m\u001b[43m,\u001b[49m\n\u001b[0;32m    325\u001b[0m \u001b[43m    \u001b[49m\u001b[38;5;28;43mself\u001b[39;49m\u001b[38;5;241;43m.\u001b[39;49m\u001b[43mwriter\u001b[49m\u001b[43m,\u001b[49m\n\u001b[0;32m    326\u001b[0m \u001b[43m\u001b[49m\u001b[43m)\u001b[49m\n",
      "File \u001b[1;32mwriters.pyx:72\u001b[0m, in \u001b[0;36mpandas._libs.writers.write_csv_rows\u001b[1;34m()\u001b[0m\n",
      "\u001b[1;31mKeyboardInterrupt\u001b[0m: "
     ]
    }
   ],
   "source": [
    "train_review_data.to_csv('train_review_data_with_embeddings.csv', index=False)"
   ]
  },
  {
   "cell_type": "code",
   "execution_count": 25,
   "metadata": {},
   "outputs": [
    {
     "name": "stdout",
     "output_type": "stream",
     "text": [
      "2024-12-04 02:18:36,335 INFO: Initializing external client\n",
      "2024-12-04 02:18:36,336 INFO: Base URL: https://c.app.hopsworks.ai:443\n",
      "2024-12-04 02:18:45,104 INFO: Python Engine initialized.\n",
      "\n",
      "Logged in to project, explore it here https://c.app.hopsworks.ai:443/p/1193139\n"
     ]
    }
   ],
   "source": [
    "import hopsworks\n",
    "\n",
    "project = hopsworks.login()\n",
    "\n",
    "fs = project.get_feature_store()"
   ]
  },
  {
   "cell_type": "code",
   "execution_count": 34,
   "metadata": {},
   "outputs": [],
   "source": [
    "# Get or create the 'Reviews' feature group\n",
    "reviews_fg = fs.get_or_create_feature_group(\n",
    "    name=\"reviews\",\n",
    "    version=1,\n",
    "    description=\"Reviews for recipe recommender system.\",\n",
    "    primary_key=['reviewid']\n",
    ")"
   ]
  },
  {
   "cell_type": "code",
   "execution_count": 37,
   "metadata": {},
   "outputs": [
    {
     "name": "stdout",
     "output_type": "stream",
     "text": [
      "(1121585, 7)\n"
     ]
    }
   ],
   "source": [
    "print(train_review_data.shape)"
   ]
  },
  {
   "cell_type": "code",
   "execution_count": 35,
   "metadata": {},
   "outputs": [
    {
     "name": "stdout",
     "output_type": "stream",
     "text": [
      "Feature Group created successfully, explore it at \n",
      "https://c.app.hopsworks.ai:443/p/1193139/fs/1181782/fg/1378790\n"
     ]
    },
    {
     "name": "stderr",
     "output_type": "stream",
     "text": [
      "Uploading Dataframe: 100.00% |██████████| Rows 1121585/1121585 | Elapsed Time: 13:18 | Remaining Time: 00:00\n"
     ]
    },
    {
     "name": "stdout",
     "output_type": "stream",
     "text": [
      "Launching job: reviews_1_offline_fg_materialization\n",
      "Job started successfully, you can follow the progress at \n",
      "https://c.app.hopsworks.ai:443/p/1193139/jobs/named/reviews_1_offline_fg_materialization/executions\n"
     ]
    },
    {
     "data": {
      "text/plain": [
       "(Job('reviews_1_offline_fg_materialization', 'SPARK'), None)"
      ]
     },
     "execution_count": 35,
     "metadata": {},
     "output_type": "execute_result"
    }
   ],
   "source": [
    "# Insert data into feature group\n",
    "reviews_fg.insert(train_review_data)"
   ]
  },
  {
   "cell_type": "code",
   "execution_count": 36,
   "metadata": {},
   "outputs": [],
   "source": [
    "feature_descriptions = [\n",
    "    {\"name\": \"reviewid\", \"description\": \"Unique identifier for each review\"},\n",
    "    {\"name\": \"recipeid\", \"description\": \"Identifier for the recipe being reviewed\"},\n",
    "    {\"name\": \"authorid\", \"description\": \"Identifier for the author of the review\"},\n",
    "    {\"name\": \"authorname\", \"description\": \"Name of the author of the review\"},\n",
    "    {\"name\": \"rating\", \"description\": \"Rating given by the author to the recipe (usually 1-5)\"},\n",
    "    {\"name\": \"review\", \"description\": \"Numerical representation of the review text (embedding vector from SentenceTransformer)\"},\n",
    "    {\"name\": \"datemodified\", \"description\": \"The date when the review was last modified\"}\n",
    "]\n",
    "\n",
    "for desc in feature_descriptions: \n",
    "    reviews_fg.update_feature_description(desc[\"name\"], desc[\"description\"])"
   ]
  },
  {
   "cell_type": "markdown",
   "metadata": {
    "id": "vkwbrdeyqmyd"
   },
   "source": [
    "# Model Implementation"
   ]
  },
  {
   "cell_type": "code",
   "execution_count": null,
   "metadata": {
    "id": "6gbdLdgjcmbx"
   },
   "outputs": [],
   "source": [
    "import torch\n",
    "import torch.nn as nn\n",
    "import torch.nn.functional as F\n",
    "\n",
    "class TwoTowerRecommendationSystem(nn.Module):\n",
    "    def __init__(self,\n",
    "                 recipe_vocab_sizes, review_vocab_sizes,\n",
    "                 embedding_dim, numerical_dims):\n",
    "        super(TwoTowerRecommendationSystem, self).__init__()\n",
    "\n",
    "        # Embeddings for Recipe Tower\n",
    "        self.recipe_embeddings = nn.ModuleDict({\n",
    "            key: nn.Embedding(vocab_size, embedding_dim)\n",
    "            for key, vocab_size in recipe_vocab_sizes.items()\n",
    "        })\n",
    "\n",
    "        # Embeddings for Review Tower\n",
    "        self.review_embeddings = nn.ModuleDict({\n",
    "            key: nn.Embedding(vocab_size, embedding_dim)\n",
    "            for key, vocab_size in review_vocab_sizes.items()\n",
    "        })\n",
    "\n",
    "        # Recipe Tower Network\n",
    "        recipe_input_dim = len(recipe_vocab_sizes) * embedding_dim + numerical_dims['recipe']\n",
    "        self.recipe_fc = nn.Sequential(\n",
    "            nn.Linear(recipe_input_dim, 128),\n",
    "            nn.ReLU(),\n",
    "            nn.Linear(128, 64)\n",
    "        )\n",
    "\n",
    "        # Review Tower Network\n",
    "        review_input_dim = len(review_vocab_sizes) * embedding_dim + numerical_dims['review']\n",
    "        self.review_fc = nn.Sequential(\n",
    "            nn.Linear(review_input_dim, 128),\n",
    "            nn.ReLU(),\n",
    "            nn.Linear(128, 64)\n",
    "        )\n",
    "\n",
    "    def forward(self, recipe_inputs, review_inputs):\n",
    "        # Recipe Tower\n",
    "        recipe_embeds = [\n",
    "            self.recipe_embeddings[key](value)\n",
    "            for key, value in recipe_inputs['categorical'].items()\n",
    "        ]\n",
    "        recipe_embeds = torch.cat(recipe_embeds, dim=-1)\n",
    "        recipe_combined = torch.cat([recipe_embeds, recipe_inputs['numerical']], dim=-1)\n",
    "        recipe_output = self.recipe_fc(recipe_combined)\n",
    "\n",
    "        # Review Tower\n",
    "        review_embeds = [\n",
    "            self.review_embeddings[key](value)\n",
    "            for key, value in review_inputs['categorical'].items()\n",
    "        ]\n",
    "        review_embeds = torch.cat(review_embeds, dim=-1)\n",
    "        review_combined = torch.cat([review_embeds, review_inputs['numerical']], dim=-1)\n",
    "        review_output = self.review_fc(review_combined)\n",
    "\n",
    "        # Calculate similarity (dot product or cosine similarity)\n",
    "        similarity = F.cosine_similarity(recipe_output, review_output, dim=-1)\n",
    "\n",
    "        return similarity"
   ]
  },
  {
   "cell_type": "markdown",
   "metadata": {
    "id": "OJu6I-Bwqoju"
   },
   "source": [
    "# Training"
   ]
  },
  {
   "cell_type": "code",
   "execution_count": null,
   "metadata": {
    "id": "AJA1ZRJVqpTw"
   },
   "outputs": [],
   "source": []
  }
 ],
 "metadata": {
  "colab": {
   "provenance": []
  },
  "kernelspec": {
   "display_name": ".venv",
   "language": "python",
   "name": "python3"
  },
  "language_info": {
   "codemirror_mode": {
    "name": "ipython",
    "version": 3
   },
   "file_extension": ".py",
   "mimetype": "text/x-python",
   "name": "python",
   "nbconvert_exporter": "python",
   "pygments_lexer": "ipython3",
   "version": "3.11.8"
  }
 },
 "nbformat": 4,
 "nbformat_minor": 0
}

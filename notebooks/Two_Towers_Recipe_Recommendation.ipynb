{
 "cells": [
  {
   "cell_type": "code",
   "execution_count": 15,
   "metadata": {
    "id": "HPrrUz4fAE4o"
   },
   "outputs": [],
   "source": [
    "import pandas as pd\n",
    "import numpy as np\n",
    "import matplotlib.pyplot as plt\n",
    "import kagglehub\n",
    "import os"
   ]
  },
  {
   "cell_type": "code",
   "execution_count": 7,
   "metadata": {
    "colab": {
     "base_uri": "https://localhost:8080/"
    },
    "id": "VLNtITse0pfl",
    "outputId": "edf092d5-d27a-4377-c79e-dc348e8f86b4"
   },
   "outputs": [
    {
     "name": "stdout",
     "output_type": "stream",
     "text": [
      "Downloading from https://www.kaggle.com/api/v1/datasets/download/irkaal/foodcom-recipes-and-reviews?dataset_version_number=2...\n"
     ]
    },
    {
     "name": "stderr",
     "output_type": "stream",
     "text": [
      "100%|██████████| 723M/723M [01:06<00:00, 11.5MB/s] "
     ]
    },
    {
     "name": "stdout",
     "output_type": "stream",
     "text": [
      "Extracting files...\n"
     ]
    },
    {
     "name": "stderr",
     "output_type": "stream",
     "text": [
      "\n"
     ]
    },
    {
     "name": "stdout",
     "output_type": "stream",
     "text": [
      "Path to dataset files: C:\\Users\\spadr\\.cache\\kagglehub\\datasets\\irkaal\\foodcom-recipes-and-reviews\\versions\\2\n"
     ]
    }
   ],
   "source": [
    "# Download latest version\n",
    "current_dir = os.getcwd()\n",
    "path = kagglehub.dataset_download(\"irkaal/foodcom-recipes-and-reviews\")\n",
    "\n",
    "print(\"Path to dataset files:\", path)"
   ]
  },
  {
   "cell_type": "code",
   "execution_count": 2,
   "metadata": {
    "id": "cuaZpnTaSVV1"
   },
   "outputs": [],
   "source": [
    "pd.set_option('display.max_columns', None)"
   ]
  },
  {
   "cell_type": "code",
   "execution_count": 3,
   "metadata": {
    "id": "TQrdRK-Ysb1L"
   },
   "outputs": [],
   "source": [
    "dfRec = pd.read_csv('..\\\\data\\\\recipes.csv')\n",
    "dfRev = pd.read_csv('..\\\\data\\\\reviews.csv')"
   ]
  },
  {
   "cell_type": "code",
   "execution_count": null,
   "metadata": {
    "colab": {
     "base_uri": "https://localhost:8080/",
     "height": 854
    },
    "id": "xtEyI-XzDJrG",
    "outputId": "01b60ef5-dd8d-498b-f638-56a676af57bd"
   },
   "outputs": [],
   "source": [
    "dfRev.head(25)\n",
    "# print(dfRev['Review'].head(10).tolist())"
   ]
  },
  {
   "cell_type": "code",
   "execution_count": null,
   "metadata": {
    "colab": {
     "base_uri": "https://localhost:8080/"
    },
    "id": "GD2pHHrtFVXa",
    "outputId": "e566128d-9d44-4405-85cb-ea4b43cccf01"
   },
   "outputs": [],
   "source": [
    "print(dfRev['Review'].head(25).tolist())"
   ]
  },
  {
   "cell_type": "code",
   "execution_count": null,
   "metadata": {
    "colab": {
     "base_uri": "https://localhost:8080/",
     "height": 1000
    },
    "collapsed": true,
    "id": "k1vD14NnD500",
    "outputId": "2e2a8250-d7dd-474c-f47e-a8f188a2ef41"
   },
   "outputs": [],
   "source": [
    "dfRec.head(10)"
   ]
  },
  {
   "cell_type": "code",
   "execution_count": null,
   "metadata": {
    "colab": {
     "base_uri": "https://localhost:8080/"
    },
    "id": "j53wCPrMFxhH",
    "outputId": "9ea93a1e-258c-4446-9159-497601ee5adf"
   },
   "outputs": [],
   "source": [
    "# print(dfRec['Images'].head(10).tolist())\n",
    "print(dfRec[dfRec['RecipeId'] == 992])"
   ]
  },
  {
   "cell_type": "markdown",
   "metadata": {
    "id": "nl3-cNaCqeOw"
   },
   "source": [
    "# Data Exploration"
   ]
  },
  {
   "cell_type": "markdown",
   "metadata": {
    "id": "JCNRMRVrrBHY"
   },
   "source": [
    "## Recipe Dataset"
   ]
  },
  {
   "cell_type": "code",
   "execution_count": null,
   "metadata": {
    "colab": {
     "base_uri": "https://localhost:8080/",
     "height": 965
    },
    "id": "hB2N2SgaJRed",
    "outputId": "84281b76-1298-4d13-95e9-fdda0b264135"
   },
   "outputs": [],
   "source": [
    "dfRec.info()\n",
    "dfRec.describe()"
   ]
  },
  {
   "cell_type": "code",
   "execution_count": null,
   "metadata": {
    "colab": {
     "base_uri": "https://localhost:8080/",
     "height": 541
    },
    "id": "tNmDNFmCOygB",
    "outputId": "16fcfa00-a28e-443f-c76b-0828e6dc6294"
   },
   "outputs": [],
   "source": [
    "recipe_category_counts = dfRec['RecipeCategory'].value_counts()\n",
    "top_10_counts = recipe_category_counts.head(25) # Select only the top 25 categories\n",
    "other_count = recipe_category_counts.iloc[25:].sum()\n",
    "top_10_with_other = pd.concat([top_10_counts, pd.Series({'Other':other_count})])\n",
    "\n",
    "plt.figure(figsize=(10, 6))\n",
    "plt.pie(top_10_with_other, labels=top_10_with_other.index, autopct='%1.1f%%', startangle=140)\n",
    "plt.title('Distribution of Recipe Categories')\n",
    "plt.show()"
   ]
  },
  {
   "cell_type": "markdown",
   "metadata": {
    "id": "ceOrg9GkyQSp"
   },
   "source": [
    "### Data Cleaning"
   ]
  },
  {
   "cell_type": "code",
   "execution_count": 4,
   "metadata": {
    "colab": {
     "base_uri": "https://localhost:8080/"
    },
    "id": "_xf709CTq9lz",
    "outputId": "66fcc4f0-60ff-4413-e108-34624d289cc3"
   },
   "outputs": [
    {
     "name": "stdout",
     "output_type": "stream",
     "text": [
      "<class 'pandas.core.frame.DataFrame'>\n",
      "RangeIndex: 522517 entries, 0 to 522516\n",
      "Data columns (total 25 columns):\n",
      " #   Column                      Non-Null Count   Dtype  \n",
      "---  ------                      --------------   -----  \n",
      " 0   RecipeId                    522517 non-null  int64  \n",
      " 1   Name                        522517 non-null  object \n",
      " 2   AuthorId                    522517 non-null  int64  \n",
      " 3   CookTime                    522517 non-null  object \n",
      " 4   PrepTime                    522517 non-null  object \n",
      " 5   TotalTime                   522517 non-null  object \n",
      " 6   DatePublished               522517 non-null  object \n",
      " 7   Description                 522517 non-null  object \n",
      " 8   RecipeCategory              522517 non-null  object \n",
      " 9   Keywords                    522517 non-null  object \n",
      " 10  RecipeIngredientQuantities  522517 non-null  object \n",
      " 11  RecipeIngredientParts       522517 non-null  object \n",
      " 12  AggregatedRating            522517 non-null  float64\n",
      " 13  ReviewCount                 522517 non-null  float64\n",
      " 14  Calories                    522517 non-null  float64\n",
      " 15  FatContent                  522517 non-null  float64\n",
      " 16  SaturatedFatContent         522517 non-null  float64\n",
      " 17  CholesterolContent          522517 non-null  float64\n",
      " 18  SodiumContent               522517 non-null  float64\n",
      " 19  CarbohydrateContent         522517 non-null  float64\n",
      " 20  FiberContent                522517 non-null  float64\n",
      " 21  SugarContent                522517 non-null  float64\n",
      " 22  ProteinContent              522517 non-null  float64\n",
      " 23  RecipeServings              522517 non-null  float64\n",
      " 24  RecipeInstructions          522517 non-null  object \n",
      "dtypes: float64(12), int64(2), object(11)\n",
      "memory usage: 99.7+ MB\n"
     ]
    }
   ],
   "source": [
    "dfRec.drop(columns=['Images', 'RecipeYield','AuthorName'], inplace=True)\n",
    "\n",
    "# Deal with null values:\n",
    "dfRec['CookTime'].fillna(0, inplace=True) # NaN means no cooking required\n",
    "dfRec['ReviewCount'].fillna(0, inplace=True) # NaN means no reviews\n",
    "dfRec['AggregatedRating'].fillna(2.5, inplace=True) # Use a neutral value even though median is 5.0 and mean 4.6 since we have no indication of quality\n",
    "dfRec['RecipeServings'].fillna(dfRec['RecipeServings'].median(), inplace=True)\n",
    "dfRec['Description'].fillna('', inplace=True) # Put empty description\n",
    "dfRec['RecipeCategory'].fillna(dfRec['Name'], inplace=True) # Substitute category with recipe name\n",
    "dfRec['Keywords'].fillna(dfRec['RecipeIngredientParts'], inplace=True) # Substitute with ingredients, any better ideas?\n",
    "dfRec['RecipeIngredientQuantities'].fillna('c(\"0\")',inplace=True) # There are only 3 missing\n",
    "\n",
    "dfRec.info()"
   ]
  },
  {
   "cell_type": "code",
   "execution_count": 5,
   "metadata": {
    "colab": {
     "base_uri": "https://localhost:8080/",
     "height": 321
    },
    "id": "HCunfGBW_bHN",
    "outputId": "b2e86339-03b3-42d0-e6ba-81c31da2ec7e"
   },
   "outputs": [
    {
     "data": {
      "text/html": [
       "<div>\n",
       "<style scoped>\n",
       "    .dataframe tbody tr th:only-of-type {\n",
       "        vertical-align: middle;\n",
       "    }\n",
       "\n",
       "    .dataframe tbody tr th {\n",
       "        vertical-align: top;\n",
       "    }\n",
       "\n",
       "    .dataframe thead th {\n",
       "        text-align: right;\n",
       "    }\n",
       "</style>\n",
       "<table border=\"1\" class=\"dataframe\">\n",
       "  <thead>\n",
       "    <tr style=\"text-align: right;\">\n",
       "      <th></th>\n",
       "      <th>RecipeId</th>\n",
       "      <th>AuthorId</th>\n",
       "      <th>AggregatedRating</th>\n",
       "      <th>ReviewCount</th>\n",
       "      <th>Calories</th>\n",
       "      <th>FatContent</th>\n",
       "      <th>SaturatedFatContent</th>\n",
       "      <th>CholesterolContent</th>\n",
       "      <th>SodiumContent</th>\n",
       "      <th>CarbohydrateContent</th>\n",
       "      <th>FiberContent</th>\n",
       "      <th>SugarContent</th>\n",
       "      <th>ProteinContent</th>\n",
       "      <th>RecipeServings</th>\n",
       "    </tr>\n",
       "  </thead>\n",
       "  <tbody>\n",
       "    <tr>\n",
       "      <th>count</th>\n",
       "      <td>522517.000000</td>\n",
       "      <td>5.225170e+05</td>\n",
       "      <td>522517.000000</td>\n",
       "      <td>522517.000000</td>\n",
       "      <td>522517.000000</td>\n",
       "      <td>522517.000000</td>\n",
       "      <td>522517.000000</td>\n",
       "      <td>522517.000000</td>\n",
       "      <td>5.225170e+05</td>\n",
       "      <td>522517.000000</td>\n",
       "      <td>522517.000000</td>\n",
       "      <td>522517.000000</td>\n",
       "      <td>522517.000000</td>\n",
       "      <td>522517.000000</td>\n",
       "    </tr>\n",
       "    <tr>\n",
       "      <th>mean</th>\n",
       "      <td>271821.436970</td>\n",
       "      <td>4.572585e+07</td>\n",
       "      <td>3.598794</td>\n",
       "      <td>2.751656</td>\n",
       "      <td>484.438580</td>\n",
       "      <td>24.614922</td>\n",
       "      <td>9.559457</td>\n",
       "      <td>86.487003</td>\n",
       "      <td>7.672639e+02</td>\n",
       "      <td>49.089092</td>\n",
       "      <td>3.843242</td>\n",
       "      <td>21.878254</td>\n",
       "      <td>17.469510</td>\n",
       "      <td>7.693874</td>\n",
       "    </tr>\n",
       "    <tr>\n",
       "      <th>std</th>\n",
       "      <td>155495.878422</td>\n",
       "      <td>2.929714e+08</td>\n",
       "      <td>1.160894</td>\n",
       "      <td>15.015307</td>\n",
       "      <td>1397.116649</td>\n",
       "      <td>111.485798</td>\n",
       "      <td>46.622621</td>\n",
       "      <td>301.987009</td>\n",
       "      <td>4.203621e+03</td>\n",
       "      <td>180.822062</td>\n",
       "      <td>8.603163</td>\n",
       "      <td>142.620191</td>\n",
       "      <td>40.128837</td>\n",
       "      <td>92.171835</td>\n",
       "    </tr>\n",
       "    <tr>\n",
       "      <th>min</th>\n",
       "      <td>38.000000</td>\n",
       "      <td>2.700000e+01</td>\n",
       "      <td>1.000000</td>\n",
       "      <td>0.000000</td>\n",
       "      <td>0.000000</td>\n",
       "      <td>0.000000</td>\n",
       "      <td>0.000000</td>\n",
       "      <td>0.000000</td>\n",
       "      <td>0.000000e+00</td>\n",
       "      <td>0.000000</td>\n",
       "      <td>0.000000</td>\n",
       "      <td>0.000000</td>\n",
       "      <td>0.000000</td>\n",
       "      <td>1.000000</td>\n",
       "    </tr>\n",
       "    <tr>\n",
       "      <th>25%</th>\n",
       "      <td>137206.000000</td>\n",
       "      <td>6.947400e+04</td>\n",
       "      <td>2.500000</td>\n",
       "      <td>0.000000</td>\n",
       "      <td>174.200000</td>\n",
       "      <td>5.600000</td>\n",
       "      <td>1.500000</td>\n",
       "      <td>3.800000</td>\n",
       "      <td>1.233000e+02</td>\n",
       "      <td>12.800000</td>\n",
       "      <td>0.800000</td>\n",
       "      <td>2.500000</td>\n",
       "      <td>3.500000</td>\n",
       "      <td>4.000000</td>\n",
       "    </tr>\n",
       "    <tr>\n",
       "      <th>50%</th>\n",
       "      <td>271758.000000</td>\n",
       "      <td>2.389370e+05</td>\n",
       "      <td>3.000000</td>\n",
       "      <td>1.000000</td>\n",
       "      <td>317.100000</td>\n",
       "      <td>13.800000</td>\n",
       "      <td>4.700000</td>\n",
       "      <td>42.600000</td>\n",
       "      <td>3.533000e+02</td>\n",
       "      <td>28.200000</td>\n",
       "      <td>2.200000</td>\n",
       "      <td>6.400000</td>\n",
       "      <td>9.100000</td>\n",
       "      <td>6.000000</td>\n",
       "    </tr>\n",
       "    <tr>\n",
       "      <th>75%</th>\n",
       "      <td>406145.000000</td>\n",
       "      <td>5.658280e+05</td>\n",
       "      <td>5.000000</td>\n",
       "      <td>2.000000</td>\n",
       "      <td>529.100000</td>\n",
       "      <td>27.400000</td>\n",
       "      <td>10.800000</td>\n",
       "      <td>107.900000</td>\n",
       "      <td>7.922000e+02</td>\n",
       "      <td>51.100000</td>\n",
       "      <td>4.600000</td>\n",
       "      <td>17.900000</td>\n",
       "      <td>25.000000</td>\n",
       "      <td>6.000000</td>\n",
       "    </tr>\n",
       "    <tr>\n",
       "      <th>max</th>\n",
       "      <td>541383.000000</td>\n",
       "      <td>2.002886e+09</td>\n",
       "      <td>5.000000</td>\n",
       "      <td>3063.000000</td>\n",
       "      <td>612854.600000</td>\n",
       "      <td>64368.100000</td>\n",
       "      <td>26740.600000</td>\n",
       "      <td>130456.400000</td>\n",
       "      <td>1.246921e+06</td>\n",
       "      <td>108294.600000</td>\n",
       "      <td>3012.000000</td>\n",
       "      <td>90682.300000</td>\n",
       "      <td>18396.200000</td>\n",
       "      <td>32767.000000</td>\n",
       "    </tr>\n",
       "  </tbody>\n",
       "</table>\n",
       "</div>"
      ],
      "text/plain": [
       "            RecipeId      AuthorId  AggregatedRating    ReviewCount  \\\n",
       "count  522517.000000  5.225170e+05     522517.000000  522517.000000   \n",
       "mean   271821.436970  4.572585e+07          3.598794       2.751656   \n",
       "std    155495.878422  2.929714e+08          1.160894      15.015307   \n",
       "min        38.000000  2.700000e+01          1.000000       0.000000   \n",
       "25%    137206.000000  6.947400e+04          2.500000       0.000000   \n",
       "50%    271758.000000  2.389370e+05          3.000000       1.000000   \n",
       "75%    406145.000000  5.658280e+05          5.000000       2.000000   \n",
       "max    541383.000000  2.002886e+09          5.000000    3063.000000   \n",
       "\n",
       "            Calories     FatContent  SaturatedFatContent  CholesterolContent  \\\n",
       "count  522517.000000  522517.000000        522517.000000       522517.000000   \n",
       "mean      484.438580      24.614922             9.559457           86.487003   \n",
       "std      1397.116649     111.485798            46.622621          301.987009   \n",
       "min         0.000000       0.000000             0.000000            0.000000   \n",
       "25%       174.200000       5.600000             1.500000            3.800000   \n",
       "50%       317.100000      13.800000             4.700000           42.600000   \n",
       "75%       529.100000      27.400000            10.800000          107.900000   \n",
       "max    612854.600000   64368.100000         26740.600000       130456.400000   \n",
       "\n",
       "       SodiumContent  CarbohydrateContent   FiberContent   SugarContent  \\\n",
       "count   5.225170e+05        522517.000000  522517.000000  522517.000000   \n",
       "mean    7.672639e+02            49.089092       3.843242      21.878254   \n",
       "std     4.203621e+03           180.822062       8.603163     142.620191   \n",
       "min     0.000000e+00             0.000000       0.000000       0.000000   \n",
       "25%     1.233000e+02            12.800000       0.800000       2.500000   \n",
       "50%     3.533000e+02            28.200000       2.200000       6.400000   \n",
       "75%     7.922000e+02            51.100000       4.600000      17.900000   \n",
       "max     1.246921e+06        108294.600000    3012.000000   90682.300000   \n",
       "\n",
       "       ProteinContent  RecipeServings  \n",
       "count   522517.000000   522517.000000  \n",
       "mean        17.469510        7.693874  \n",
       "std         40.128837       92.171835  \n",
       "min          0.000000        1.000000  \n",
       "25%          3.500000        4.000000  \n",
       "50%          9.100000        6.000000  \n",
       "75%         25.000000        6.000000  \n",
       "max      18396.200000    32767.000000  "
      ]
     },
     "execution_count": 5,
     "metadata": {},
     "output_type": "execute_result"
    }
   ],
   "source": [
    "dfRec.describe()"
   ]
  },
  {
   "cell_type": "markdown",
   "metadata": {
    "id": "yHUwXwoD54Wh"
   },
   "source": [
    "### Dataset Splitting and Scaling"
   ]
  },
  {
   "cell_type": "code",
   "execution_count": 5,
   "metadata": {
    "id": "Nlxx5rkP4VwG"
   },
   "outputs": [],
   "source": [
    "from sklearn.model_selection import train_test_split\n",
    "from sklearn.preprocessing import StandardScaler\n",
    "\n",
    "num_feature_columns = [\n",
    "    'AggregatedRating', 'ReviewCount', 'Calories', 'FatContent',\n",
    "    'SaturatedFatContent', 'CholesterolContent', 'SodiumContent',\n",
    "    'CarbohydrateContent', 'FiberContent', 'SugarContent',\n",
    "    'ProteinContent', 'RecipeServings'\n",
    "]\n",
    "\n",
    "train_recipe_data, test_recipe_data = train_test_split(dfRec, test_size=0.2, random_state=42)\n",
    "recipe_scaler = StandardScaler()\n",
    "\n",
    "train_recipe_data[num_feature_columns] = recipe_scaler.fit_transform(train_recipe_data[num_feature_columns])\n",
    "test_recipe_data[num_feature_columns] = recipe_scaler.transform(test_recipe_data[num_feature_columns]) # Use fit from trainig data to prevent data leakage"
   ]
  },
  {
   "cell_type": "markdown",
   "metadata": {
    "id": "R1j6MmcZyZZo"
   },
   "source": [
    "## Review Dataset"
   ]
  },
  {
   "cell_type": "code",
   "execution_count": 7,
   "metadata": {
    "colab": {
     "base_uri": "https://localhost:8080/",
     "height": 591
    },
    "id": "nwIBkqMKybue",
    "outputId": "08cac569-8360-4b74-dcd5-350ec933ba3e"
   },
   "outputs": [
    {
     "name": "stdout",
     "output_type": "stream",
     "text": [
      "<class 'pandas.core.frame.DataFrame'>\n",
      "RangeIndex: 1401982 entries, 0 to 1401981\n",
      "Data columns (total 8 columns):\n",
      " #   Column         Non-Null Count    Dtype \n",
      "---  ------         --------------    ----- \n",
      " 0   ReviewId       1401982 non-null  int64 \n",
      " 1   RecipeId       1401982 non-null  int64 \n",
      " 2   AuthorId       1401982 non-null  int64 \n",
      " 3   AuthorName     1401982 non-null  object\n",
      " 4   Rating         1401982 non-null  int64 \n",
      " 5   Review         1401768 non-null  object\n",
      " 6   DateSubmitted  1401982 non-null  object\n",
      " 7   DateModified   1401982 non-null  object\n",
      "dtypes: int64(4), object(4)\n",
      "memory usage: 85.6+ MB\n"
     ]
    },
    {
     "data": {
      "text/html": [
       "<div>\n",
       "<style scoped>\n",
       "    .dataframe tbody tr th:only-of-type {\n",
       "        vertical-align: middle;\n",
       "    }\n",
       "\n",
       "    .dataframe tbody tr th {\n",
       "        vertical-align: top;\n",
       "    }\n",
       "\n",
       "    .dataframe thead th {\n",
       "        text-align: right;\n",
       "    }\n",
       "</style>\n",
       "<table border=\"1\" class=\"dataframe\">\n",
       "  <thead>\n",
       "    <tr style=\"text-align: right;\">\n",
       "      <th></th>\n",
       "      <th>ReviewId</th>\n",
       "      <th>RecipeId</th>\n",
       "      <th>AuthorId</th>\n",
       "      <th>Rating</th>\n",
       "    </tr>\n",
       "  </thead>\n",
       "  <tbody>\n",
       "    <tr>\n",
       "      <th>count</th>\n",
       "      <td>1.401982e+06</td>\n",
       "      <td>1.401982e+06</td>\n",
       "      <td>1.401982e+06</td>\n",
       "      <td>1.401982e+06</td>\n",
       "    </tr>\n",
       "    <tr>\n",
       "      <th>mean</th>\n",
       "      <td>8.179739e+05</td>\n",
       "      <td>1.526412e+05</td>\n",
       "      <td>1.558638e+08</td>\n",
       "      <td>4.407951e+00</td>\n",
       "    </tr>\n",
       "    <tr>\n",
       "      <th>std</th>\n",
       "      <td>5.280821e+05</td>\n",
       "      <td>1.301112e+05</td>\n",
       "      <td>5.305111e+08</td>\n",
       "      <td>1.272012e+00</td>\n",
       "    </tr>\n",
       "    <tr>\n",
       "      <th>min</th>\n",
       "      <td>2.000000e+00</td>\n",
       "      <td>3.800000e+01</td>\n",
       "      <td>1.533000e+03</td>\n",
       "      <td>0.000000e+00</td>\n",
       "    </tr>\n",
       "    <tr>\n",
       "      <th>25%</th>\n",
       "      <td>3.743862e+05</td>\n",
       "      <td>4.703875e+04</td>\n",
       "      <td>1.336800e+05</td>\n",
       "      <td>4.000000e+00</td>\n",
       "    </tr>\n",
       "    <tr>\n",
       "      <th>50%</th>\n",
       "      <td>7.717805e+05</td>\n",
       "      <td>1.093270e+05</td>\n",
       "      <td>3.305450e+05</td>\n",
       "      <td>5.000000e+00</td>\n",
       "    </tr>\n",
       "    <tr>\n",
       "      <th>75%</th>\n",
       "      <td>1.204126e+06</td>\n",
       "      <td>2.318768e+05</td>\n",
       "      <td>8.183590e+05</td>\n",
       "      <td>5.000000e+00</td>\n",
       "    </tr>\n",
       "    <tr>\n",
       "      <th>max</th>\n",
       "      <td>2.090347e+06</td>\n",
       "      <td>5.412980e+05</td>\n",
       "      <td>2.002902e+09</td>\n",
       "      <td>5.000000e+00</td>\n",
       "    </tr>\n",
       "  </tbody>\n",
       "</table>\n",
       "</div>"
      ],
      "text/plain": [
       "           ReviewId      RecipeId      AuthorId        Rating\n",
       "count  1.401982e+06  1.401982e+06  1.401982e+06  1.401982e+06\n",
       "mean   8.179739e+05  1.526412e+05  1.558638e+08  4.407951e+00\n",
       "std    5.280821e+05  1.301112e+05  5.305111e+08  1.272012e+00\n",
       "min    2.000000e+00  3.800000e+01  1.533000e+03  0.000000e+00\n",
       "25%    3.743862e+05  4.703875e+04  1.336800e+05  4.000000e+00\n",
       "50%    7.717805e+05  1.093270e+05  3.305450e+05  5.000000e+00\n",
       "75%    1.204126e+06  2.318768e+05  8.183590e+05  5.000000e+00\n",
       "max    2.090347e+06  5.412980e+05  2.002902e+09  5.000000e+00"
      ]
     },
     "execution_count": 7,
     "metadata": {},
     "output_type": "execute_result"
    }
   ],
   "source": [
    "dfRev.info()\n",
    "dfRev.describe()"
   ]
  },
  {
   "cell_type": "markdown",
   "metadata": {
    "id": "DUVQFywzY5jI"
   },
   "source": [
    "### Data Cleaning"
   ]
  },
  {
   "cell_type": "code",
   "execution_count": null,
   "metadata": {
    "colab": {
     "base_uri": "https://localhost:8080/"
    },
    "id": "leAruTSnY7mN",
    "outputId": "91f4c5e0-4336-4cdf-fbbf-497dcba139e8"
   },
   "outputs": [],
   "source": [
    "dfRev['Review'].fillna('', inplace=True) # Put empty description for now\n",
    "dfRev.drop(columns=['DateSubmitted', 'AuthorName'], inplace=True) # Only keep DateModified\n",
    "dfRev['DateModified'] = pd.to_datetime(dfRev['DateModified'])\n",
    "dfRev['year'] = dfRev['DateModified'].dt.year\n",
    "dfRev['month'] = dfRev['DateModified'].dt.month\n",
    "dfRev['month_sin'] = np.sin(2 * np.pi * dfRev['month'] / 12) # cyclic enconding for month (so Dec and Jan are close to one another)\n",
    "dfRev['month_cos'] = np.cos(2 * np.pi * dfRev['month'] / 12)\n",
    "dfRev.drop(columns=['DateModified', 'month'], inplace=True)"
   ]
  },
  {
   "cell_type": "code",
   "execution_count": 11,
   "metadata": {},
   "outputs": [
    {
     "name": "stdout",
     "output_type": "stream",
     "text": [
      "<class 'pandas.core.frame.DataFrame'>\n",
      "RangeIndex: 1401982 entries, 0 to 1401981\n",
      "Data columns (total 6 columns):\n",
      " #   Column        Non-Null Count    Dtype \n",
      "---  ------        --------------    ----- \n",
      " 0   ReviewId      1401982 non-null  int64 \n",
      " 1   RecipeId      1401982 non-null  int64 \n",
      " 2   AuthorId      1401982 non-null  int64 \n",
      " 3   Rating        1401982 non-null  int64 \n",
      " 4   Review        1401982 non-null  object\n",
      " 5   DateModified  1401982 non-null  object\n",
      "dtypes: int64(4), object(2)\n",
      "memory usage: 64.2+ MB\n"
     ]
    }
   ],
   "source": [
    "dfRev.info()"
   ]
  },
  {
   "cell_type": "code",
   "execution_count": 9,
   "metadata": {
    "colab": {
     "base_uri": "https://localhost:8080/",
     "height": 483
    },
    "id": "uDoW80tBYtjz",
    "outputId": "fd78086b-f0cc-4eab-9b41-0e1fa06994ae"
   },
   "outputs": [
    {
     "data": {
      "text/plain": [
       "<Axes: ylabel='Frequency'>"
      ]
     },
     "execution_count": 9,
     "metadata": {},
     "output_type": "execute_result"
    },
    {
     "data": {
      "image/png": "[encoded data removed]",
      "text/plain": [
       "<Figure size 640x480 with 1 Axes>"
      ]
     },
     "metadata": {},
     "output_type": "display_data"
    }
   ],
   "source": [
    "dfRev['Rating'].plot(kind='hist')"
   ]
  },
  {
   "cell_type": "code",
   "execution_count": 7,
   "metadata": {
    "id": "zy6DoMk_ZLev"
   },
   "outputs": [],
   "source": [
    "train_review_data, test_review_data = train_test_split(dfRev, test_size=0.2, random_state=42)\n",
    "review_scaler = StandardScaler() # tried QuantileTransformer and PowerTransformer but the data is still very skewed\n",
    "\n",
    "\n",
    "train_review_data['Rating'] = review_scaler.fit_transform(train_review_data['Rating'].values.reshape(-1, 1))\n",
    "test_review_data['Rating'] = review_scaler.transform(test_review_data['Rating'].values.reshape(-1, 1)) # Use fit from trainig data to prevent data leakage"
   ]
  },
  {
   "cell_type": "markdown",
   "metadata": {
    "id": "4_IDjzgOq1V3"
   },
   "source": [
    "# User and Recipe Embeddings"
   ]
  },
  {
   "cell_type": "code",
   "execution_count": 8,
   "metadata": {
    "colab": {
     "base_uri": "https://localhost:8080/",
     "height": 297
    },
    "id": "2eOhYZRTev73",
    "outputId": "aa331681-2b23-4a81-9330-7e646c55ff0d"
   },
   "outputs": [
    {
     "ename": "KeyboardInterrupt",
     "evalue": "",
     "output_type": "error",
     "traceback": [
      "\u001b[1;31m---------------------------------------------------------------------------\u001b[0m",
      "\u001b[1;31mKeyboardInterrupt\u001b[0m                         Traceback (most recent call last)",
      "Cell \u001b[1;32mIn[8], line 1\u001b[0m\n\u001b[1;32m----> 1\u001b[0m \u001b[38;5;28;01mfrom\u001b[39;00m \u001b[38;5;21;01msentence_transformers\u001b[39;00m \u001b[38;5;28;01mimport\u001b[39;00m SentenceTransformer\n\u001b[0;32m      2\u001b[0m \u001b[38;5;28;01mfrom\u001b[39;00m \u001b[38;5;21;01mtqdm\u001b[39;00m\u001b[38;5;21;01m.\u001b[39;00m\u001b[38;5;21;01mnotebook\u001b[39;00m \u001b[38;5;28;01mimport\u001b[39;00m tqdm\n\u001b[0;32m      4\u001b[0m \u001b[38;5;66;03m# 1. Load a pretrained Sentence Transformer model\u001b[39;00m\n",
      "File \u001b[1;32md:\\Code\\Python\\two-tower-recipe-recommender-system\\.venv\\Lib\\site-packages\\sentence_transformers\\__init__.py:3\u001b[0m\n\u001b[0;32m      1\u001b[0m __version__ \u001b[38;5;241m=\u001b[39m \u001b[38;5;124m\"\u001b[39m\u001b[38;5;124m2.2.2\u001b[39m\u001b[38;5;124m\"\u001b[39m\n\u001b[0;32m      2\u001b[0m __MODEL_HUB_ORGANIZATION__ \u001b[38;5;241m=\u001b[39m \u001b[38;5;124m'\u001b[39m\u001b[38;5;124msentence-transformers\u001b[39m\u001b[38;5;124m'\u001b[39m\n\u001b[1;32m----> 3\u001b[0m \u001b[38;5;28;01mfrom\u001b[39;00m \u001b[38;5;21;01m.\u001b[39;00m\u001b[38;5;21;01mdatasets\u001b[39;00m \u001b[38;5;28;01mimport\u001b[39;00m SentencesDataset, ParallelSentencesDataset\n\u001b[0;32m      4\u001b[0m \u001b[38;5;28;01mfrom\u001b[39;00m \u001b[38;5;21;01m.\u001b[39;00m\u001b[38;5;21;01mLoggingHandler\u001b[39;00m \u001b[38;5;28;01mimport\u001b[39;00m LoggingHandler\n\u001b[0;32m      5\u001b[0m \u001b[38;5;28;01mfrom\u001b[39;00m \u001b[38;5;21;01m.\u001b[39;00m\u001b[38;5;21;01mSentenceTransformer\u001b[39;00m \u001b[38;5;28;01mimport\u001b[39;00m SentenceTransformer\n",
      "File \u001b[1;32md:\\Code\\Python\\two-tower-recipe-recommender-system\\.venv\\Lib\\site-packages\\sentence_transformers\\datasets\\__init__.py:1\u001b[0m\n\u001b[1;32m----> 1\u001b[0m \u001b[38;5;28;01mfrom\u001b[39;00m \u001b[38;5;21;01m.\u001b[39;00m\u001b[38;5;21;01mDenoisingAutoEncoderDataset\u001b[39;00m \u001b[38;5;28;01mimport\u001b[39;00m DenoisingAutoEncoderDataset\n\u001b[0;32m      2\u001b[0m \u001b[38;5;28;01mfrom\u001b[39;00m \u001b[38;5;21;01m.\u001b[39;00m\u001b[38;5;21;01mNoDuplicatesDataLoader\u001b[39;00m \u001b[38;5;28;01mimport\u001b[39;00m NoDuplicatesDataLoader\n\u001b[0;32m      3\u001b[0m \u001b[38;5;28;01mfrom\u001b[39;00m \u001b[38;5;21;01m.\u001b[39;00m\u001b[38;5;21;01mParallelSentencesDataset\u001b[39;00m \u001b[38;5;28;01mimport\u001b[39;00m ParallelSentencesDataset\n",
      "File \u001b[1;32md:\\Code\\Python\\two-tower-recipe-recommender-system\\.venv\\Lib\\site-packages\\sentence_transformers\\datasets\\DenoisingAutoEncoderDataset.py:1\u001b[0m\n\u001b[1;32m----> 1\u001b[0m \u001b[38;5;28;01mfrom\u001b[39;00m \u001b[38;5;21;01mtorch\u001b[39;00m\u001b[38;5;21;01m.\u001b[39;00m\u001b[38;5;21;01mutils\u001b[39;00m\u001b[38;5;21;01m.\u001b[39;00m\u001b[38;5;21;01mdata\u001b[39;00m \u001b[38;5;28;01mimport\u001b[39;00m Dataset\n\u001b[0;32m      2\u001b[0m \u001b[38;5;28;01mfrom\u001b[39;00m \u001b[38;5;21;01mtyping\u001b[39;00m \u001b[38;5;28;01mimport\u001b[39;00m List\n\u001b[0;32m      3\u001b[0m \u001b[38;5;28;01mfrom\u001b[39;00m \u001b[38;5;21;01m.\u001b[39;00m\u001b[38;5;21;01m.\u001b[39;00m\u001b[38;5;21;01mreaders\u001b[39;00m\u001b[38;5;21;01m.\u001b[39;00m\u001b[38;5;21;01mInputExample\u001b[39;00m \u001b[38;5;28;01mimport\u001b[39;00m InputExample\n",
      "File \u001b[1;32md:\\Code\\Python\\two-tower-recipe-recommender-system\\.venv\\Lib\\site-packages\\torch\\__init__.py:262\u001b[0m\n\u001b[0;32m    258\u001b[0m                     \u001b[38;5;28;01mraise\u001b[39;00m err\n\u001b[0;32m    260\u001b[0m         kernel32\u001b[38;5;241m.\u001b[39mSetErrorMode(prev_error_mode)\n\u001b[1;32m--> 262\u001b[0m     \u001b[43m_load_dll_libraries\u001b[49m\u001b[43m(\u001b[49m\u001b[43m)\u001b[49m\n\u001b[0;32m    263\u001b[0m     \u001b[38;5;28;01mdel\u001b[39;00m _load_dll_libraries\n\u001b[0;32m    266\u001b[0m \u001b[38;5;28;01mdef\u001b[39;00m \u001b[38;5;21m_preload_cuda_deps\u001b[39m(lib_folder: \u001b[38;5;28mstr\u001b[39m, lib_name: \u001b[38;5;28mstr\u001b[39m) \u001b[38;5;241m-\u001b[39m\u001b[38;5;241m>\u001b[39m \u001b[38;5;28;01mNone\u001b[39;00m:\n",
      "File \u001b[1;32md:\\Code\\Python\\two-tower-recipe-recommender-system\\.venv\\Lib\\site-packages\\torch\\__init__.py:238\u001b[0m, in \u001b[0;36m_load_dll_libraries\u001b[1;34m()\u001b[0m\n\u001b[0;32m    236\u001b[0m is_loaded \u001b[38;5;241m=\u001b[39m \u001b[38;5;28;01mFalse\u001b[39;00m\n\u001b[0;32m    237\u001b[0m \u001b[38;5;28;01mif\u001b[39;00m with_load_library_flags:\n\u001b[1;32m--> 238\u001b[0m     res \u001b[38;5;241m=\u001b[39m \u001b[43mkernel32\u001b[49m\u001b[38;5;241;43m.\u001b[39;49m\u001b[43mLoadLibraryExW\u001b[49m\u001b[43m(\u001b[49m\u001b[43mdll\u001b[49m\u001b[43m,\u001b[49m\u001b[43m \u001b[49m\u001b[38;5;28;43;01mNone\u001b[39;49;00m\u001b[43m,\u001b[49m\u001b[43m \u001b[49m\u001b[38;5;241;43m0x00001100\u001b[39;49m\u001b[43m)\u001b[49m\n\u001b[0;32m    239\u001b[0m     last_error \u001b[38;5;241m=\u001b[39m ctypes\u001b[38;5;241m.\u001b[39mget_last_error()\n\u001b[0;32m    240\u001b[0m     \u001b[38;5;28;01mif\u001b[39;00m res \u001b[38;5;129;01mis\u001b[39;00m \u001b[38;5;28;01mNone\u001b[39;00m \u001b[38;5;129;01mand\u001b[39;00m last_error \u001b[38;5;241m!=\u001b[39m \u001b[38;5;241m126\u001b[39m:\n",
      "\u001b[1;31mKeyboardInterrupt\u001b[0m: "
     ]
    }
   ],
   "source": [
    "from sentence_transformers import SentenceTransformer\n",
    "from tqdm.notebook import tqdm\n",
    "\n",
    "# 1. Load a pretrained Sentence Transformer model\n",
    "model = SentenceTransformer(\"all-MiniLM-L6-v2\")\n",
    "\n",
    "batch_size = 1000\n",
    "reviews = train_review_data['Review'].tolist()\n",
    "\n",
    "all_embeddings = []\n",
    "\n",
    "for i in tqdm(range(0, len(reviews), batch_size), desc=\"Encoding reviews\"):\n",
    "    batch = reviews[i:i+batch_size]\n",
    "    batch_embeddings = model.encode(batch)\n",
    "    all_embeddings.append(batch_embeddings)\n",
    "\n",
    "review_embeddings = np.vstack(all_embeddings)\n",
    "print(review_embeddings.shape)"
   ]
  },
  {
   "cell_type": "code",
   "execution_count": 39,
   "metadata": {},
   "outputs": [
    {
     "data": {
      "text/html": [
       "<div>\n",
       "<style scoped>\n",
       "    .dataframe tbody tr th:only-of-type {\n",
       "        vertical-align: middle;\n",
       "    }\n",
       "\n",
       "    .dataframe tbody tr th {\n",
       "        vertical-align: top;\n",
       "    }\n",
       "\n",
       "    .dataframe thead th {\n",
       "        text-align: right;\n",
       "    }\n",
       "</style>\n",
       "<table border=\"1\" class=\"dataframe\">\n",
       "  <thead>\n",
       "    <tr style=\"text-align: right;\">\n",
       "      <th></th>\n",
       "      <th>ReviewId</th>\n",
       "      <th>RecipeId</th>\n",
       "      <th>AuthorId</th>\n",
       "      <th>Rating</th>\n",
       "      <th>Review</th>\n",
       "      <th>DateModified</th>\n",
       "    </tr>\n",
       "  </thead>\n",
       "  <tbody>\n",
       "    <tr>\n",
       "      <th>1369526</th>\n",
       "      <td>2055003</td>\n",
       "      <td>107786</td>\n",
       "      <td>2001757945</td>\n",
       "      <td>0.465609</td>\n",
       "      <td>My first time making spare ribs for the family...</td>\n",
       "      <td>2018-05-29T03:29:40Z</td>\n",
       "    </tr>\n",
       "    <tr>\n",
       "      <th>145399</th>\n",
       "      <td>155996</td>\n",
       "      <td>13680</td>\n",
       "      <td>88099</td>\n",
       "      <td>-0.320427</td>\n",
       "      <td>My daughter and I really enjoyed this with our...</td>\n",
       "      <td>2005-02-24T18:00:09Z</td>\n",
       "    </tr>\n",
       "    <tr>\n",
       "      <th>498190</th>\n",
       "      <td>540194</td>\n",
       "      <td>2189</td>\n",
       "      <td>685371</td>\n",
       "      <td>0.465609</td>\n",
       "      <td>This recipe is great! It was simple to make an...</td>\n",
       "      <td>2007-12-24T08:34:26Z</td>\n",
       "    </tr>\n",
       "    <tr>\n",
       "      <th>96618</th>\n",
       "      <td>104617</td>\n",
       "      <td>89186</td>\n",
       "      <td>141139</td>\n",
       "      <td>0.465609</td>\n",
       "      <td>Uber-yummy.  thanks so much for passing the re...</td>\n",
       "      <td>2004-05-24T23:31:56Z</td>\n",
       "    </tr>\n",
       "    <tr>\n",
       "      <th>1199756</th>\n",
       "      <td>1377986</td>\n",
       "      <td>497871</td>\n",
       "      <td>178427</td>\n",
       "      <td>0.465609</td>\n",
       "      <td>Terrific! This is one sauce I will be making o...</td>\n",
       "      <td>2013-04-03T20:58:09Z</td>\n",
       "    </tr>\n",
       "  </tbody>\n",
       "</table>\n",
       "</div>"
      ],
      "text/plain": [
       "         ReviewId  RecipeId    AuthorId    Rating  \\\n",
       "1369526   2055003    107786  2001757945  0.465609   \n",
       "145399     155996     13680       88099 -0.320427   \n",
       "498190     540194      2189      685371  0.465609   \n",
       "96618      104617     89186      141139  0.465609   \n",
       "1199756   1377986    497871      178427  0.465609   \n",
       "\n",
       "                                                    Review  \\\n",
       "1369526  My first time making spare ribs for the family...   \n",
       "145399   My daughter and I really enjoyed this with our...   \n",
       "498190   This recipe is great! It was simple to make an...   \n",
       "96618    Uber-yummy.  thanks so much for passing the re...   \n",
       "1199756  Terrific! This is one sauce I will be making o...   \n",
       "\n",
       "                 DateModified  \n",
       "1369526  2018-05-29T03:29:40Z  \n",
       "145399   2005-02-24T18:00:09Z  \n",
       "498190   2007-12-24T08:34:26Z  \n",
       "96618    2004-05-24T23:31:56Z  \n",
       "1199756  2013-04-03T20:58:09Z  "
      ]
     },
     "execution_count": 39,
     "metadata": {},
     "output_type": "execute_result"
    }
   ],
   "source": [
    "train_review_data.head()"
   ]
  },
  {
   "cell_type": "markdown",
   "metadata": {},
   "source": [
    "## Load Feature Group from Hopsworks"
   ]
  },
  {
   "cell_type": "code",
   "execution_count": 2,
   "metadata": {},
   "outputs": [
    {
     "name": "stdout",
     "output_type": "stream",
     "text": [
      "2024-12-04 17:35:29,848 INFO: Initializing external client\n",
      "2024-12-04 17:35:29,849 INFO: Base URL: https://c.app.hopsworks.ai:443\n",
      "2024-12-04 17:35:31,262 INFO: Python Engine initialized.\n",
      "\n",
      "Logged in to project, explore it here https://c.app.hopsworks.ai:443/p/1193139\n"
     ]
    }
   ],
   "source": [
    "import hopsworks \n",
    "project = hopsworks.login()\n",
    "fs = project.get_feature_store(name='recipe_recommender_featurestore')\n",
    "fg = fs.get_feature_group('reviews', version=1)"
   ]
  },
  {
   "cell_type": "code",
   "execution_count": 3,
   "metadata": {},
   "outputs": [
    {
     "name": "stdout",
     "output_type": "stream",
     "text": [
      "Finished: Reading data from Hopsworks, using Hopsworks Feature Query Service (1.16s) \n",
      "   reviewid  recipeid  authorid    rating  \\\n",
      "0    733852     18888    170525  0.465609   \n",
      "1   1508059    257934   2324548 -1.892497   \n",
      "2    779546    179011    101053  0.465609   \n",
      "3   1247824    437198    223854  0.465609   \n",
      "4   1255578    312799   2022859  0.465609   \n",
      "\n",
      "                                              review  year  month_sin  \\\n",
      "0  [-0.090310626, 0.0057918075, 0.022631085, 0.04...  2008  -0.866025   \n",
      "1  [0.033940803, -0.014454637, -0.026434703, -0.0...  2016  -0.866025   \n",
      "2  [-0.06418978, -0.013228689, -0.07730314, -0.01...  2009   0.500000   \n",
      "3  [-0.018176978, -0.061546214, -0.007779695, 0.0...  2011  -1.000000   \n",
      "4  [-0.11478278, 0.001350501, 0.008474978, 0.0441...  2011  -0.866025   \n",
      "\n",
      "      month_cos  \n",
      "0  5.000000e-01  \n",
      "1 -5.000000e-01  \n",
      "2  8.660254e-01  \n",
      "3 -1.836970e-16  \n",
      "4  5.000000e-01  \n"
     ]
    }
   ],
   "source": [
    "train_review_data = fg.read()\n",
    "\n",
    "# Display the DataFrame\n",
    "print(train_review_data.head())"
   ]
  },
  {
   "cell_type": "code",
   "execution_count": 13,
   "metadata": {},
   "outputs": [
    {
     "ename": "NameError",
     "evalue": "name 'review_embeddings' is not defined",
     "output_type": "error",
     "traceback": [
      "\u001b[1;31m---------------------------------------------------------------------------\u001b[0m",
      "\u001b[1;31mNameError\u001b[0m                                 Traceback (most recent call last)",
      "Cell \u001b[1;32mIn[13], line 1\u001b[0m\n\u001b[1;32m----> 1\u001b[0m train_review_data[\u001b[38;5;124m'\u001b[39m\u001b[38;5;124mReview\u001b[39m\u001b[38;5;124m'\u001b[39m] \u001b[38;5;241m=\u001b[39m \u001b[38;5;28mlist\u001b[39m(\u001b[43mreview_embeddings\u001b[49m)\n\u001b[0;32m      2\u001b[0m train_review_data\u001b[38;5;241m.\u001b[39mhead()\n",
      "\u001b[1;31mNameError\u001b[0m: name 'review_embeddings' is not defined"
     ]
    }
   ],
   "source": [
    "train_review_data['Review'] = list(review_embeddings)\n",
    "train_review_data.head()"
   ]
  },
  {
   "cell_type": "code",
   "execution_count": 44,
   "metadata": {},
   "outputs": [
    {
     "data": {
      "text/html": [
       "<div>\n",
       "<style scoped>\n",
       "    .dataframe tbody tr th:only-of-type {\n",
       "        vertical-align: middle;\n",
       "    }\n",
       "\n",
       "    .dataframe tbody tr th {\n",
       "        vertical-align: top;\n",
       "    }\n",
       "\n",
       "    .dataframe thead th {\n",
       "        text-align: right;\n",
       "    }\n",
       "</style>\n",
       "<table border=\"1\" class=\"dataframe\">\n",
       "  <thead>\n",
       "    <tr style=\"text-align: right;\">\n",
       "      <th></th>\n",
       "      <th>ReviewId</th>\n",
       "      <th>RecipeId</th>\n",
       "      <th>AuthorId</th>\n",
       "      <th>Rating</th>\n",
       "      <th>Review</th>\n",
       "      <th>year</th>\n",
       "      <th>month_sin</th>\n",
       "      <th>month_cos</th>\n",
       "    </tr>\n",
       "  </thead>\n",
       "  <tbody>\n",
       "    <tr>\n",
       "      <th>1369526</th>\n",
       "      <td>2055003</td>\n",
       "      <td>107786</td>\n",
       "      <td>2001757945</td>\n",
       "      <td>0.465609</td>\n",
       "      <td>[0.037868436, 0.02169174, -0.011475431, -0.004...</td>\n",
       "      <td>2018</td>\n",
       "      <td>5.000000e-01</td>\n",
       "      <td>-0.866025</td>\n",
       "    </tr>\n",
       "    <tr>\n",
       "      <th>145399</th>\n",
       "      <td>155996</td>\n",
       "      <td>13680</td>\n",
       "      <td>88099</td>\n",
       "      <td>-0.320427</td>\n",
       "      <td>[-0.018034594, -0.02860534, -0.032772142, 0.04...</td>\n",
       "      <td>2005</td>\n",
       "      <td>8.660254e-01</td>\n",
       "      <td>0.500000</td>\n",
       "    </tr>\n",
       "    <tr>\n",
       "      <th>498190</th>\n",
       "      <td>540194</td>\n",
       "      <td>2189</td>\n",
       "      <td>685371</td>\n",
       "      <td>0.465609</td>\n",
       "      <td>[-0.06688794, -0.06380604, -0.007883271, 0.010...</td>\n",
       "      <td>2007</td>\n",
       "      <td>-2.449294e-16</td>\n",
       "      <td>1.000000</td>\n",
       "    </tr>\n",
       "    <tr>\n",
       "      <th>96618</th>\n",
       "      <td>104617</td>\n",
       "      <td>89186</td>\n",
       "      <td>141139</td>\n",
       "      <td>0.465609</td>\n",
       "      <td>[-0.03430109, -0.012518336, 0.022372436, -0.02...</td>\n",
       "      <td>2004</td>\n",
       "      <td>5.000000e-01</td>\n",
       "      <td>-0.866025</td>\n",
       "    </tr>\n",
       "    <tr>\n",
       "      <th>1199756</th>\n",
       "      <td>1377986</td>\n",
       "      <td>497871</td>\n",
       "      <td>178427</td>\n",
       "      <td>0.465609</td>\n",
       "      <td>[-0.10111904, -0.088520795, -0.02396931, 0.020...</td>\n",
       "      <td>2013</td>\n",
       "      <td>8.660254e-01</td>\n",
       "      <td>-0.500000</td>\n",
       "    </tr>\n",
       "  </tbody>\n",
       "</table>\n",
       "</div>"
      ],
      "text/plain": [
       "         ReviewId  RecipeId    AuthorId    Rating  \\\n",
       "1369526   2055003    107786  2001757945  0.465609   \n",
       "145399     155996     13680       88099 -0.320427   \n",
       "498190     540194      2189      685371  0.465609   \n",
       "96618      104617     89186      141139  0.465609   \n",
       "1199756   1377986    497871      178427  0.465609   \n",
       "\n",
       "                                                    Review  year  \\\n",
       "1369526  [0.037868436, 0.02169174, -0.011475431, -0.004...  2018   \n",
       "145399   [-0.018034594, -0.02860534, -0.032772142, 0.04...  2005   \n",
       "498190   [-0.06688794, -0.06380604, -0.007883271, 0.010...  2007   \n",
       "96618    [-0.03430109, -0.012518336, 0.022372436, -0.02...  2004   \n",
       "1199756  [-0.10111904, -0.088520795, -0.02396931, 0.020...  2013   \n",
       "\n",
       "            month_sin  month_cos  \n",
       "1369526  5.000000e-01  -0.866025  \n",
       "145399   8.660254e-01   0.500000  \n",
       "498190  -2.449294e-16   1.000000  \n",
       "96618    5.000000e-01  -0.866025  \n",
       "1199756  8.660254e-01  -0.500000  "
      ]
     },
     "execution_count": 44,
     "metadata": {},
     "output_type": "execute_result"
    }
   ],
   "source": [
    "train_review_data.head()"
   ]
  },
  {
   "cell_type": "markdown",
   "metadata": {},
   "source": [
    "## Make Hopsworks Feature Group"
   ]
  },
  {
   "cell_type": "code",
   "execution_count": 30,
   "metadata": {},
   "outputs": [
    {
     "name": "stdout",
     "output_type": "stream",
     "text": [
      "2024-12-04 15:34:18,649 INFO: Initializing external client\n",
      "2024-12-04 15:34:18,653 INFO: Base URL: https://c.app.hopsworks.ai:443\n",
      "2024-12-04 15:34:22,063 INFO: Python Engine initialized.\n",
      "\n",
      "Logged in to project, explore it here https://c.app.hopsworks.ai:443/p/1193139\n"
     ]
    }
   ],
   "source": [
    "import hopsworks\n",
    "\n",
    "project = hopsworks.login()\n",
    "\n",
    "fs = project.get_feature_store()"
   ]
  },
  {
   "cell_type": "code",
   "execution_count": 34,
   "metadata": {},
   "outputs": [],
   "source": [
    "# Get or create the 'Reviews' feature group\n",
    "reviews_fg = fs.get_or_create_feature_group(\n",
    "    name=\"reviews\",\n",
    "    version=1,\n",
    "    description=\"Reviews for recipe recommender system.\",\n",
    "    primary_key=['reviewid']\n",
    ")"
   ]
  },
  {
   "cell_type": "code",
   "execution_count": 32,
   "metadata": {},
   "outputs": [
    {
     "name": "stdout",
     "output_type": "stream",
     "text": [
      "(1121585, 8)\n"
     ]
    }
   ],
   "source": [
    "print(train_review_data.shape)"
   ]
  },
  {
   "cell_type": "code",
   "execution_count": 35,
   "metadata": {},
   "outputs": [
    {
     "name": "stdout",
     "output_type": "stream",
     "text": [
      "Feature Group created successfully, explore it at \n",
      "https://c.app.hopsworks.ai:443/p/1193139/fs/1181782/fg/1377751\n"
     ]
    },
    {
     "name": "stderr",
     "output_type": "stream",
     "text": [
      "Uploading Dataframe: 100.00% |██████████| Rows 100/100 | Elapsed Time: 00:01 | Remaining Time: 00:00\n"
     ]
    },
    {
     "name": "stdout",
     "output_type": "stream",
     "text": [
      "Launching job: reviews_1_offline_fg_materialization\n",
      "Job started successfully, you can follow the progress at \n",
      "https://c.app.hopsworks.ai:443/p/1193139/jobs/named/reviews_1_offline_fg_materialization/executions\n"
     ]
    },
    {
     "data": {
      "text/plain": [
       "(Job('reviews_1_offline_fg_materialization', 'SPARK'), None)"
      ]
     },
     "execution_count": 35,
     "metadata": {},
     "output_type": "execute_result"
    }
   ],
   "source": [
    "# Insert data into feature group\n",
    "reviews_fg.insert(train_review_data.head(100))"
   ]
  },
  {
   "cell_type": "code",
   "execution_count": null,
   "metadata": {},
   "outputs": [],
   "source": [
    "feature_descriptions = [\n",
    "    {\"name\": \"reviewid\", \"description\": \"Unique identifier for each review\"},\n",
    "    {\"name\": \"recipeid\", \"description\": \"Identifier for the recipe being reviewed\"},\n",
    "    {\"name\": \"authorid\", \"description\": \"Identifier for the author of the review\"},\n",
    "    {\"name\": \"rating\", \"description\": \"Rating given by the author to the recipe (usually 1-5)\"},\n",
    "    {\"name\": \"review\", \"description\": \"Numerical representation of the review text (embedding vector from SentenceTransformer)\"},\n",
    "    {\"name\": \"year\", \"description\": \"Year when the review was last modified\"}\n",
    "    {\"name\": \"month_sin\", \"description\": \"Year when the review was last modified\"}\n",
    "    {\"name\": \"month_cos\", \"description\": \"Year when the review was last modified\"}\n",
    "]\n",
    "\n",
    "for desc in feature_descriptions: \n",
    "    reviews_fg.update_feature_description(desc[\"name\"], desc[\"description\"])"
   ]
  },
  {
   "cell_type": "markdown",
   "metadata": {
    "id": "vkwbrdeyqmyd"
   },
   "source": [
    "# Model Implementation"
   ]
  },
  {
   "cell_type": "markdown",
   "metadata": {},
   "source": [
    "## Review Tower (Query)"
   ]
  },
  {
   "cell_type": "code",
   "execution_count": 8,
   "metadata": {},
   "outputs": [],
   "source": [
    "import torch\n",
    "from torch.utils.data import Dataset\n",
    "\n",
    "class ReviewsDataset(Dataset):\n",
    "    def __init__(self, reviews_df):\n",
    "        \"\"\"\n",
    "        Args:\n",
    "            reviews_df (pd.DataFrame): Dataframe containing the reviews data.\n",
    "        \"\"\"\n",
    "        self.reviews_df = reviews_df\n",
    "\n",
    "    def __len__(self):\n",
    "        # Return the total number of samples\n",
    "        return len(self.reviews_df)\n",
    "\n",
    "    def __getitem__(self, idx):\n",
    "        \"\"\"\n",
    "        Args:\n",
    "            idx (int): Index of the sample to fetch.\n",
    "        Returns:\n",
    "            A dictionary with tensors for the input features and target rating.\n",
    "        \"\"\"\n",
    "        row = self.reviews_df.iloc[idx]\n",
    "        \n",
    "        # Extract features\n",
    "        review_id = row[\"reviewid\"]\n",
    "        recipe_id = row[\"recipeid\"]\n",
    "        author_id = row[\"authorid\"]\n",
    "        review_vector = torch.tensor(row[\"review\"], dtype=torch.float32)  # Convert list to tensor\n",
    "        year = torch.tensor(row[\"year\"], dtype=torch.float32)\n",
    "        month_sin = torch.tensor(row[\"month_sin\"], dtype=torch.float32)\n",
    "        month_cos = torch.tensor(row[\"month_cos\"], dtype=torch.float32)\n",
    "        # Rating (target)\n",
    "        rating = torch.tensor(row[\"rating\"], dtype=torch.float32)\n",
    "        # concat_features = torch.cat(review_vector, month_sin, month_cos)\n",
    "        # print(concat_features.shape)\n",
    "        return {\n",
    "            \"review_id\": review_id,\n",
    "            \"recipe_id\": recipe_id,\n",
    "            \"author_id\": author_id,\n",
    "            \"review_vector\": review_vector,\n",
    "            \"year\": year,\n",
    "            \"month_sin\": month_sin,\n",
    "            \"month_cos\": month_cos,\n",
    "            \"rating\": rating\n",
    "        }"
   ]
  },
  {
   "cell_type": "code",
   "execution_count": 17,
   "metadata": {},
   "outputs": [],
   "source": [
    "import torch\n",
    "import torch.nn as nn\n",
    "import torch.nn.functional as F\n",
    "\n",
    "class ReviewTower(nn.Module):\n",
    "    def __init__(self, review_vector_dim, embedding_dim):\n",
    "        \"\"\"\n",
    "        Args:\n",
    "            review_vector_dim (int): Dimensionality of the review feature vector.\n",
    "            embedding_dim (int): Dimensionality of the output embedding vector.\n",
    "        \"\"\"\n",
    "        super(ReviewTower, self).__init__()\n",
    "        self.fc1 = nn.Linear(review_vector_dim + 2 + 1 + 1, 128)  # Add month_sin, month_cos, and year, and rating\n",
    "        self.fc2 = nn.Linear(128, 64)\n",
    "        self.fc3 = nn.Linear(64, embedding_dim)  # Final embedding layer\n",
    "\n",
    "    def forward(self, review_vector, month_sin, month_cos, year, rating):\n",
    "        \"\"\"\n",
    "        Forward pass for the review tower.\n",
    "        \n",
    "        Args:\n",
    "            review_vector (Tensor): Review feature vector (e.g., sentence embedding).\n",
    "            month_sin (Tensor): Sinusoidal month feature.\n",
    "            month_cos (Tensor): Cosine month feature.\n",
    "            year (Tensor): Year feature.\n",
    "            rating (Tensor): Rating given to recipe\n",
    "        \n",
    "        Returns:\n",
    "            Tensor: Embedded vector for the review.\n",
    "        \"\"\"\n",
    "        # Concatenate all features\n",
    "        x = torch.cat((review_vector, month_sin.unsqueeze(1), month_cos.unsqueeze(1), year.unsqueeze(1), rating.unsqueeze(1)), dim=1)\n",
    "        \n",
    "        # Pass through fully connected layers\n",
    "        x = F.relu(self.fc1(x))\n",
    "        x = F.relu(self.fc2(x))\n",
    "        x = self.fc3(x)  # Final embedding vector\n",
    "        return x\n"
   ]
  },
  {
   "cell_type": "code",
   "execution_count": 18,
   "metadata": {},
   "outputs": [
    {
     "name": "stdout",
     "output_type": "stream",
     "text": [
      "Embedding shape: torch.Size([32, 32])\n",
      "tensor([[-16.8536,  -1.7923, -20.9973,  ...,   3.8912,  10.0015,  -5.3079],\n",
      "        [-16.8364,  -1.7911, -20.9835,  ...,   3.8780,  10.0000,  -5.3049],\n",
      "        [-16.8000,  -1.7892, -20.8927,  ...,   3.8727,   9.9704,  -5.2784],\n",
      "        ...,\n",
      "        [-16.8512,  -1.7773, -20.9771,  ...,   3.9032,   9.9881,  -5.2955],\n",
      "        [-16.8726,  -1.7950, -20.9874,  ...,   3.9013,  10.0037,  -5.2934],\n",
      "        [-16.8804,  -1.7952, -20.9999,  ...,   3.8994,  10.0272,  -5.3012]],\n",
      "       grad_fn=<AddmmBackward0>)\n"
     ]
    }
   ],
   "source": [
    "from torch.utils.data import DataLoader\n",
    "\n",
    "# Create the dataset\n",
    "reviews_dataset = ReviewsDataset(train_review_data)\n",
    "\n",
    "# Define dimensions\n",
    "review_vector_dim = len(train_review_data.iloc[0][\"review\"])  # Dimensionality of the \"review\" feature\n",
    "embedding_dim = 32  # Size of the output embedding vector (arbitrary, tunable)\n",
    "\n",
    "# Initialize the model\n",
    "review_tower = ReviewTower(review_vector_dim=review_vector_dim, embedding_dim=embedding_dim)\n",
    "\n",
    "# Create a DataLoader for batching\n",
    "batch_size = 32\n",
    "reviews_dataloader = DataLoader(reviews_dataset, batch_size=batch_size, shuffle=True)\n",
    "\n",
    "# Example: Iterate through the DataLoader\n",
    "for batch in reviews_dataloader:\n",
    "    review_embeddings = review_tower(batch[\"review_vector\"], batch[\"month_sin\"], batch[\"month_cos\"], batch[\"year\"], batch[\"rating\"])\n",
    "    print(\"Embedding shape:\", review_embeddings.shape)\n",
    "    print(review_embeddings)\n",
    "    break\n"
   ]
  },
  {
   "cell_type": "markdown",
   "metadata": {},
   "source": [
    "## Two-Tower Model"
   ]
  },
  {
   "cell_type": "code",
   "execution_count": null,
   "metadata": {
    "id": "6gbdLdgjcmbx"
   },
   "outputs": [],
   "source": [
    "import torch\n",
    "import torch.nn as nn\n",
    "import torch.nn.functional as F\n",
    "\n",
    "class TwoTowerRecommendationSystem(nn.Module):\n",
    "    def __init__(self,\n",
    "                 recipe_vocab_sizes, review_vocab_sizes,\n",
    "                 embedding_dim, numerical_dims):\n",
    "        super(TwoTowerRecommendationSystem, self).__init__()\n",
    "\n",
    "        # Embeddings for Recipe Tower\n",
    "        self.recipe_embeddings = nn.ModuleDict({\n",
    "            key: nn.Embedding(vocab_size, embedding_dim)\n",
    "            for key, vocab_size in recipe_vocab_sizes.items()\n",
    "        })\n",
    "\n",
    "        # Embeddings for Review Tower\n",
    "        self.review_embeddings = nn.ModuleDict({\n",
    "            key: nn.Embedding(vocab_size, embedding_dim)\n",
    "            for key, vocab_size in review_vocab_sizes.items()\n",
    "        })\n",
    "\n",
    "        # Recipe Tower Network\n",
    "        recipe_input_dim = len(recipe_vocab_sizes) * embedding_dim + numerical_dims['recipe']\n",
    "        self.recipe_fc = nn.Sequential(\n",
    "            nn.Linear(recipe_input_dim, 128),\n",
    "            nn.ReLU(),\n",
    "            nn.Linear(128, 64)\n",
    "        )\n",
    "\n",
    "        # Review Tower Network\n",
    "        review_input_dim = len(review_vocab_sizes) * embedding_dim + numerical_dims['review']\n",
    "        self.review_fc = nn.Sequential(\n",
    "            nn.Linear(review_input_dim, 128),\n",
    "            nn.ReLU(),\n",
    "            nn.Linear(128, 64)\n",
    "        )\n",
    "\n",
    "    def forward(self, recipe_inputs, review_inputs):\n",
    "        # Recipe Tower\n",
    "        recipe_embeds = [\n",
    "            self.recipe_embeddings[key](value)\n",
    "            for key, value in recipe_inputs['categorical'].items()\n",
    "        ]\n",
    "        recipe_embeds = torch.cat(recipe_embeds, dim=-1)\n",
    "        recipe_combined = torch.cat([recipe_embeds, recipe_inputs['numerical']], dim=-1)\n",
    "        recipe_output = self.recipe_fc(recipe_combined)\n",
    "\n",
    "        # Review Tower\n",
    "        review_embeds = [\n",
    "            self.review_embeddings[key](value)\n",
    "            for key, value in review_inputs['categorical'].items()\n",
    "        ]\n",
    "        review_embeds = torch.cat(review_embeds, dim=-1)\n",
    "        review_combined = torch.cat([review_embeds, review_inputs['numerical']], dim=-1)\n",
    "        review_output = self.review_fc(review_combined)\n",
    "\n",
    "        # Calculate similarity (dot product or cosine similarity)\n",
    "        similarity = F.cosine_similarity(recipe_output, review_output, dim=-1)\n",
    "\n",
    "        return similarity"
   ]
  },
  {
   "cell_type": "markdown",
   "metadata": {
    "id": "OJu6I-Bwqoju"
   },
   "source": [
    "# Training"
   ]
  },
  {
   "cell_type": "code",
   "execution_count": null,
   "metadata": {
    "id": "AJA1ZRJVqpTw"
   },
   "outputs": [],
   "source": []
  }
 ],
 "metadata": {
  "colab": {
   "provenance": []
  },
  "kernelspec": {
   "display_name": ".venv",
   "language": "python",
   "name": "python3"
  },
  "language_info": {
   "codemirror_mode": {
    "name": "ipython",
    "version": 3
   },
   "file_extension": ".py",
   "mimetype": "text/x-python",
   "name": "python",
   "nbconvert_exporter": "python",
   "pygments_lexer": "ipython3",
   "version": "3.11.8"
  }
 },
 "nbformat": 4,
 "nbformat_minor": 0
}

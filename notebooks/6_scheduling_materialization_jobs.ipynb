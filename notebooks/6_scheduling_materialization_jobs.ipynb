{
 "cells": [
  {
   "cell_type": "markdown",
   "id": "6d91c23d",
   "metadata": {},
   "source": [
    "# Set up environment"
   ]
  },
  {
   "cell_type": "code",
   "execution_count": 1,
   "id": "20f093e1",
   "metadata": {},
   "outputs": [
    {
     "name": "stdout",
     "output_type": "stream",
     "text": [
      "⛳️ Local environment\n",
      "Adding the following directory to the PYTHONPATH: /Users/pauliusztin/Documents/01_projects/hopsworks_recsys/hands-on-recommender-system\n"
     ]
    }
   ],
   "source": [
    "import sys\n",
    "from pathlib import Path\n",
    "\n",
    "\n",
    "def is_google_colab() -> bool:\n",
    "    if \"google.colab\" in str(get_ipython()):\n",
    "        return True\n",
    "    return False\n",
    "\n",
    "\n",
    "def clone_repository() -> None:\n",
    "    !git clone https://github.com/decodingml/hands-on-recommender-system.git\n",
    "    %cd hands-on-recommender-system/\n",
    "\n",
    "\n",
    "def install_dependencies() -> None:\n",
    "    !pip install --upgrade uv\n",
    "    !uv pip install --all-extras --system --requirement pyproject.toml\n",
    "\n",
    "\n",
    "if is_google_colab():\n",
    "    clone_repository()\n",
    "    install_dependencies()\n",
    "\n",
    "    root_dir = str(Path().absolute())\n",
    "    print(\"⛳️ Google Colab environment\")\n",
    "else:\n",
    "    root_dir = str(Path().absolute().parent)\n",
    "    print(\"⛳️ Local environment\")\n",
    "\n",
    "# Add the root directory to the `PYTHONPATH` to use the `recsys` Python module from the notebook.\n",
    "if root_dir not in sys.path:\n",
    "    print(f\"Adding the following directory to the PYTHONPATH: {root_dir}\")\n",
    "    sys.path.append(root_dir)"
   ]
  },
  {
   "cell_type": "markdown",
   "id": "6a8f7546",
   "metadata": {},
   "source": [
    "# <span style=\"color:#ff5f27\"> Scheduling Hopsworks materialization jobs </span>\n"
   ]
  },
  {
   "cell_type": "markdown",
   "id": "b204608b",
   "metadata": {},
   "source": [
    "## 📝 Imports"
   ]
  },
  {
   "cell_type": "code",
   "execution_count": 2,
   "id": "06390a5b",
   "metadata": {},
   "outputs": [],
   "source": [
    "from datetime import datetime, timezone\n",
    "\n",
    "from recsys import hopsworks_integration"
   ]
  },
  {
   "cell_type": "markdown",
   "id": "7a931086",
   "metadata": {},
   "source": [
    "## <span style=\"color:#ff5f27\">🔮 Connect to Hopsworks Feature Store </span>"
   ]
  },
  {
   "cell_type": "code",
   "execution_count": 3,
   "id": "ef7a5e64",
   "metadata": {},
   "outputs": [
    {
     "name": "stderr",
     "output_type": "stream",
     "text": [
      "\u001b[32m2024-11-20 19:11:47.622\u001b[0m | \u001b[1mINFO    \u001b[0m | \u001b[36mrecsys.integrations.hopsworks_integration\u001b[0m:\u001b[36mget_feature_store\u001b[0m:\u001b[36m9\u001b[0m - \u001b[1mLoging to Hopsworks using HOPSWORKS_API_KEY env var.\u001b[0m\n"
     ]
    },
    {
     "name": "stdout",
     "output_type": "stream",
     "text": [
      "Connected. Call `.close()` to terminate connection gracefully.\n",
      "\n",
      "Logged in to project, explore it here https://c.app.hopsworks.ai:443/p/15551\n",
      "Connected. Call `.close()` to terminate connection gracefully.\n"
     ]
    }
   ],
   "source": [
    "project, fs = hopsworks_integration.get_feature_store()\n",
    "\n",
    "jobs_api = project.get_jobs_api()"
   ]
  },
  {
   "cell_type": "markdown",
   "id": "cea06db9",
   "metadata": {},
   "source": [
    "# Retrieving materialization jobs\n"
   ]
  },
  {
   "cell_type": "code",
   "execution_count": 4,
   "id": "92f62c85",
   "metadata": {},
   "outputs": [
    {
     "data": {
      "text/plain": [
       "Job('interactions_1_offline_fg_materialization', 'SPARK')"
      ]
     },
     "execution_count": 4,
     "metadata": {},
     "output_type": "execute_result"
    }
   ],
   "source": [
    "interactions_job = jobs_api.get_job('interactions_1_offline_fg_materialization')\n",
    "interactions_job"
   ]
  },
  {
   "cell_type": "code",
   "execution_count": 5,
   "id": "128827f1",
   "metadata": {},
   "outputs": [
    {
     "data": {
      "text/plain": [
       "Job('transactions_1_offline_fg_materialization', 'SPARK')"
      ]
     },
     "execution_count": 5,
     "metadata": {},
     "output_type": "execute_result"
    }
   ],
   "source": [
    "transactions_job = jobs_api.get_job('transactions_1_offline_fg_materialization')\n",
    "transactions_job"
   ]
  },
  {
   "cell_type": "markdown",
   "id": "f78e6278",
   "metadata": {},
   "source": [
    "# Running materialization jobs\n"
   ]
  },
  {
   "cell_type": "code",
   "execution_count": 6,
   "id": "f79e13a5",
   "metadata": {},
   "outputs": [
    {
     "name": "stdout",
     "output_type": "stream",
     "text": [
      "Execution started, explore it at https://c.app.hopsworks.ai:443/p/15551/jobs/named/interactions_1_offline_fg_materialization/executions\n"
     ]
    },
    {
     "data": {
      "text/plain": [
       "Execution('UNDEFINED', 'INITIALIZING', '2024-11-20T17:11:50.435Z', '-op offline_fg_materialization -path hdfs:///Projects/pbiuszti/Resources/jobs/interactions_1_offline_fg_materialization/config_1732029249189')"
      ]
     },
     "execution_count": 6,
     "metadata": {},
     "output_type": "execute_result"
    }
   ],
   "source": [
    "interactions_job_execution = interactions_job.run()\n",
    "interactions_job_execution"
   ]
  },
  {
   "cell_type": "code",
   "execution_count": 7,
   "id": "8dc5cc7e",
   "metadata": {},
   "outputs": [
    {
     "name": "stdout",
     "output_type": "stream",
     "text": [
      "Execution started, explore it at https://c.app.hopsworks.ai:443/p/15551/jobs/named/transactions_1_offline_fg_materialization/executions\n"
     ]
    },
    {
     "data": {
      "text/plain": [
       "Execution('UNDEFINED', 'INITIALIZING', '2024-11-20T17:11:50.696Z', '-op offline_fg_materialization -path hdfs:///Projects/pbiuszti/Resources/jobs/transactions_1_offline_fg_materialization/config_1732029226605')"
      ]
     },
     "execution_count": 7,
     "metadata": {},
     "output_type": "execute_result"
    }
   ],
   "source": [
    "transactions_job_execution = transactions_job.run()\n",
    "transactions_job_execution"
   ]
  },
  {
   "cell_type": "markdown",
   "id": "2f45a3f3",
   "metadata": {},
   "source": [
    "## <span style=\"color:#ff5f27\">⏰ Scheduling materialization jobs </span>\n"
   ]
  },
  {
   "cell_type": "code",
   "execution_count": 8,
   "id": "b95eb11a",
   "metadata": {},
   "outputs": [
    {
     "data": {
      "text/plain": [
       "datetime.datetime(2024, 11, 21, 0, 0, tzinfo=datetime.timezone.utc)"
      ]
     },
     "execution_count": 8,
     "metadata": {},
     "output_type": "execute_result"
    }
   ],
   "source": [
    "interactions_job.schedule(\n",
    "    cron_expression=\"0 0 0 * * ?\",  # Runs at midnight (00:00:00) every day\n",
    "    start_time=datetime.now(tz=timezone.utc),\n",
    ")\n",
    "interactions_job.job_schedule.next_execution_date_time"
   ]
  },
  {
   "cell_type": "code",
   "execution_count": 9,
   "id": "97d546e5",
   "metadata": {},
   "outputs": [
    {
     "data": {
      "text/plain": [
       "datetime.datetime(2024, 11, 21, 0, 0, tzinfo=datetime.timezone.utc)"
      ]
     },
     "execution_count": 9,
     "metadata": {},
     "output_type": "execute_result"
    }
   ],
   "source": [
    "transactions_job.schedule(\n",
    "    cron_expression=\"0 0 0 * * ?\",  # Runs at midnight (00:00:00) every day\n",
    "    start_time=datetime.now(tz=timezone.utc),\n",
    ")\n",
    "transactions_job.job_schedule.next_execution_date_time"
   ]
  },
  {
   "cell_type": "markdown",
   "id": "db866c1f",
   "metadata": {},
   "source": [
    "## <span style=\"color:#ff5f27\"> Inspecting the materialization jobs in Hopsworks UI </span>\n",
    "\n",
    "View results in [Hopsworks Serverless](https://rebrand.ly/serverless-github): **Compute → Ingestions**"
   ]
  }
 ],
 "metadata": {
  "kernelspec": {
   "display_name": "Python 3",
   "language": "python",
   "name": "python3"
  },
  "language_info": {
   "codemirror_mode": {
    "name": "ipython",
    "version": 3
   },
   "file_extension": ".py",
   "mimetype": "text/x-python",
   "name": "python",
   "nbconvert_exporter": "python",
   "pygments_lexer": "ipython3",
   "version": "3.11.8"
  }
 },
 "nbformat": 4,
 "nbformat_minor": 5
}
